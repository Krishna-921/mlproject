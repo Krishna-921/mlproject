{
 "cells": [
  {
   "cell_type": "code",
   "execution_count": 1,
   "metadata": {},
   "outputs": [],
   "source": [
    "import pandas as pd\n",
    "import numpy as np\n",
    "\n",
    "from sklearn.model_selection import train_test_split\n",
    "\n",
    "from sklearn.feature_selection import VarianceThreshold\n",
    "import warnings\n",
    "warnings.filterwarnings(\"ignore\")"
   ]
  },
  {
   "cell_type": "code",
   "execution_count": 2,
   "metadata": {},
   "outputs": [
    {
     "data": {
      "text/plain": [
       "(50000, 19)"
      ]
     },
     "execution_count": 2,
     "metadata": {},
     "output_type": "execute_result"
    }
   ],
   "source": [
    "# load  dataset\n",
    "data = pd.read_csv('H2HBABBA2629.csv')\n",
    "data.shape"
   ]
  },
  {
   "cell_type": "markdown",
   "metadata": {},
   "source": [
    "# Train-Test Split"
   ]
  },
  {
   "cell_type": "code",
   "execution_count": 3,
   "metadata": {},
   "outputs": [],
   "source": [
    "# train test split\n",
    "train=data.loc[data['clear_date'].notnull()]\n",
    "test =data.loc[data['clear_date'].isnull()]"
   ]
  },
  {
   "cell_type": "code",
   "execution_count": 4,
   "metadata": {},
   "outputs": [
    {
     "data": {
      "text/plain": [
       "((40000, 19), (10000, 19))"
      ]
     },
     "execution_count": 4,
     "metadata": {},
     "output_type": "execute_result"
    }
   ],
   "source": [
    "train.shape,test.shape"
   ]
  },
  {
   "cell_type": "markdown",
   "metadata": {},
   "source": [
    "# Preprocessing"
   ]
  },
  {
   "cell_type": "markdown",
   "metadata": {},
   "source": [
    "# Null imputation"
   ]
  },
  {
   "cell_type": "code",
   "execution_count": 5,
   "metadata": {},
   "outputs": [
    {
     "data": {
      "text/html": [
       "<div>\n",
       "<style scoped>\n",
       "    .dataframe tbody tr th:only-of-type {\n",
       "        vertical-align: middle;\n",
       "    }\n",
       "\n",
       "    .dataframe tbody tr th {\n",
       "        vertical-align: top;\n",
       "    }\n",
       "\n",
       "    .dataframe thead th {\n",
       "        text-align: right;\n",
       "    }\n",
       "</style>\n",
       "<table border=\"1\" class=\"dataframe\">\n",
       "  <thead>\n",
       "    <tr style=\"text-align: right;\">\n",
       "      <th></th>\n",
       "      <th>buisness_year</th>\n",
       "      <th>doc_id</th>\n",
       "      <th>document_create_date</th>\n",
       "      <th>document_create_date.1</th>\n",
       "      <th>due_in_date</th>\n",
       "      <th>posting_id</th>\n",
       "      <th>area_business</th>\n",
       "      <th>total_open_amount</th>\n",
       "      <th>baseline_create_date</th>\n",
       "      <th>invoice_id</th>\n",
       "      <th>isOpen</th>\n",
       "    </tr>\n",
       "  </thead>\n",
       "  <tbody>\n",
       "    <tr>\n",
       "      <th>count</th>\n",
       "      <td>40000.000000</td>\n",
       "      <td>4.000000e+04</td>\n",
       "      <td>4.000000e+04</td>\n",
       "      <td>4.000000e+04</td>\n",
       "      <td>4.000000e+04</td>\n",
       "      <td>40000.0</td>\n",
       "      <td>0.0</td>\n",
       "      <td>4.000000e+04</td>\n",
       "      <td>4.000000e+04</td>\n",
       "      <td>3.999600e+04</td>\n",
       "      <td>40000.0</td>\n",
       "    </tr>\n",
       "    <tr>\n",
       "      <th>mean</th>\n",
       "      <td>2019.132700</td>\n",
       "      <td>2.010252e+09</td>\n",
       "      <td>2.019179e+07</td>\n",
       "      <td>2.019183e+07</td>\n",
       "      <td>2.019200e+07</td>\n",
       "      <td>1.0</td>\n",
       "      <td>NaN</td>\n",
       "      <td>3.219895e+04</td>\n",
       "      <td>2.019183e+07</td>\n",
       "      <td>2.009503e+09</td>\n",
       "      <td>0.0</td>\n",
       "    </tr>\n",
       "    <tr>\n",
       "      <th>std</th>\n",
       "      <td>0.339254</td>\n",
       "      <td>2.839516e+08</td>\n",
       "      <td>3.248662e+03</td>\n",
       "      <td>3.243445e+03</td>\n",
       "      <td>3.287676e+03</td>\n",
       "      <td>0.0</td>\n",
       "      <td>NaN</td>\n",
       "      <td>4.025293e+04</td>\n",
       "      <td>3.245037e+03</td>\n",
       "      <td>2.739082e+08</td>\n",
       "      <td>0.0</td>\n",
       "    </tr>\n",
       "    <tr>\n",
       "      <th>min</th>\n",
       "      <td>2019.000000</td>\n",
       "      <td>1.928500e+09</td>\n",
       "      <td>2.018123e+07</td>\n",
       "      <td>2.018062e+07</td>\n",
       "      <td>2.018063e+07</td>\n",
       "      <td>1.0</td>\n",
       "      <td>NaN</td>\n",
       "      <td>8.400000e-01</td>\n",
       "      <td>2.018062e+07</td>\n",
       "      <td>1.928500e+09</td>\n",
       "      <td>0.0</td>\n",
       "    </tr>\n",
       "    <tr>\n",
       "      <th>25%</th>\n",
       "      <td>2019.000000</td>\n",
       "      <td>1.929174e+09</td>\n",
       "      <td>2.019041e+07</td>\n",
       "      <td>2.019041e+07</td>\n",
       "      <td>2.019043e+07</td>\n",
       "      <td>1.0</td>\n",
       "      <td>NaN</td>\n",
       "      <td>4.676085e+03</td>\n",
       "      <td>2.019041e+07</td>\n",
       "      <td>1.929174e+09</td>\n",
       "      <td>0.0</td>\n",
       "    </tr>\n",
       "    <tr>\n",
       "      <th>50%</th>\n",
       "      <td>2019.000000</td>\n",
       "      <td>1.929718e+09</td>\n",
       "      <td>2.019072e+07</td>\n",
       "      <td>2.019072e+07</td>\n",
       "      <td>2.019081e+07</td>\n",
       "      <td>1.0</td>\n",
       "      <td>NaN</td>\n",
       "      <td>1.726131e+04</td>\n",
       "      <td>2.019072e+07</td>\n",
       "      <td>1.929718e+09</td>\n",
       "      <td>0.0</td>\n",
       "    </tr>\n",
       "    <tr>\n",
       "      <th>75%</th>\n",
       "      <td>2019.000000</td>\n",
       "      <td>1.930205e+09</td>\n",
       "      <td>2.019103e+07</td>\n",
       "      <td>2.019103e+07</td>\n",
       "      <td>2.019112e+07</td>\n",
       "      <td>1.0</td>\n",
       "      <td>NaN</td>\n",
       "      <td>4.642275e+04</td>\n",
       "      <td>2.019103e+07</td>\n",
       "      <td>1.930205e+09</td>\n",
       "      <td>0.0</td>\n",
       "    </tr>\n",
       "    <tr>\n",
       "      <th>max</th>\n",
       "      <td>2020.000000</td>\n",
       "      <td>9.500000e+09</td>\n",
       "      <td>2.020030e+07</td>\n",
       "      <td>2.020023e+07</td>\n",
       "      <td>2.020062e+07</td>\n",
       "      <td>1.0</td>\n",
       "      <td>NaN</td>\n",
       "      <td>1.501474e+06</td>\n",
       "      <td>2.020032e+07</td>\n",
       "      <td>2.960617e+09</td>\n",
       "      <td>0.0</td>\n",
       "    </tr>\n",
       "  </tbody>\n",
       "</table>\n",
       "</div>"
      ],
      "text/plain": [
       "       buisness_year        doc_id  document_create_date  \\\n",
       "count   40000.000000  4.000000e+04          4.000000e+04   \n",
       "mean     2019.132700  2.010252e+09          2.019179e+07   \n",
       "std         0.339254  2.839516e+08          3.248662e+03   \n",
       "min      2019.000000  1.928500e+09          2.018123e+07   \n",
       "25%      2019.000000  1.929174e+09          2.019041e+07   \n",
       "50%      2019.000000  1.929718e+09          2.019072e+07   \n",
       "75%      2019.000000  1.930205e+09          2.019103e+07   \n",
       "max      2020.000000  9.500000e+09          2.020030e+07   \n",
       "\n",
       "       document_create_date.1   due_in_date  posting_id  area_business  \\\n",
       "count            4.000000e+04  4.000000e+04     40000.0            0.0   \n",
       "mean             2.019183e+07  2.019200e+07         1.0            NaN   \n",
       "std              3.243445e+03  3.287676e+03         0.0            NaN   \n",
       "min              2.018062e+07  2.018063e+07         1.0            NaN   \n",
       "25%              2.019041e+07  2.019043e+07         1.0            NaN   \n",
       "50%              2.019072e+07  2.019081e+07         1.0            NaN   \n",
       "75%              2.019103e+07  2.019112e+07         1.0            NaN   \n",
       "max              2.020023e+07  2.020062e+07         1.0            NaN   \n",
       "\n",
       "       total_open_amount  baseline_create_date    invoice_id   isOpen  \n",
       "count       4.000000e+04          4.000000e+04  3.999600e+04  40000.0  \n",
       "mean        3.219895e+04          2.019183e+07  2.009503e+09      0.0  \n",
       "std         4.025293e+04          3.245037e+03  2.739082e+08      0.0  \n",
       "min         8.400000e-01          2.018062e+07  1.928500e+09      0.0  \n",
       "25%         4.676085e+03          2.019041e+07  1.929174e+09      0.0  \n",
       "50%         1.726131e+04          2.019072e+07  1.929718e+09      0.0  \n",
       "75%         4.642275e+04          2.019103e+07  1.930205e+09      0.0  \n",
       "max         1.501474e+06          2.020032e+07  2.960617e+09      0.0  "
      ]
     },
     "execution_count": 5,
     "metadata": {},
     "output_type": "execute_result"
    }
   ],
   "source": [
    "train.describe() # geting the mean max count "
   ]
  },
  {
   "cell_type": "code",
   "execution_count": 6,
   "metadata": {},
   "outputs": [
    {
     "data": {
      "text/plain": [
       "business_code                 0\n",
       "cust_number                   0\n",
       "name_customer                 0\n",
       "clear_date                    0\n",
       "buisness_year                 0\n",
       "doc_id                        0\n",
       "posting_date                  0\n",
       "document_create_date          0\n",
       "document_create_date.1        0\n",
       "due_in_date                   0\n",
       "invoice_currency              0\n",
       "document type                 0\n",
       "posting_id                    0\n",
       "area_business             40000\n",
       "total_open_amount             0\n",
       "baseline_create_date          0\n",
       "cust_payment_terms            0\n",
       "invoice_id                    4\n",
       "isOpen                        0\n",
       "dtype: int64"
      ]
     },
     "execution_count": 6,
     "metadata": {},
     "output_type": "execute_result"
    }
   ],
   "source": [
    "train.isna().sum() # checking for null values in column"
   ]
  },
  {
   "cell_type": "code",
   "execution_count": 7,
   "metadata": {},
   "outputs": [],
   "source": [
    "train.drop('area_business',axis=1,inplace=True) # droping the fully null column"
   ]
  },
  {
   "cell_type": "code",
   "execution_count": 8,
   "metadata": {},
   "outputs": [],
   "source": [
    "train.dropna(subset=['invoice_id'],axis=0,how='any',inplace=True) # droping partial null column"
   ]
  },
  {
   "cell_type": "code",
   "execution_count": 9,
   "metadata": {
    "scrolled": false
   },
   "outputs": [
    {
     "data": {
      "text/plain": [
       "business_code             0\n",
       "cust_number               0\n",
       "name_customer             0\n",
       "clear_date                0\n",
       "buisness_year             0\n",
       "doc_id                    0\n",
       "posting_date              0\n",
       "document_create_date      0\n",
       "document_create_date.1    0\n",
       "due_in_date               0\n",
       "invoice_currency          0\n",
       "document type             0\n",
       "posting_id                0\n",
       "total_open_amount         0\n",
       "baseline_create_date      0\n",
       "cust_payment_terms        0\n",
       "invoice_id                0\n",
       "isOpen                    0\n",
       "dtype: int64"
      ]
     },
     "execution_count": 9,
     "metadata": {},
     "output_type": "execute_result"
    }
   ],
   "source": [
    "train.isna().sum()  # all the null value has been drop"
   ]
  },
  {
   "cell_type": "code",
   "execution_count": 10,
   "metadata": {},
   "outputs": [
    {
     "data": {
      "text/plain": [
       "1.0"
      ]
     },
     "execution_count": 10,
     "metadata": {},
     "output_type": "execute_result"
    }
   ],
   "source": [
    "train['doc_id'].corr(train['invoice_id']) # checking corrleation of these data"
   ]
  },
  {
   "cell_type": "code",
   "execution_count": 11,
   "metadata": {},
   "outputs": [],
   "source": [
    "#droping column as it's completely correlated  with  Invoice_id\n",
    "train.drop('doc_id',axis=1,inplace=True)"
   ]
  },
  {
   "cell_type": "code",
   "execution_count": 12,
   "metadata": {},
   "outputs": [
    {
     "data": {
      "text/plain": [
       "0.9856633906229535"
      ]
     },
     "execution_count": 12,
     "metadata": {},
     "output_type": "execute_result"
    }
   ],
   "source": [
    "train['document_create_date'].corr(train['document_create_date.1']) # checking corrleation of these data"
   ]
  },
  {
   "cell_type": "code",
   "execution_count": 13,
   "metadata": {},
   "outputs": [],
   "source": [
    "#droping column as it's completely correlated  with  document_create_date.1\n",
    "train.drop('document_create_date.1',axis=1,inplace=True)"
   ]
  },
  {
   "cell_type": "code",
   "execution_count": 14,
   "metadata": {},
   "outputs": [],
   "source": [
    "#duplicate row removal\n",
    "train=train.drop_duplicates(keep='first')"
   ]
  },
  {
   "cell_type": "code",
   "execution_count": 15,
   "metadata": {},
   "outputs": [
    {
     "data": {
      "text/plain": [
       "(39139, 16)"
      ]
     },
     "execution_count": 15,
     "metadata": {},
     "output_type": "execute_result"
    }
   ],
   "source": [
    "train.shape #confirming droped value"
   ]
  },
  {
   "cell_type": "code",
   "execution_count": 16,
   "metadata": {},
   "outputs": [],
   "source": [
    "train.drop('document type',axis=1,inplace=True) # droping Document type as it has constant value"
   ]
  },
  {
   "cell_type": "code",
   "execution_count": 17,
   "metadata": {
    "scrolled": true
   },
   "outputs": [
    {
     "data": {
      "text/html": [
       "<div>\n",
       "<style scoped>\n",
       "    .dataframe tbody tr th:only-of-type {\n",
       "        vertical-align: middle;\n",
       "    }\n",
       "\n",
       "    .dataframe tbody tr th {\n",
       "        vertical-align: top;\n",
       "    }\n",
       "\n",
       "    .dataframe thead th {\n",
       "        text-align: right;\n",
       "    }\n",
       "</style>\n",
       "<table border=\"1\" class=\"dataframe\">\n",
       "  <thead>\n",
       "    <tr style=\"text-align: right;\">\n",
       "      <th></th>\n",
       "      <th>buisness_year</th>\n",
       "      <th>document_create_date</th>\n",
       "      <th>due_in_date</th>\n",
       "      <th>posting_id</th>\n",
       "      <th>total_open_amount</th>\n",
       "      <th>baseline_create_date</th>\n",
       "      <th>invoice_id</th>\n",
       "      <th>isOpen</th>\n",
       "    </tr>\n",
       "  </thead>\n",
       "  <tbody>\n",
       "    <tr>\n",
       "      <th>buisness_year</th>\n",
       "      <td>0.115023</td>\n",
       "      <td>1.043770e+03</td>\n",
       "      <td>1.088925e+03</td>\n",
       "      <td>0.0</td>\n",
       "      <td>-1.172311e+02</td>\n",
       "      <td>1.058587e+03</td>\n",
       "      <td>-1.813568e+05</td>\n",
       "      <td>0.0</td>\n",
       "    </tr>\n",
       "    <tr>\n",
       "      <th>document_create_date</th>\n",
       "      <td>1043.770400</td>\n",
       "      <td>1.055045e+07</td>\n",
       "      <td>1.003051e+07</td>\n",
       "      <td>0.0</td>\n",
       "      <td>-5.351736e+05</td>\n",
       "      <td>1.036266e+07</td>\n",
       "      <td>2.415616e+09</td>\n",
       "      <td>0.0</td>\n",
       "    </tr>\n",
       "    <tr>\n",
       "      <th>due_in_date</th>\n",
       "      <td>1088.925078</td>\n",
       "      <td>1.003051e+07</td>\n",
       "      <td>1.079510e+07</td>\n",
       "      <td>0.0</td>\n",
       "      <td>-1.243690e+06</td>\n",
       "      <td>1.016673e+07</td>\n",
       "      <td>-2.748104e+09</td>\n",
       "      <td>0.0</td>\n",
       "    </tr>\n",
       "    <tr>\n",
       "      <th>posting_id</th>\n",
       "      <td>0.000000</td>\n",
       "      <td>0.000000e+00</td>\n",
       "      <td>0.000000e+00</td>\n",
       "      <td>0.0</td>\n",
       "      <td>0.000000e+00</td>\n",
       "      <td>0.000000e+00</td>\n",
       "      <td>0.000000e+00</td>\n",
       "      <td>0.0</td>\n",
       "    </tr>\n",
       "    <tr>\n",
       "      <th>total_open_amount</th>\n",
       "      <td>-117.231062</td>\n",
       "      <td>-5.351736e+05</td>\n",
       "      <td>-1.243690e+06</td>\n",
       "      <td>0.0</td>\n",
       "      <td>1.624771e+09</td>\n",
       "      <td>-7.006923e+05</td>\n",
       "      <td>2.036088e+12</td>\n",
       "      <td>0.0</td>\n",
       "    </tr>\n",
       "    <tr>\n",
       "      <th>baseline_create_date</th>\n",
       "      <td>1058.586825</td>\n",
       "      <td>1.036266e+07</td>\n",
       "      <td>1.016673e+07</td>\n",
       "      <td>0.0</td>\n",
       "      <td>-7.006923e+05</td>\n",
       "      <td>1.051986e+07</td>\n",
       "      <td>4.382170e+09</td>\n",
       "      <td>0.0</td>\n",
       "    </tr>\n",
       "    <tr>\n",
       "      <th>invoice_id</th>\n",
       "      <td>-181356.778917</td>\n",
       "      <td>2.415616e+09</td>\n",
       "      <td>-2.748104e+09</td>\n",
       "      <td>0.0</td>\n",
       "      <td>2.036088e+12</td>\n",
       "      <td>4.382170e+09</td>\n",
       "      <td>7.510773e+16</td>\n",
       "      <td>0.0</td>\n",
       "    </tr>\n",
       "    <tr>\n",
       "      <th>isOpen</th>\n",
       "      <td>0.000000</td>\n",
       "      <td>0.000000e+00</td>\n",
       "      <td>0.000000e+00</td>\n",
       "      <td>0.0</td>\n",
       "      <td>0.000000e+00</td>\n",
       "      <td>0.000000e+00</td>\n",
       "      <td>0.000000e+00</td>\n",
       "      <td>0.0</td>\n",
       "    </tr>\n",
       "  </tbody>\n",
       "</table>\n",
       "</div>"
      ],
      "text/plain": [
       "                      buisness_year  document_create_date   due_in_date  \\\n",
       "buisness_year              0.115023          1.043770e+03  1.088925e+03   \n",
       "document_create_date    1043.770400          1.055045e+07  1.003051e+07   \n",
       "due_in_date             1088.925078          1.003051e+07  1.079510e+07   \n",
       "posting_id                 0.000000          0.000000e+00  0.000000e+00   \n",
       "total_open_amount       -117.231062         -5.351736e+05 -1.243690e+06   \n",
       "baseline_create_date    1058.586825          1.036266e+07  1.016673e+07   \n",
       "invoice_id           -181356.778917          2.415616e+09 -2.748104e+09   \n",
       "isOpen                     0.000000          0.000000e+00  0.000000e+00   \n",
       "\n",
       "                      posting_id  total_open_amount  baseline_create_date  \\\n",
       "buisness_year                0.0      -1.172311e+02          1.058587e+03   \n",
       "document_create_date         0.0      -5.351736e+05          1.036266e+07   \n",
       "due_in_date                  0.0      -1.243690e+06          1.016673e+07   \n",
       "posting_id                   0.0       0.000000e+00          0.000000e+00   \n",
       "total_open_amount            0.0       1.624771e+09         -7.006923e+05   \n",
       "baseline_create_date         0.0      -7.006923e+05          1.051986e+07   \n",
       "invoice_id                   0.0       2.036088e+12          4.382170e+09   \n",
       "isOpen                       0.0       0.000000e+00          0.000000e+00   \n",
       "\n",
       "                        invoice_id  isOpen  \n",
       "buisness_year        -1.813568e+05     0.0  \n",
       "document_create_date  2.415616e+09     0.0  \n",
       "due_in_date          -2.748104e+09     0.0  \n",
       "posting_id            0.000000e+00     0.0  \n",
       "total_open_amount     2.036088e+12     0.0  \n",
       "baseline_create_date  4.382170e+09     0.0  \n",
       "invoice_id            7.510773e+16     0.0  \n",
       "isOpen                0.000000e+00     0.0  "
      ]
     },
     "execution_count": 17,
     "metadata": {},
     "output_type": "execute_result"
    }
   ],
   "source": [
    "train.cov() #Checking for covarience"
   ]
  },
  {
   "cell_type": "code",
   "execution_count": 18,
   "metadata": {},
   "outputs": [
    {
     "data": {
      "text/plain": [
       "business_code               6\n",
       "cust_number              1338\n",
       "name_customer            3898\n",
       "clear_date                395\n",
       "buisness_year               2\n",
       "posting_date              423\n",
       "document_create_date      427\n",
       "due_in_date               486\n",
       "invoice_currency            2\n",
       "posting_id                  1\n",
       "total_open_amount       35586\n",
       "baseline_create_date      430\n",
       "cust_payment_terms         68\n",
       "invoice_id              39139\n",
       "isOpen                      1\n",
       "dtype: int64"
      ]
     },
     "execution_count": 18,
     "metadata": {},
     "output_type": "execute_result"
    }
   ],
   "source": [
    "train.nunique() # checking for unique data"
   ]
  },
  {
   "cell_type": "code",
   "execution_count": 19,
   "metadata": {},
   "outputs": [],
   "source": [
    "#unique_columnn\n"
   ]
  },
  {
   "cell_type": "markdown",
   "metadata": {},
   "source": [
    "# Date Time conversion"
   ]
  },
  {
   "cell_type": "code",
   "execution_count": 20,
   "metadata": {},
   "outputs": [
    {
     "data": {
      "text/plain": [
       "business_code            object\n",
       "cust_number              object\n",
       "name_customer            object\n",
       "clear_date               object\n",
       "buisness_year           float64\n",
       "posting_date             object\n",
       "document_create_date      int64\n",
       "due_in_date             float64\n",
       "invoice_currency         object\n",
       "posting_id              float64\n",
       "total_open_amount       float64\n",
       "baseline_create_date    float64\n",
       "cust_payment_terms       object\n",
       "invoice_id              float64\n",
       "isOpen                    int64\n",
       "dtype: object"
      ]
     },
     "execution_count": 20,
     "metadata": {},
     "output_type": "execute_result"
    }
   ],
   "source": [
    "train.dtypes # checking for data types"
   ]
  },
  {
   "cell_type": "code",
   "execution_count": 21,
   "metadata": {},
   "outputs": [],
   "source": [
    "# converting data types into float and int as model only takes float and int\n",
    "train['document_create_date']=train['document_create_date'].astype(str)\n",
    "train['due_in_date']=train['due_in_date'].astype(str)\n",
    "train['clear_date']=train['clear_date'].astype(str)\n",
    "train['posting_date']=train['posting_date'].astype(str)\n",
    "train['baseline_create_date']=train['baseline_create_date'].astype(str)\n",
    "train['buisness_year']=train['buisness_year'].astype(np.int64)"
   ]
  },
  {
   "cell_type": "code",
   "execution_count": 22,
   "metadata": {},
   "outputs": [],
   "source": [
    "# changing date into date time format\n",
    "train['clear_date']= pd.to_datetime(train['clear_date'])\n",
    "train['posting_date']= pd.to_datetime(train['posting_date'])\n",
    "train['document_create_date']= pd.to_datetime(train['document_create_date'])"
   ]
  },
  {
   "cell_type": "code",
   "execution_count": 23,
   "metadata": {},
   "outputs": [],
   "source": [
    "train['baseline_create_date'] = pd.to_datetime(train['baseline_create_date'], format=\"%Y%m%d\")"
   ]
  },
  {
   "cell_type": "code",
   "execution_count": 24,
   "metadata": {},
   "outputs": [],
   "source": [
    "train['due_in_date'] = pd.to_datetime(train['due_in_date'], format=\"%Y%m%d\")"
   ]
  },
  {
   "cell_type": "code",
   "execution_count": 25,
   "metadata": {},
   "outputs": [
    {
     "data": {
      "text/plain": [
       "business_code                   object\n",
       "cust_number                     object\n",
       "name_customer                   object\n",
       "clear_date              datetime64[ns]\n",
       "buisness_year                    int64\n",
       "posting_date            datetime64[ns]\n",
       "document_create_date    datetime64[ns]\n",
       "due_in_date             datetime64[ns]\n",
       "invoice_currency                object\n",
       "posting_id                     float64\n",
       "total_open_amount              float64\n",
       "baseline_create_date    datetime64[ns]\n",
       "cust_payment_terms              object\n",
       "invoice_id                     float64\n",
       "isOpen                           int64\n",
       "dtype: object"
      ]
     },
     "execution_count": 25,
     "metadata": {},
     "output_type": "execute_result"
    }
   ],
   "source": [
    "train.dtypes"
   ]
  },
  {
   "cell_type": "code",
   "execution_count": 26,
   "metadata": {},
   "outputs": [
    {
     "data": {
      "text/html": [
       "<div>\n",
       "<style scoped>\n",
       "    .dataframe tbody tr th:only-of-type {\n",
       "        vertical-align: middle;\n",
       "    }\n",
       "\n",
       "    .dataframe tbody tr th {\n",
       "        vertical-align: top;\n",
       "    }\n",
       "\n",
       "    .dataframe thead th {\n",
       "        text-align: right;\n",
       "    }\n",
       "</style>\n",
       "<table border=\"1\" class=\"dataframe\">\n",
       "  <thead>\n",
       "    <tr style=\"text-align: right;\">\n",
       "      <th></th>\n",
       "      <th>business_code</th>\n",
       "      <th>cust_number</th>\n",
       "      <th>name_customer</th>\n",
       "      <th>clear_date</th>\n",
       "      <th>buisness_year</th>\n",
       "      <th>posting_date</th>\n",
       "      <th>document_create_date</th>\n",
       "      <th>due_in_date</th>\n",
       "      <th>invoice_currency</th>\n",
       "      <th>posting_id</th>\n",
       "      <th>total_open_amount</th>\n",
       "      <th>baseline_create_date</th>\n",
       "      <th>cust_payment_terms</th>\n",
       "      <th>invoice_id</th>\n",
       "      <th>isOpen</th>\n",
       "    </tr>\n",
       "  </thead>\n",
       "  <tbody>\n",
       "    <tr>\n",
       "      <th>0</th>\n",
       "      <td>U001</td>\n",
       "      <td>200744019</td>\n",
       "      <td>TARG in</td>\n",
       "      <td>2019-06-04</td>\n",
       "      <td>2019</td>\n",
       "      <td>2019-05-16</td>\n",
       "      <td>2019-05-15</td>\n",
       "      <td>2019-05-31</td>\n",
       "      <td>USD</td>\n",
       "      <td>1.0</td>\n",
       "      <td>26495.99</td>\n",
       "      <td>2019-05-16</td>\n",
       "      <td>NAA8</td>\n",
       "      <td>1.929321e+09</td>\n",
       "      <td>0</td>\n",
       "    </tr>\n",
       "    <tr>\n",
       "      <th>1</th>\n",
       "      <td>CA02</td>\n",
       "      <td>0140104409</td>\n",
       "      <td>LOB us</td>\n",
       "      <td>2019-10-21</td>\n",
       "      <td>2019</td>\n",
       "      <td>2019-10-05</td>\n",
       "      <td>2019-10-05</td>\n",
       "      <td>2019-10-25</td>\n",
       "      <td>CAD</td>\n",
       "      <td>1.0</td>\n",
       "      <td>92641.08</td>\n",
       "      <td>2019-10-15</td>\n",
       "      <td>CA10</td>\n",
       "      <td>2.960584e+09</td>\n",
       "      <td>0</td>\n",
       "    </tr>\n",
       "    <tr>\n",
       "      <th>2</th>\n",
       "      <td>U001</td>\n",
       "      <td>0100015557</td>\n",
       "      <td>BI corp</td>\n",
       "      <td>2019-07-08</td>\n",
       "      <td>2019</td>\n",
       "      <td>2019-06-26</td>\n",
       "      <td>2019-06-26</td>\n",
       "      <td>2019-07-11</td>\n",
       "      <td>USD</td>\n",
       "      <td>1.0</td>\n",
       "      <td>24370.68</td>\n",
       "      <td>2019-06-26</td>\n",
       "      <td>NAA8</td>\n",
       "      <td>1.929543e+09</td>\n",
       "      <td>0</td>\n",
       "    </tr>\n",
       "    <tr>\n",
       "      <th>3</th>\n",
       "      <td>U001</td>\n",
       "      <td>0200148860</td>\n",
       "      <td>DOLLA associates</td>\n",
       "      <td>2019-11-13</td>\n",
       "      <td>2019</td>\n",
       "      <td>2019-10-29</td>\n",
       "      <td>2019-10-29</td>\n",
       "      <td>2019-11-13</td>\n",
       "      <td>USD</td>\n",
       "      <td>1.0</td>\n",
       "      <td>120891.07</td>\n",
       "      <td>2019-10-29</td>\n",
       "      <td>NAA8</td>\n",
       "      <td>1.930063e+09</td>\n",
       "      <td>0</td>\n",
       "    </tr>\n",
       "    <tr>\n",
       "      <th>4</th>\n",
       "      <td>U001</td>\n",
       "      <td>0200772670</td>\n",
       "      <td>ASSOCIAT llc</td>\n",
       "      <td>2019-04-08</td>\n",
       "      <td>2019</td>\n",
       "      <td>2019-03-22</td>\n",
       "      <td>2019-03-23</td>\n",
       "      <td>2019-04-06</td>\n",
       "      <td>USD</td>\n",
       "      <td>1.0</td>\n",
       "      <td>14785.70</td>\n",
       "      <td>2019-03-22</td>\n",
       "      <td>NAU5</td>\n",
       "      <td>1.929015e+09</td>\n",
       "      <td>0</td>\n",
       "    </tr>\n",
       "    <tr>\n",
       "      <th>...</th>\n",
       "      <td>...</td>\n",
       "      <td>...</td>\n",
       "      <td>...</td>\n",
       "      <td>...</td>\n",
       "      <td>...</td>\n",
       "      <td>...</td>\n",
       "      <td>...</td>\n",
       "      <td>...</td>\n",
       "      <td>...</td>\n",
       "      <td>...</td>\n",
       "      <td>...</td>\n",
       "      <td>...</td>\n",
       "      <td>...</td>\n",
       "      <td>...</td>\n",
       "      <td>...</td>\n",
       "    </tr>\n",
       "    <tr>\n",
       "      <th>49993</th>\n",
       "      <td>U001</td>\n",
       "      <td>0200769623</td>\n",
       "      <td>WAL-MAR us</td>\n",
       "      <td>2019-07-16</td>\n",
       "      <td>2019</td>\n",
       "      <td>2019-07-06</td>\n",
       "      <td>2019-07-04</td>\n",
       "      <td>2019-07-21</td>\n",
       "      <td>USD</td>\n",
       "      <td>1.0</td>\n",
       "      <td>63720.73</td>\n",
       "      <td>2019-07-06</td>\n",
       "      <td>NAH4</td>\n",
       "      <td>1.929579e+09</td>\n",
       "      <td>0</td>\n",
       "    </tr>\n",
       "    <tr>\n",
       "      <th>49994</th>\n",
       "      <td>CA02</td>\n",
       "      <td>0140104409</td>\n",
       "      <td>LOB co</td>\n",
       "      <td>2019-02-08</td>\n",
       "      <td>2019</td>\n",
       "      <td>2019-01-23</td>\n",
       "      <td>2019-01-23</td>\n",
       "      <td>2019-02-11</td>\n",
       "      <td>CAD</td>\n",
       "      <td>1.0</td>\n",
       "      <td>97373.69</td>\n",
       "      <td>2019-02-01</td>\n",
       "      <td>CA10</td>\n",
       "      <td>2.960524e+09</td>\n",
       "      <td>0</td>\n",
       "    </tr>\n",
       "    <tr>\n",
       "      <th>49995</th>\n",
       "      <td>U001</td>\n",
       "      <td>0200769623</td>\n",
       "      <td>WAL-MAR corp</td>\n",
       "      <td>2020-01-17</td>\n",
       "      <td>2020</td>\n",
       "      <td>2020-01-07</td>\n",
       "      <td>2020-01-04</td>\n",
       "      <td>2020-01-22</td>\n",
       "      <td>USD</td>\n",
       "      <td>1.0</td>\n",
       "      <td>15891.98</td>\n",
       "      <td>2020-01-07</td>\n",
       "      <td>NAH4</td>\n",
       "      <td>1.930353e+09</td>\n",
       "      <td>0</td>\n",
       "    </tr>\n",
       "    <tr>\n",
       "      <th>49996</th>\n",
       "      <td>U001</td>\n",
       "      <td>0200762301</td>\n",
       "      <td>C&amp;S WH corp</td>\n",
       "      <td>2020-02-04</td>\n",
       "      <td>2020</td>\n",
       "      <td>2020-01-18</td>\n",
       "      <td>2020-01-17</td>\n",
       "      <td>2020-02-02</td>\n",
       "      <td>USD</td>\n",
       "      <td>1.0</td>\n",
       "      <td>92438.87</td>\n",
       "      <td>2020-01-18</td>\n",
       "      <td>NAC6</td>\n",
       "      <td>1.930409e+09</td>\n",
       "      <td>0</td>\n",
       "    </tr>\n",
       "    <tr>\n",
       "      <th>49997</th>\n",
       "      <td>U001</td>\n",
       "      <td>0200762301</td>\n",
       "      <td>C&amp;S WH systems</td>\n",
       "      <td>2019-04-30</td>\n",
       "      <td>2019</td>\n",
       "      <td>2019-04-15</td>\n",
       "      <td>2019-04-13</td>\n",
       "      <td>2019-04-30</td>\n",
       "      <td>USD</td>\n",
       "      <td>1.0</td>\n",
       "      <td>24127.61</td>\n",
       "      <td>2019-04-15</td>\n",
       "      <td>NAC6</td>\n",
       "      <td>1.929141e+09</td>\n",
       "      <td>0</td>\n",
       "    </tr>\n",
       "  </tbody>\n",
       "</table>\n",
       "<p>39139 rows × 15 columns</p>\n",
       "</div>"
      ],
      "text/plain": [
       "      business_code cust_number     name_customer clear_date  buisness_year  \\\n",
       "0              U001   200744019           TARG in 2019-06-04           2019   \n",
       "1              CA02  0140104409            LOB us 2019-10-21           2019   \n",
       "2              U001  0100015557           BI corp 2019-07-08           2019   \n",
       "3              U001  0200148860  DOLLA associates 2019-11-13           2019   \n",
       "4              U001  0200772670      ASSOCIAT llc 2019-04-08           2019   \n",
       "...             ...         ...               ...        ...            ...   \n",
       "49993          U001  0200769623        WAL-MAR us 2019-07-16           2019   \n",
       "49994          CA02  0140104409            LOB co 2019-02-08           2019   \n",
       "49995          U001  0200769623      WAL-MAR corp 2020-01-17           2020   \n",
       "49996          U001  0200762301       C&S WH corp 2020-02-04           2020   \n",
       "49997          U001  0200762301    C&S WH systems 2019-04-30           2019   \n",
       "\n",
       "      posting_date document_create_date due_in_date invoice_currency  \\\n",
       "0       2019-05-16           2019-05-15  2019-05-31              USD   \n",
       "1       2019-10-05           2019-10-05  2019-10-25              CAD   \n",
       "2       2019-06-26           2019-06-26  2019-07-11              USD   \n",
       "3       2019-10-29           2019-10-29  2019-11-13              USD   \n",
       "4       2019-03-22           2019-03-23  2019-04-06              USD   \n",
       "...            ...                  ...         ...              ...   \n",
       "49993   2019-07-06           2019-07-04  2019-07-21              USD   \n",
       "49994   2019-01-23           2019-01-23  2019-02-11              CAD   \n",
       "49995   2020-01-07           2020-01-04  2020-01-22              USD   \n",
       "49996   2020-01-18           2020-01-17  2020-02-02              USD   \n",
       "49997   2019-04-15           2019-04-13  2019-04-30              USD   \n",
       "\n",
       "       posting_id  total_open_amount baseline_create_date cust_payment_terms  \\\n",
       "0             1.0           26495.99           2019-05-16               NAA8   \n",
       "1             1.0           92641.08           2019-10-15               CA10   \n",
       "2             1.0           24370.68           2019-06-26               NAA8   \n",
       "3             1.0          120891.07           2019-10-29               NAA8   \n",
       "4             1.0           14785.70           2019-03-22               NAU5   \n",
       "...           ...                ...                  ...                ...   \n",
       "49993         1.0           63720.73           2019-07-06               NAH4   \n",
       "49994         1.0           97373.69           2019-02-01               CA10   \n",
       "49995         1.0           15891.98           2020-01-07               NAH4   \n",
       "49996         1.0           92438.87           2020-01-18               NAC6   \n",
       "49997         1.0           24127.61           2019-04-15               NAC6   \n",
       "\n",
       "         invoice_id  isOpen  \n",
       "0      1.929321e+09       0  \n",
       "1      2.960584e+09       0  \n",
       "2      1.929543e+09       0  \n",
       "3      1.930063e+09       0  \n",
       "4      1.929015e+09       0  \n",
       "...             ...     ...  \n",
       "49993  1.929579e+09       0  \n",
       "49994  2.960524e+09       0  \n",
       "49995  1.930353e+09       0  \n",
       "49996  1.930409e+09       0  \n",
       "49997  1.929141e+09       0  \n",
       "\n",
       "[39139 rows x 15 columns]"
      ]
     },
     "execution_count": 26,
     "metadata": {},
     "output_type": "execute_result"
    }
   ],
   "source": [
    "train"
   ]
  },
  {
   "cell_type": "code",
   "execution_count": 27,
   "metadata": {},
   "outputs": [],
   "source": [
    " #drop is open and posting id as they are constant\n",
    "uni_cols =  [z for z in train.columns if train[z].nunique()==1] \n",
    "train.drop(uni_cols,axis=1,inplace=True)"
   ]
  },
  {
   "cell_type": "code",
   "execution_count": 28,
   "metadata": {},
   "outputs": [
    {
     "data": {
      "text/html": [
       "<div>\n",
       "<style scoped>\n",
       "    .dataframe tbody tr th:only-of-type {\n",
       "        vertical-align: middle;\n",
       "    }\n",
       "\n",
       "    .dataframe tbody tr th {\n",
       "        vertical-align: top;\n",
       "    }\n",
       "\n",
       "    .dataframe thead th {\n",
       "        text-align: right;\n",
       "    }\n",
       "</style>\n",
       "<table border=\"1\" class=\"dataframe\">\n",
       "  <thead>\n",
       "    <tr style=\"text-align: right;\">\n",
       "      <th></th>\n",
       "      <th>business_code</th>\n",
       "      <th>cust_number</th>\n",
       "      <th>name_customer</th>\n",
       "      <th>clear_date</th>\n",
       "      <th>buisness_year</th>\n",
       "      <th>posting_date</th>\n",
       "      <th>document_create_date</th>\n",
       "      <th>due_in_date</th>\n",
       "      <th>invoice_currency</th>\n",
       "      <th>total_open_amount</th>\n",
       "      <th>baseline_create_date</th>\n",
       "      <th>cust_payment_terms</th>\n",
       "      <th>invoice_id</th>\n",
       "    </tr>\n",
       "  </thead>\n",
       "  <tbody>\n",
       "    <tr>\n",
       "      <th>0</th>\n",
       "      <td>U001</td>\n",
       "      <td>200744019</td>\n",
       "      <td>TARG in</td>\n",
       "      <td>2019-06-04</td>\n",
       "      <td>2019</td>\n",
       "      <td>2019-05-16</td>\n",
       "      <td>2019-05-15</td>\n",
       "      <td>2019-05-31</td>\n",
       "      <td>USD</td>\n",
       "      <td>26495.99</td>\n",
       "      <td>2019-05-16</td>\n",
       "      <td>NAA8</td>\n",
       "      <td>1.929321e+09</td>\n",
       "    </tr>\n",
       "    <tr>\n",
       "      <th>1</th>\n",
       "      <td>CA02</td>\n",
       "      <td>0140104409</td>\n",
       "      <td>LOB us</td>\n",
       "      <td>2019-10-21</td>\n",
       "      <td>2019</td>\n",
       "      <td>2019-10-05</td>\n",
       "      <td>2019-10-05</td>\n",
       "      <td>2019-10-25</td>\n",
       "      <td>CAD</td>\n",
       "      <td>92641.08</td>\n",
       "      <td>2019-10-15</td>\n",
       "      <td>CA10</td>\n",
       "      <td>2.960584e+09</td>\n",
       "    </tr>\n",
       "    <tr>\n",
       "      <th>2</th>\n",
       "      <td>U001</td>\n",
       "      <td>0100015557</td>\n",
       "      <td>BI corp</td>\n",
       "      <td>2019-07-08</td>\n",
       "      <td>2019</td>\n",
       "      <td>2019-06-26</td>\n",
       "      <td>2019-06-26</td>\n",
       "      <td>2019-07-11</td>\n",
       "      <td>USD</td>\n",
       "      <td>24370.68</td>\n",
       "      <td>2019-06-26</td>\n",
       "      <td>NAA8</td>\n",
       "      <td>1.929543e+09</td>\n",
       "    </tr>\n",
       "    <tr>\n",
       "      <th>3</th>\n",
       "      <td>U001</td>\n",
       "      <td>0200148860</td>\n",
       "      <td>DOLLA associates</td>\n",
       "      <td>2019-11-13</td>\n",
       "      <td>2019</td>\n",
       "      <td>2019-10-29</td>\n",
       "      <td>2019-10-29</td>\n",
       "      <td>2019-11-13</td>\n",
       "      <td>USD</td>\n",
       "      <td>120891.07</td>\n",
       "      <td>2019-10-29</td>\n",
       "      <td>NAA8</td>\n",
       "      <td>1.930063e+09</td>\n",
       "    </tr>\n",
       "    <tr>\n",
       "      <th>4</th>\n",
       "      <td>U001</td>\n",
       "      <td>0200772670</td>\n",
       "      <td>ASSOCIAT llc</td>\n",
       "      <td>2019-04-08</td>\n",
       "      <td>2019</td>\n",
       "      <td>2019-03-22</td>\n",
       "      <td>2019-03-23</td>\n",
       "      <td>2019-04-06</td>\n",
       "      <td>USD</td>\n",
       "      <td>14785.70</td>\n",
       "      <td>2019-03-22</td>\n",
       "      <td>NAU5</td>\n",
       "      <td>1.929015e+09</td>\n",
       "    </tr>\n",
       "    <tr>\n",
       "      <th>...</th>\n",
       "      <td>...</td>\n",
       "      <td>...</td>\n",
       "      <td>...</td>\n",
       "      <td>...</td>\n",
       "      <td>...</td>\n",
       "      <td>...</td>\n",
       "      <td>...</td>\n",
       "      <td>...</td>\n",
       "      <td>...</td>\n",
       "      <td>...</td>\n",
       "      <td>...</td>\n",
       "      <td>...</td>\n",
       "      <td>...</td>\n",
       "    </tr>\n",
       "    <tr>\n",
       "      <th>49993</th>\n",
       "      <td>U001</td>\n",
       "      <td>0200769623</td>\n",
       "      <td>WAL-MAR us</td>\n",
       "      <td>2019-07-16</td>\n",
       "      <td>2019</td>\n",
       "      <td>2019-07-06</td>\n",
       "      <td>2019-07-04</td>\n",
       "      <td>2019-07-21</td>\n",
       "      <td>USD</td>\n",
       "      <td>63720.73</td>\n",
       "      <td>2019-07-06</td>\n",
       "      <td>NAH4</td>\n",
       "      <td>1.929579e+09</td>\n",
       "    </tr>\n",
       "    <tr>\n",
       "      <th>49994</th>\n",
       "      <td>CA02</td>\n",
       "      <td>0140104409</td>\n",
       "      <td>LOB co</td>\n",
       "      <td>2019-02-08</td>\n",
       "      <td>2019</td>\n",
       "      <td>2019-01-23</td>\n",
       "      <td>2019-01-23</td>\n",
       "      <td>2019-02-11</td>\n",
       "      <td>CAD</td>\n",
       "      <td>97373.69</td>\n",
       "      <td>2019-02-01</td>\n",
       "      <td>CA10</td>\n",
       "      <td>2.960524e+09</td>\n",
       "    </tr>\n",
       "    <tr>\n",
       "      <th>49995</th>\n",
       "      <td>U001</td>\n",
       "      <td>0200769623</td>\n",
       "      <td>WAL-MAR corp</td>\n",
       "      <td>2020-01-17</td>\n",
       "      <td>2020</td>\n",
       "      <td>2020-01-07</td>\n",
       "      <td>2020-01-04</td>\n",
       "      <td>2020-01-22</td>\n",
       "      <td>USD</td>\n",
       "      <td>15891.98</td>\n",
       "      <td>2020-01-07</td>\n",
       "      <td>NAH4</td>\n",
       "      <td>1.930353e+09</td>\n",
       "    </tr>\n",
       "    <tr>\n",
       "      <th>49996</th>\n",
       "      <td>U001</td>\n",
       "      <td>0200762301</td>\n",
       "      <td>C&amp;S WH corp</td>\n",
       "      <td>2020-02-04</td>\n",
       "      <td>2020</td>\n",
       "      <td>2020-01-18</td>\n",
       "      <td>2020-01-17</td>\n",
       "      <td>2020-02-02</td>\n",
       "      <td>USD</td>\n",
       "      <td>92438.87</td>\n",
       "      <td>2020-01-18</td>\n",
       "      <td>NAC6</td>\n",
       "      <td>1.930409e+09</td>\n",
       "    </tr>\n",
       "    <tr>\n",
       "      <th>49997</th>\n",
       "      <td>U001</td>\n",
       "      <td>0200762301</td>\n",
       "      <td>C&amp;S WH systems</td>\n",
       "      <td>2019-04-30</td>\n",
       "      <td>2019</td>\n",
       "      <td>2019-04-15</td>\n",
       "      <td>2019-04-13</td>\n",
       "      <td>2019-04-30</td>\n",
       "      <td>USD</td>\n",
       "      <td>24127.61</td>\n",
       "      <td>2019-04-15</td>\n",
       "      <td>NAC6</td>\n",
       "      <td>1.929141e+09</td>\n",
       "    </tr>\n",
       "  </tbody>\n",
       "</table>\n",
       "<p>39139 rows × 13 columns</p>\n",
       "</div>"
      ],
      "text/plain": [
       "      business_code cust_number     name_customer clear_date  buisness_year  \\\n",
       "0              U001   200744019           TARG in 2019-06-04           2019   \n",
       "1              CA02  0140104409            LOB us 2019-10-21           2019   \n",
       "2              U001  0100015557           BI corp 2019-07-08           2019   \n",
       "3              U001  0200148860  DOLLA associates 2019-11-13           2019   \n",
       "4              U001  0200772670      ASSOCIAT llc 2019-04-08           2019   \n",
       "...             ...         ...               ...        ...            ...   \n",
       "49993          U001  0200769623        WAL-MAR us 2019-07-16           2019   \n",
       "49994          CA02  0140104409            LOB co 2019-02-08           2019   \n",
       "49995          U001  0200769623      WAL-MAR corp 2020-01-17           2020   \n",
       "49996          U001  0200762301       C&S WH corp 2020-02-04           2020   \n",
       "49997          U001  0200762301    C&S WH systems 2019-04-30           2019   \n",
       "\n",
       "      posting_date document_create_date due_in_date invoice_currency  \\\n",
       "0       2019-05-16           2019-05-15  2019-05-31              USD   \n",
       "1       2019-10-05           2019-10-05  2019-10-25              CAD   \n",
       "2       2019-06-26           2019-06-26  2019-07-11              USD   \n",
       "3       2019-10-29           2019-10-29  2019-11-13              USD   \n",
       "4       2019-03-22           2019-03-23  2019-04-06              USD   \n",
       "...            ...                  ...         ...              ...   \n",
       "49993   2019-07-06           2019-07-04  2019-07-21              USD   \n",
       "49994   2019-01-23           2019-01-23  2019-02-11              CAD   \n",
       "49995   2020-01-07           2020-01-04  2020-01-22              USD   \n",
       "49996   2020-01-18           2020-01-17  2020-02-02              USD   \n",
       "49997   2019-04-15           2019-04-13  2019-04-30              USD   \n",
       "\n",
       "       total_open_amount baseline_create_date cust_payment_terms    invoice_id  \n",
       "0               26495.99           2019-05-16               NAA8  1.929321e+09  \n",
       "1               92641.08           2019-10-15               CA10  2.960584e+09  \n",
       "2               24370.68           2019-06-26               NAA8  1.929543e+09  \n",
       "3              120891.07           2019-10-29               NAA8  1.930063e+09  \n",
       "4               14785.70           2019-03-22               NAU5  1.929015e+09  \n",
       "...                  ...                  ...                ...           ...  \n",
       "49993           63720.73           2019-07-06               NAH4  1.929579e+09  \n",
       "49994           97373.69           2019-02-01               CA10  2.960524e+09  \n",
       "49995           15891.98           2020-01-07               NAH4  1.930353e+09  \n",
       "49996           92438.87           2020-01-18               NAC6  1.930409e+09  \n",
       "49997           24127.61           2019-04-15               NAC6  1.929141e+09  \n",
       "\n",
       "[39139 rows x 13 columns]"
      ]
     },
     "execution_count": 28,
     "metadata": {},
     "output_type": "execute_result"
    }
   ],
   "source": [
    "train"
   ]
  },
  {
   "cell_type": "markdown",
   "metadata": {},
   "source": [
    "#Normalizing amount"
   ]
  },
  {
   "cell_type": "code",
   "execution_count": 29,
   "metadata": {},
   "outputs": [],
   "source": [
    "# equalizing 1 cad=0.81 usd\n",
    "train.loc[train.invoice_currency== \"CAD\", 'total_open_amount'] = train['total_open_amount']*0.81"
   ]
  },
  {
   "cell_type": "code",
   "execution_count": 30,
   "metadata": {
    "scrolled": true
   },
   "outputs": [
    {
     "data": {
      "text/html": [
       "<div>\n",
       "<style scoped>\n",
       "    .dataframe tbody tr th:only-of-type {\n",
       "        vertical-align: middle;\n",
       "    }\n",
       "\n",
       "    .dataframe tbody tr th {\n",
       "        vertical-align: top;\n",
       "    }\n",
       "\n",
       "    .dataframe thead th {\n",
       "        text-align: right;\n",
       "    }\n",
       "</style>\n",
       "<table border=\"1\" class=\"dataframe\">\n",
       "  <thead>\n",
       "    <tr style=\"text-align: right;\">\n",
       "      <th></th>\n",
       "      <th>business_code</th>\n",
       "      <th>cust_number</th>\n",
       "      <th>name_customer</th>\n",
       "      <th>clear_date</th>\n",
       "      <th>buisness_year</th>\n",
       "      <th>posting_date</th>\n",
       "      <th>document_create_date</th>\n",
       "      <th>due_in_date</th>\n",
       "      <th>invoice_currency</th>\n",
       "      <th>total_open_amount</th>\n",
       "      <th>baseline_create_date</th>\n",
       "      <th>cust_payment_terms</th>\n",
       "      <th>invoice_id</th>\n",
       "    </tr>\n",
       "  </thead>\n",
       "  <tbody>\n",
       "    <tr>\n",
       "      <th>0</th>\n",
       "      <td>U001</td>\n",
       "      <td>200744019</td>\n",
       "      <td>TARG in</td>\n",
       "      <td>2019-06-04</td>\n",
       "      <td>2019</td>\n",
       "      <td>2019-05-16</td>\n",
       "      <td>2019-05-15</td>\n",
       "      <td>2019-05-31</td>\n",
       "      <td>USD</td>\n",
       "      <td>26495.9900</td>\n",
       "      <td>2019-05-16</td>\n",
       "      <td>NAA8</td>\n",
       "      <td>1.929321e+09</td>\n",
       "    </tr>\n",
       "    <tr>\n",
       "      <th>1</th>\n",
       "      <td>CA02</td>\n",
       "      <td>0140104409</td>\n",
       "      <td>LOB us</td>\n",
       "      <td>2019-10-21</td>\n",
       "      <td>2019</td>\n",
       "      <td>2019-10-05</td>\n",
       "      <td>2019-10-05</td>\n",
       "      <td>2019-10-25</td>\n",
       "      <td>CAD</td>\n",
       "      <td>75039.2748</td>\n",
       "      <td>2019-10-15</td>\n",
       "      <td>CA10</td>\n",
       "      <td>2.960584e+09</td>\n",
       "    </tr>\n",
       "    <tr>\n",
       "      <th>2</th>\n",
       "      <td>U001</td>\n",
       "      <td>0100015557</td>\n",
       "      <td>BI corp</td>\n",
       "      <td>2019-07-08</td>\n",
       "      <td>2019</td>\n",
       "      <td>2019-06-26</td>\n",
       "      <td>2019-06-26</td>\n",
       "      <td>2019-07-11</td>\n",
       "      <td>USD</td>\n",
       "      <td>24370.6800</td>\n",
       "      <td>2019-06-26</td>\n",
       "      <td>NAA8</td>\n",
       "      <td>1.929543e+09</td>\n",
       "    </tr>\n",
       "    <tr>\n",
       "      <th>3</th>\n",
       "      <td>U001</td>\n",
       "      <td>0200148860</td>\n",
       "      <td>DOLLA associates</td>\n",
       "      <td>2019-11-13</td>\n",
       "      <td>2019</td>\n",
       "      <td>2019-10-29</td>\n",
       "      <td>2019-10-29</td>\n",
       "      <td>2019-11-13</td>\n",
       "      <td>USD</td>\n",
       "      <td>120891.0700</td>\n",
       "      <td>2019-10-29</td>\n",
       "      <td>NAA8</td>\n",
       "      <td>1.930063e+09</td>\n",
       "    </tr>\n",
       "    <tr>\n",
       "      <th>4</th>\n",
       "      <td>U001</td>\n",
       "      <td>0200772670</td>\n",
       "      <td>ASSOCIAT llc</td>\n",
       "      <td>2019-04-08</td>\n",
       "      <td>2019</td>\n",
       "      <td>2019-03-22</td>\n",
       "      <td>2019-03-23</td>\n",
       "      <td>2019-04-06</td>\n",
       "      <td>USD</td>\n",
       "      <td>14785.7000</td>\n",
       "      <td>2019-03-22</td>\n",
       "      <td>NAU5</td>\n",
       "      <td>1.929015e+09</td>\n",
       "    </tr>\n",
       "    <tr>\n",
       "      <th>...</th>\n",
       "      <td>...</td>\n",
       "      <td>...</td>\n",
       "      <td>...</td>\n",
       "      <td>...</td>\n",
       "      <td>...</td>\n",
       "      <td>...</td>\n",
       "      <td>...</td>\n",
       "      <td>...</td>\n",
       "      <td>...</td>\n",
       "      <td>...</td>\n",
       "      <td>...</td>\n",
       "      <td>...</td>\n",
       "      <td>...</td>\n",
       "    </tr>\n",
       "    <tr>\n",
       "      <th>49993</th>\n",
       "      <td>U001</td>\n",
       "      <td>0200769623</td>\n",
       "      <td>WAL-MAR us</td>\n",
       "      <td>2019-07-16</td>\n",
       "      <td>2019</td>\n",
       "      <td>2019-07-06</td>\n",
       "      <td>2019-07-04</td>\n",
       "      <td>2019-07-21</td>\n",
       "      <td>USD</td>\n",
       "      <td>63720.7300</td>\n",
       "      <td>2019-07-06</td>\n",
       "      <td>NAH4</td>\n",
       "      <td>1.929579e+09</td>\n",
       "    </tr>\n",
       "    <tr>\n",
       "      <th>49994</th>\n",
       "      <td>CA02</td>\n",
       "      <td>0140104409</td>\n",
       "      <td>LOB co</td>\n",
       "      <td>2019-02-08</td>\n",
       "      <td>2019</td>\n",
       "      <td>2019-01-23</td>\n",
       "      <td>2019-01-23</td>\n",
       "      <td>2019-02-11</td>\n",
       "      <td>CAD</td>\n",
       "      <td>78872.6889</td>\n",
       "      <td>2019-02-01</td>\n",
       "      <td>CA10</td>\n",
       "      <td>2.960524e+09</td>\n",
       "    </tr>\n",
       "    <tr>\n",
       "      <th>49995</th>\n",
       "      <td>U001</td>\n",
       "      <td>0200769623</td>\n",
       "      <td>WAL-MAR corp</td>\n",
       "      <td>2020-01-17</td>\n",
       "      <td>2020</td>\n",
       "      <td>2020-01-07</td>\n",
       "      <td>2020-01-04</td>\n",
       "      <td>2020-01-22</td>\n",
       "      <td>USD</td>\n",
       "      <td>15891.9800</td>\n",
       "      <td>2020-01-07</td>\n",
       "      <td>NAH4</td>\n",
       "      <td>1.930353e+09</td>\n",
       "    </tr>\n",
       "    <tr>\n",
       "      <th>49996</th>\n",
       "      <td>U001</td>\n",
       "      <td>0200762301</td>\n",
       "      <td>C&amp;S WH corp</td>\n",
       "      <td>2020-02-04</td>\n",
       "      <td>2020</td>\n",
       "      <td>2020-01-18</td>\n",
       "      <td>2020-01-17</td>\n",
       "      <td>2020-02-02</td>\n",
       "      <td>USD</td>\n",
       "      <td>92438.8700</td>\n",
       "      <td>2020-01-18</td>\n",
       "      <td>NAC6</td>\n",
       "      <td>1.930409e+09</td>\n",
       "    </tr>\n",
       "    <tr>\n",
       "      <th>49997</th>\n",
       "      <td>U001</td>\n",
       "      <td>0200762301</td>\n",
       "      <td>C&amp;S WH systems</td>\n",
       "      <td>2019-04-30</td>\n",
       "      <td>2019</td>\n",
       "      <td>2019-04-15</td>\n",
       "      <td>2019-04-13</td>\n",
       "      <td>2019-04-30</td>\n",
       "      <td>USD</td>\n",
       "      <td>24127.6100</td>\n",
       "      <td>2019-04-15</td>\n",
       "      <td>NAC6</td>\n",
       "      <td>1.929141e+09</td>\n",
       "    </tr>\n",
       "  </tbody>\n",
       "</table>\n",
       "<p>39139 rows × 13 columns</p>\n",
       "</div>"
      ],
      "text/plain": [
       "      business_code cust_number     name_customer clear_date  buisness_year  \\\n",
       "0              U001   200744019           TARG in 2019-06-04           2019   \n",
       "1              CA02  0140104409            LOB us 2019-10-21           2019   \n",
       "2              U001  0100015557           BI corp 2019-07-08           2019   \n",
       "3              U001  0200148860  DOLLA associates 2019-11-13           2019   \n",
       "4              U001  0200772670      ASSOCIAT llc 2019-04-08           2019   \n",
       "...             ...         ...               ...        ...            ...   \n",
       "49993          U001  0200769623        WAL-MAR us 2019-07-16           2019   \n",
       "49994          CA02  0140104409            LOB co 2019-02-08           2019   \n",
       "49995          U001  0200769623      WAL-MAR corp 2020-01-17           2020   \n",
       "49996          U001  0200762301       C&S WH corp 2020-02-04           2020   \n",
       "49997          U001  0200762301    C&S WH systems 2019-04-30           2019   \n",
       "\n",
       "      posting_date document_create_date due_in_date invoice_currency  \\\n",
       "0       2019-05-16           2019-05-15  2019-05-31              USD   \n",
       "1       2019-10-05           2019-10-05  2019-10-25              CAD   \n",
       "2       2019-06-26           2019-06-26  2019-07-11              USD   \n",
       "3       2019-10-29           2019-10-29  2019-11-13              USD   \n",
       "4       2019-03-22           2019-03-23  2019-04-06              USD   \n",
       "...            ...                  ...         ...              ...   \n",
       "49993   2019-07-06           2019-07-04  2019-07-21              USD   \n",
       "49994   2019-01-23           2019-01-23  2019-02-11              CAD   \n",
       "49995   2020-01-07           2020-01-04  2020-01-22              USD   \n",
       "49996   2020-01-18           2020-01-17  2020-02-02              USD   \n",
       "49997   2019-04-15           2019-04-13  2019-04-30              USD   \n",
       "\n",
       "       total_open_amount baseline_create_date cust_payment_terms    invoice_id  \n",
       "0             26495.9900           2019-05-16               NAA8  1.929321e+09  \n",
       "1             75039.2748           2019-10-15               CA10  2.960584e+09  \n",
       "2             24370.6800           2019-06-26               NAA8  1.929543e+09  \n",
       "3            120891.0700           2019-10-29               NAA8  1.930063e+09  \n",
       "4             14785.7000           2019-03-22               NAU5  1.929015e+09  \n",
       "...                  ...                  ...                ...           ...  \n",
       "49993         63720.7300           2019-07-06               NAH4  1.929579e+09  \n",
       "49994         78872.6889           2019-02-01               CA10  2.960524e+09  \n",
       "49995         15891.9800           2020-01-07               NAH4  1.930353e+09  \n",
       "49996         92438.8700           2020-01-18               NAC6  1.930409e+09  \n",
       "49997         24127.6100           2019-04-15               NAC6  1.929141e+09  \n",
       "\n",
       "[39139 rows x 13 columns]"
      ]
     },
     "execution_count": 30,
     "metadata": {},
     "output_type": "execute_result"
    }
   ],
   "source": [
    "train"
   ]
  },
  {
   "cell_type": "markdown",
   "metadata": {},
   "source": [
    "# sorting On The Basis of posting_date"
   ]
  },
  {
   "cell_type": "code",
   "execution_count": 31,
   "metadata": {},
   "outputs": [],
   "source": [
    "train=train.sort_values(by=['posting_date'],ascending=True).reset_index(drop=True)"
   ]
  },
  {
   "cell_type": "code",
   "execution_count": 32,
   "metadata": {},
   "outputs": [
    {
     "data": {
      "text/html": [
       "<div>\n",
       "<style scoped>\n",
       "    .dataframe tbody tr th:only-of-type {\n",
       "        vertical-align: middle;\n",
       "    }\n",
       "\n",
       "    .dataframe tbody tr th {\n",
       "        vertical-align: top;\n",
       "    }\n",
       "\n",
       "    .dataframe thead th {\n",
       "        text-align: right;\n",
       "    }\n",
       "</style>\n",
       "<table border=\"1\" class=\"dataframe\">\n",
       "  <thead>\n",
       "    <tr style=\"text-align: right;\">\n",
       "      <th></th>\n",
       "      <th>business_code</th>\n",
       "      <th>cust_number</th>\n",
       "      <th>name_customer</th>\n",
       "      <th>clear_date</th>\n",
       "      <th>buisness_year</th>\n",
       "      <th>posting_date</th>\n",
       "      <th>document_create_date</th>\n",
       "      <th>due_in_date</th>\n",
       "      <th>invoice_currency</th>\n",
       "      <th>total_open_amount</th>\n",
       "      <th>baseline_create_date</th>\n",
       "      <th>cust_payment_terms</th>\n",
       "      <th>invoice_id</th>\n",
       "    </tr>\n",
       "  </thead>\n",
       "  <tbody>\n",
       "    <tr>\n",
       "      <th>0</th>\n",
       "      <td>U001</td>\n",
       "      <td>0200761342</td>\n",
       "      <td>EL GR associates</td>\n",
       "      <td>2019-01-14</td>\n",
       "      <td>2019</td>\n",
       "      <td>2018-12-30</td>\n",
       "      <td>2018-12-29</td>\n",
       "      <td>2019-01-14</td>\n",
       "      <td>USD</td>\n",
       "      <td>4593.26</td>\n",
       "      <td>2018-12-30</td>\n",
       "      <td>NAA8</td>\n",
       "      <td>1.928535e+09</td>\n",
       "    </tr>\n",
       "    <tr>\n",
       "      <th>1</th>\n",
       "      <td>U001</td>\n",
       "      <td>0200769623</td>\n",
       "      <td>WAL-MAR corporation</td>\n",
       "      <td>2019-01-09</td>\n",
       "      <td>2019</td>\n",
       "      <td>2018-12-30</td>\n",
       "      <td>2018-12-29</td>\n",
       "      <td>2019-01-14</td>\n",
       "      <td>USD</td>\n",
       "      <td>79309.48</td>\n",
       "      <td>2018-12-30</td>\n",
       "      <td>NAH4</td>\n",
       "      <td>1.928537e+09</td>\n",
       "    </tr>\n",
       "    <tr>\n",
       "      <th>2</th>\n",
       "      <td>U001</td>\n",
       "      <td>0200769623</td>\n",
       "      <td>WAL-MAR associates</td>\n",
       "      <td>2019-01-09</td>\n",
       "      <td>2019</td>\n",
       "      <td>2018-12-30</td>\n",
       "      <td>2018-12-30</td>\n",
       "      <td>2019-01-14</td>\n",
       "      <td>USD</td>\n",
       "      <td>38289.77</td>\n",
       "      <td>2018-12-30</td>\n",
       "      <td>NAH4</td>\n",
       "      <td>1.928542e+09</td>\n",
       "    </tr>\n",
       "    <tr>\n",
       "      <th>3</th>\n",
       "      <td>U001</td>\n",
       "      <td>0200762301</td>\n",
       "      <td>C&amp;S WH us</td>\n",
       "      <td>2019-01-15</td>\n",
       "      <td>2019</td>\n",
       "      <td>2018-12-30</td>\n",
       "      <td>2018-12-29</td>\n",
       "      <td>2019-01-14</td>\n",
       "      <td>USD</td>\n",
       "      <td>1911.77</td>\n",
       "      <td>2018-12-30</td>\n",
       "      <td>NAC6</td>\n",
       "      <td>1.928540e+09</td>\n",
       "    </tr>\n",
       "    <tr>\n",
       "      <th>4</th>\n",
       "      <td>U001</td>\n",
       "      <td>0200769623</td>\n",
       "      <td>WAL-MAR</td>\n",
       "      <td>2019-01-15</td>\n",
       "      <td>2019</td>\n",
       "      <td>2018-12-30</td>\n",
       "      <td>2018-12-29</td>\n",
       "      <td>2019-01-14</td>\n",
       "      <td>USD</td>\n",
       "      <td>73065.70</td>\n",
       "      <td>2018-12-30</td>\n",
       "      <td>NAH4</td>\n",
       "      <td>1.928531e+09</td>\n",
       "    </tr>\n",
       "    <tr>\n",
       "      <th>...</th>\n",
       "      <td>...</td>\n",
       "      <td>...</td>\n",
       "      <td>...</td>\n",
       "      <td>...</td>\n",
       "      <td>...</td>\n",
       "      <td>...</td>\n",
       "      <td>...</td>\n",
       "      <td>...</td>\n",
       "      <td>...</td>\n",
       "      <td>...</td>\n",
       "      <td>...</td>\n",
       "      <td>...</td>\n",
       "      <td>...</td>\n",
       "    </tr>\n",
       "    <tr>\n",
       "      <th>39134</th>\n",
       "      <td>U001</td>\n",
       "      <td>0200769623</td>\n",
       "      <td>WAL-MAR foundation</td>\n",
       "      <td>2020-03-09</td>\n",
       "      <td>2020</td>\n",
       "      <td>2020-02-26</td>\n",
       "      <td>2020-02-25</td>\n",
       "      <td>2020-03-12</td>\n",
       "      <td>USD</td>\n",
       "      <td>69712.31</td>\n",
       "      <td>2020-02-26</td>\n",
       "      <td>NAH4</td>\n",
       "      <td>1.930567e+09</td>\n",
       "    </tr>\n",
       "    <tr>\n",
       "      <th>39135</th>\n",
       "      <td>U001</td>\n",
       "      <td>0200794332</td>\n",
       "      <td>COST in</td>\n",
       "      <td>2020-03-12</td>\n",
       "      <td>2020</td>\n",
       "      <td>2020-02-27</td>\n",
       "      <td>2020-02-27</td>\n",
       "      <td>2020-03-13</td>\n",
       "      <td>USD</td>\n",
       "      <td>13720.67</td>\n",
       "      <td>2020-02-27</td>\n",
       "      <td>NAAX</td>\n",
       "      <td>1.930577e+09</td>\n",
       "    </tr>\n",
       "    <tr>\n",
       "      <th>39136</th>\n",
       "      <td>U001</td>\n",
       "      <td>0200759878</td>\n",
       "      <td>SA corp</td>\n",
       "      <td>2020-03-13</td>\n",
       "      <td>2020</td>\n",
       "      <td>2020-02-27</td>\n",
       "      <td>2020-02-26</td>\n",
       "      <td>2020-03-13</td>\n",
       "      <td>USD</td>\n",
       "      <td>65988.21</td>\n",
       "      <td>2020-02-27</td>\n",
       "      <td>NAH4</td>\n",
       "      <td>1.930572e+09</td>\n",
       "    </tr>\n",
       "    <tr>\n",
       "      <th>39137</th>\n",
       "      <td>U001</td>\n",
       "      <td>0200759878</td>\n",
       "      <td>SA associates</td>\n",
       "      <td>2020-03-13</td>\n",
       "      <td>2020</td>\n",
       "      <td>2020-02-27</td>\n",
       "      <td>2020-02-26</td>\n",
       "      <td>2020-03-13</td>\n",
       "      <td>USD</td>\n",
       "      <td>3396.48</td>\n",
       "      <td>2020-02-27</td>\n",
       "      <td>NAH4</td>\n",
       "      <td>1.930572e+09</td>\n",
       "    </tr>\n",
       "    <tr>\n",
       "      <th>39138</th>\n",
       "      <td>U001</td>\n",
       "      <td>0200759878</td>\n",
       "      <td>SA in</td>\n",
       "      <td>2020-03-16</td>\n",
       "      <td>2020</td>\n",
       "      <td>2020-02-27</td>\n",
       "      <td>2020-02-27</td>\n",
       "      <td>2020-03-13</td>\n",
       "      <td>USD</td>\n",
       "      <td>13750.69</td>\n",
       "      <td>2020-02-27</td>\n",
       "      <td>NAH4</td>\n",
       "      <td>1.930577e+09</td>\n",
       "    </tr>\n",
       "  </tbody>\n",
       "</table>\n",
       "<p>39139 rows × 13 columns</p>\n",
       "</div>"
      ],
      "text/plain": [
       "      business_code cust_number        name_customer clear_date  \\\n",
       "0              U001  0200761342     EL GR associates 2019-01-14   \n",
       "1              U001  0200769623  WAL-MAR corporation 2019-01-09   \n",
       "2              U001  0200769623   WAL-MAR associates 2019-01-09   \n",
       "3              U001  0200762301            C&S WH us 2019-01-15   \n",
       "4              U001  0200769623             WAL-MAR  2019-01-15   \n",
       "...             ...         ...                  ...        ...   \n",
       "39134          U001  0200769623   WAL-MAR foundation 2020-03-09   \n",
       "39135          U001  0200794332              COST in 2020-03-12   \n",
       "39136          U001  0200759878              SA corp 2020-03-13   \n",
       "39137          U001  0200759878        SA associates 2020-03-13   \n",
       "39138          U001  0200759878                SA in 2020-03-16   \n",
       "\n",
       "       buisness_year posting_date document_create_date due_in_date  \\\n",
       "0               2019   2018-12-30           2018-12-29  2019-01-14   \n",
       "1               2019   2018-12-30           2018-12-29  2019-01-14   \n",
       "2               2019   2018-12-30           2018-12-30  2019-01-14   \n",
       "3               2019   2018-12-30           2018-12-29  2019-01-14   \n",
       "4               2019   2018-12-30           2018-12-29  2019-01-14   \n",
       "...              ...          ...                  ...         ...   \n",
       "39134           2020   2020-02-26           2020-02-25  2020-03-12   \n",
       "39135           2020   2020-02-27           2020-02-27  2020-03-13   \n",
       "39136           2020   2020-02-27           2020-02-26  2020-03-13   \n",
       "39137           2020   2020-02-27           2020-02-26  2020-03-13   \n",
       "39138           2020   2020-02-27           2020-02-27  2020-03-13   \n",
       "\n",
       "      invoice_currency  total_open_amount baseline_create_date  \\\n",
       "0                  USD            4593.26           2018-12-30   \n",
       "1                  USD           79309.48           2018-12-30   \n",
       "2                  USD           38289.77           2018-12-30   \n",
       "3                  USD            1911.77           2018-12-30   \n",
       "4                  USD           73065.70           2018-12-30   \n",
       "...                ...                ...                  ...   \n",
       "39134              USD           69712.31           2020-02-26   \n",
       "39135              USD           13720.67           2020-02-27   \n",
       "39136              USD           65988.21           2020-02-27   \n",
       "39137              USD            3396.48           2020-02-27   \n",
       "39138              USD           13750.69           2020-02-27   \n",
       "\n",
       "      cust_payment_terms    invoice_id  \n",
       "0                   NAA8  1.928535e+09  \n",
       "1                   NAH4  1.928537e+09  \n",
       "2                   NAH4  1.928542e+09  \n",
       "3                   NAC6  1.928540e+09  \n",
       "4                   NAH4  1.928531e+09  \n",
       "...                  ...           ...  \n",
       "39134               NAH4  1.930567e+09  \n",
       "39135               NAAX  1.930577e+09  \n",
       "39136               NAH4  1.930572e+09  \n",
       "39137               NAH4  1.930572e+09  \n",
       "39138               NAH4  1.930577e+09  \n",
       "\n",
       "[39139 rows x 13 columns]"
      ]
     },
     "execution_count": 32,
     "metadata": {},
     "output_type": "execute_result"
    }
   ],
   "source": [
    "train"
   ]
  },
  {
   "cell_type": "code",
   "execution_count": 33,
   "metadata": {},
   "outputs": [],
   "source": [
    "#  making of delay Delay column \n",
    "train['Delay']= (train['clear_date'] - train['due_in_date']).dt.days"
   ]
  },
  {
   "cell_type": "code",
   "execution_count": 34,
   "metadata": {},
   "outputs": [],
   "source": [
    "#outlier removal from the data set\n",
    "Q1 = train['total_open_amount'].quantile(0.25)\n",
    "Q3 = train['total_open_amount'].quantile(0.75)\n",
    "IQR = Q3-Q1"
   ]
  },
  {
   "cell_type": "code",
   "execution_count": 35,
   "metadata": {},
   "outputs": [
    {
     "data": {
      "text/plain": [
       "(312, 14)"
      ]
     },
     "execution_count": 35,
     "metadata": {},
     "output_type": "execute_result"
    }
   ],
   "source": [
    "train[(train['total_open_amount'] < Q1-3*IQR) |(train['total_open_amount'] > Q3+3*IQR)].shape"
   ]
  },
  {
   "cell_type": "code",
   "execution_count": 36,
   "metadata": {},
   "outputs": [],
   "source": [
    "train=train.loc[(train['total_open_amount'] > Q1-3*IQR) &(train['total_open_amount'] < Q3+3*IQR)]"
   ]
  },
  {
   "cell_type": "code",
   "execution_count": 37,
   "metadata": {
    "scrolled": true
   },
   "outputs": [
    {
     "data": {
      "text/html": [
       "<div>\n",
       "<style scoped>\n",
       "    .dataframe tbody tr th:only-of-type {\n",
       "        vertical-align: middle;\n",
       "    }\n",
       "\n",
       "    .dataframe tbody tr th {\n",
       "        vertical-align: top;\n",
       "    }\n",
       "\n",
       "    .dataframe thead th {\n",
       "        text-align: right;\n",
       "    }\n",
       "</style>\n",
       "<table border=\"1\" class=\"dataframe\">\n",
       "  <thead>\n",
       "    <tr style=\"text-align: right;\">\n",
       "      <th></th>\n",
       "      <th>business_code</th>\n",
       "      <th>cust_number</th>\n",
       "      <th>name_customer</th>\n",
       "      <th>clear_date</th>\n",
       "      <th>buisness_year</th>\n",
       "      <th>posting_date</th>\n",
       "      <th>document_create_date</th>\n",
       "      <th>due_in_date</th>\n",
       "      <th>invoice_currency</th>\n",
       "      <th>total_open_amount</th>\n",
       "      <th>baseline_create_date</th>\n",
       "      <th>cust_payment_terms</th>\n",
       "      <th>invoice_id</th>\n",
       "      <th>Delay</th>\n",
       "    </tr>\n",
       "  </thead>\n",
       "  <tbody>\n",
       "    <tr>\n",
       "      <th>0</th>\n",
       "      <td>U001</td>\n",
       "      <td>0200761342</td>\n",
       "      <td>EL GR associates</td>\n",
       "      <td>2019-01-14</td>\n",
       "      <td>2019</td>\n",
       "      <td>2018-12-30</td>\n",
       "      <td>2018-12-29</td>\n",
       "      <td>2019-01-14</td>\n",
       "      <td>USD</td>\n",
       "      <td>4593.26</td>\n",
       "      <td>2018-12-30</td>\n",
       "      <td>NAA8</td>\n",
       "      <td>1.928535e+09</td>\n",
       "      <td>0</td>\n",
       "    </tr>\n",
       "    <tr>\n",
       "      <th>1</th>\n",
       "      <td>U001</td>\n",
       "      <td>0200769623</td>\n",
       "      <td>WAL-MAR corporation</td>\n",
       "      <td>2019-01-09</td>\n",
       "      <td>2019</td>\n",
       "      <td>2018-12-30</td>\n",
       "      <td>2018-12-29</td>\n",
       "      <td>2019-01-14</td>\n",
       "      <td>USD</td>\n",
       "      <td>79309.48</td>\n",
       "      <td>2018-12-30</td>\n",
       "      <td>NAH4</td>\n",
       "      <td>1.928537e+09</td>\n",
       "      <td>-5</td>\n",
       "    </tr>\n",
       "    <tr>\n",
       "      <th>2</th>\n",
       "      <td>U001</td>\n",
       "      <td>0200769623</td>\n",
       "      <td>WAL-MAR associates</td>\n",
       "      <td>2019-01-09</td>\n",
       "      <td>2019</td>\n",
       "      <td>2018-12-30</td>\n",
       "      <td>2018-12-30</td>\n",
       "      <td>2019-01-14</td>\n",
       "      <td>USD</td>\n",
       "      <td>38289.77</td>\n",
       "      <td>2018-12-30</td>\n",
       "      <td>NAH4</td>\n",
       "      <td>1.928542e+09</td>\n",
       "      <td>-5</td>\n",
       "    </tr>\n",
       "    <tr>\n",
       "      <th>3</th>\n",
       "      <td>U001</td>\n",
       "      <td>0200762301</td>\n",
       "      <td>C&amp;S WH us</td>\n",
       "      <td>2019-01-15</td>\n",
       "      <td>2019</td>\n",
       "      <td>2018-12-30</td>\n",
       "      <td>2018-12-29</td>\n",
       "      <td>2019-01-14</td>\n",
       "      <td>USD</td>\n",
       "      <td>1911.77</td>\n",
       "      <td>2018-12-30</td>\n",
       "      <td>NAC6</td>\n",
       "      <td>1.928540e+09</td>\n",
       "      <td>1</td>\n",
       "    </tr>\n",
       "    <tr>\n",
       "      <th>4</th>\n",
       "      <td>U001</td>\n",
       "      <td>0200769623</td>\n",
       "      <td>WAL-MAR</td>\n",
       "      <td>2019-01-15</td>\n",
       "      <td>2019</td>\n",
       "      <td>2018-12-30</td>\n",
       "      <td>2018-12-29</td>\n",
       "      <td>2019-01-14</td>\n",
       "      <td>USD</td>\n",
       "      <td>73065.70</td>\n",
       "      <td>2018-12-30</td>\n",
       "      <td>NAH4</td>\n",
       "      <td>1.928531e+09</td>\n",
       "      <td>1</td>\n",
       "    </tr>\n",
       "    <tr>\n",
       "      <th>...</th>\n",
       "      <td>...</td>\n",
       "      <td>...</td>\n",
       "      <td>...</td>\n",
       "      <td>...</td>\n",
       "      <td>...</td>\n",
       "      <td>...</td>\n",
       "      <td>...</td>\n",
       "      <td>...</td>\n",
       "      <td>...</td>\n",
       "      <td>...</td>\n",
       "      <td>...</td>\n",
       "      <td>...</td>\n",
       "      <td>...</td>\n",
       "      <td>...</td>\n",
       "    </tr>\n",
       "    <tr>\n",
       "      <th>39134</th>\n",
       "      <td>U001</td>\n",
       "      <td>0200769623</td>\n",
       "      <td>WAL-MAR foundation</td>\n",
       "      <td>2020-03-09</td>\n",
       "      <td>2020</td>\n",
       "      <td>2020-02-26</td>\n",
       "      <td>2020-02-25</td>\n",
       "      <td>2020-03-12</td>\n",
       "      <td>USD</td>\n",
       "      <td>69712.31</td>\n",
       "      <td>2020-02-26</td>\n",
       "      <td>NAH4</td>\n",
       "      <td>1.930567e+09</td>\n",
       "      <td>-3</td>\n",
       "    </tr>\n",
       "    <tr>\n",
       "      <th>39135</th>\n",
       "      <td>U001</td>\n",
       "      <td>0200794332</td>\n",
       "      <td>COST in</td>\n",
       "      <td>2020-03-12</td>\n",
       "      <td>2020</td>\n",
       "      <td>2020-02-27</td>\n",
       "      <td>2020-02-27</td>\n",
       "      <td>2020-03-13</td>\n",
       "      <td>USD</td>\n",
       "      <td>13720.67</td>\n",
       "      <td>2020-02-27</td>\n",
       "      <td>NAAX</td>\n",
       "      <td>1.930577e+09</td>\n",
       "      <td>-1</td>\n",
       "    </tr>\n",
       "    <tr>\n",
       "      <th>39136</th>\n",
       "      <td>U001</td>\n",
       "      <td>0200759878</td>\n",
       "      <td>SA corp</td>\n",
       "      <td>2020-03-13</td>\n",
       "      <td>2020</td>\n",
       "      <td>2020-02-27</td>\n",
       "      <td>2020-02-26</td>\n",
       "      <td>2020-03-13</td>\n",
       "      <td>USD</td>\n",
       "      <td>65988.21</td>\n",
       "      <td>2020-02-27</td>\n",
       "      <td>NAH4</td>\n",
       "      <td>1.930572e+09</td>\n",
       "      <td>0</td>\n",
       "    </tr>\n",
       "    <tr>\n",
       "      <th>39137</th>\n",
       "      <td>U001</td>\n",
       "      <td>0200759878</td>\n",
       "      <td>SA associates</td>\n",
       "      <td>2020-03-13</td>\n",
       "      <td>2020</td>\n",
       "      <td>2020-02-27</td>\n",
       "      <td>2020-02-26</td>\n",
       "      <td>2020-03-13</td>\n",
       "      <td>USD</td>\n",
       "      <td>3396.48</td>\n",
       "      <td>2020-02-27</td>\n",
       "      <td>NAH4</td>\n",
       "      <td>1.930572e+09</td>\n",
       "      <td>0</td>\n",
       "    </tr>\n",
       "    <tr>\n",
       "      <th>39138</th>\n",
       "      <td>U001</td>\n",
       "      <td>0200759878</td>\n",
       "      <td>SA in</td>\n",
       "      <td>2020-03-16</td>\n",
       "      <td>2020</td>\n",
       "      <td>2020-02-27</td>\n",
       "      <td>2020-02-27</td>\n",
       "      <td>2020-03-13</td>\n",
       "      <td>USD</td>\n",
       "      <td>13750.69</td>\n",
       "      <td>2020-02-27</td>\n",
       "      <td>NAH4</td>\n",
       "      <td>1.930577e+09</td>\n",
       "      <td>3</td>\n",
       "    </tr>\n",
       "  </tbody>\n",
       "</table>\n",
       "<p>38827 rows × 14 columns</p>\n",
       "</div>"
      ],
      "text/plain": [
       "      business_code cust_number        name_customer clear_date  \\\n",
       "0              U001  0200761342     EL GR associates 2019-01-14   \n",
       "1              U001  0200769623  WAL-MAR corporation 2019-01-09   \n",
       "2              U001  0200769623   WAL-MAR associates 2019-01-09   \n",
       "3              U001  0200762301            C&S WH us 2019-01-15   \n",
       "4              U001  0200769623             WAL-MAR  2019-01-15   \n",
       "...             ...         ...                  ...        ...   \n",
       "39134          U001  0200769623   WAL-MAR foundation 2020-03-09   \n",
       "39135          U001  0200794332              COST in 2020-03-12   \n",
       "39136          U001  0200759878              SA corp 2020-03-13   \n",
       "39137          U001  0200759878        SA associates 2020-03-13   \n",
       "39138          U001  0200759878                SA in 2020-03-16   \n",
       "\n",
       "       buisness_year posting_date document_create_date due_in_date  \\\n",
       "0               2019   2018-12-30           2018-12-29  2019-01-14   \n",
       "1               2019   2018-12-30           2018-12-29  2019-01-14   \n",
       "2               2019   2018-12-30           2018-12-30  2019-01-14   \n",
       "3               2019   2018-12-30           2018-12-29  2019-01-14   \n",
       "4               2019   2018-12-30           2018-12-29  2019-01-14   \n",
       "...              ...          ...                  ...         ...   \n",
       "39134           2020   2020-02-26           2020-02-25  2020-03-12   \n",
       "39135           2020   2020-02-27           2020-02-27  2020-03-13   \n",
       "39136           2020   2020-02-27           2020-02-26  2020-03-13   \n",
       "39137           2020   2020-02-27           2020-02-26  2020-03-13   \n",
       "39138           2020   2020-02-27           2020-02-27  2020-03-13   \n",
       "\n",
       "      invoice_currency  total_open_amount baseline_create_date  \\\n",
       "0                  USD            4593.26           2018-12-30   \n",
       "1                  USD           79309.48           2018-12-30   \n",
       "2                  USD           38289.77           2018-12-30   \n",
       "3                  USD            1911.77           2018-12-30   \n",
       "4                  USD           73065.70           2018-12-30   \n",
       "...                ...                ...                  ...   \n",
       "39134              USD           69712.31           2020-02-26   \n",
       "39135              USD           13720.67           2020-02-27   \n",
       "39136              USD           65988.21           2020-02-27   \n",
       "39137              USD            3396.48           2020-02-27   \n",
       "39138              USD           13750.69           2020-02-27   \n",
       "\n",
       "      cust_payment_terms    invoice_id  Delay  \n",
       "0                   NAA8  1.928535e+09      0  \n",
       "1                   NAH4  1.928537e+09     -5  \n",
       "2                   NAH4  1.928542e+09     -5  \n",
       "3                   NAC6  1.928540e+09      1  \n",
       "4                   NAH4  1.928531e+09      1  \n",
       "...                  ...           ...    ...  \n",
       "39134               NAH4  1.930567e+09     -3  \n",
       "39135               NAAX  1.930577e+09     -1  \n",
       "39136               NAH4  1.930572e+09      0  \n",
       "39137               NAH4  1.930572e+09      0  \n",
       "39138               NAH4  1.930577e+09      3  \n",
       "\n",
       "[38827 rows x 14 columns]"
      ]
     },
     "execution_count": 37,
     "metadata": {},
     "output_type": "execute_result"
    }
   ],
   "source": [
    "train"
   ]
  },
  {
   "cell_type": "markdown",
   "metadata": {},
   "source": [
    "# Train -Test -Validation split"
   ]
  },
  {
   "cell_type": "code",
   "execution_count": 38,
   "metadata": {},
   "outputs": [],
   "source": [
    "#Seperating Delay column\n",
    "y=train['Delay']"
   ]
  },
  {
   "cell_type": "code",
   "execution_count": 39,
   "metadata": {},
   "outputs": [
    {
     "data": {
      "text/plain": [
       "0    0\n",
       "1   -5\n",
       "2   -5\n",
       "3    1\n",
       "4    1\n",
       "Name: Delay, dtype: int64"
      ]
     },
     "execution_count": 39,
     "metadata": {},
     "output_type": "execute_result"
    }
   ],
   "source": [
    "y.head()"
   ]
  },
  {
   "cell_type": "code",
   "execution_count": 40,
   "metadata": {},
   "outputs": [],
   "source": [
    "X=train.drop(['Delay'],axis=1)"
   ]
  },
  {
   "cell_type": "code",
   "execution_count": 41,
   "metadata": {},
   "outputs": [],
   "source": [
    "# dividing in train and intermediate\n",
    "x_train,x_inter,y_train,y_inter = train_test_split(X,y,test_size=0.2,random_state=0,shuffle=False)"
   ]
  },
  {
   "cell_type": "code",
   "execution_count": 42,
   "metadata": {},
   "outputs": [
    {
     "data": {
      "text/plain": [
       "((31061, 13), (7766, 13))"
      ]
     },
     "execution_count": 42,
     "metadata": {},
     "output_type": "execute_result"
    }
   ],
   "source": [
    "x_train.shape,x_inter.shape"
   ]
  },
  {
   "cell_type": "code",
   "execution_count": 43,
   "metadata": {},
   "outputs": [],
   "source": [
    "# dividing in validation and test\n",
    "x_val,x_test,y_val,y_test =train_test_split(x_inter,y_inter,test_size=0.5,random_state=0,shuffle=False)"
   ]
  },
  {
   "cell_type": "code",
   "execution_count": 44,
   "metadata": {},
   "outputs": [
    {
     "data": {
      "text/plain": [
       "((3883, 13), (3883, 13))"
      ]
     },
     "execution_count": 44,
     "metadata": {},
     "output_type": "execute_result"
    }
   ],
   "source": [
    "x_val.shape,x_test.shape"
   ]
  },
  {
   "cell_type": "markdown",
   "metadata": {},
   "source": [
    "# EDA"
   ]
  },
  {
   "cell_type": "code",
   "execution_count": 45,
   "metadata": {},
   "outputs": [],
   "source": [
    "import matplotlib.pyplot as plt\n",
    "import seaborn as sns\n",
    "%matplotlib inline"
   ]
  },
  {
   "cell_type": "code",
   "execution_count": 46,
   "metadata": {},
   "outputs": [
    {
     "data": {
      "text/plain": [
       "<matplotlib.axes._subplots.AxesSubplot at 0x232432dc788>"
      ]
     },
     "execution_count": 46,
     "metadata": {},
     "output_type": "execute_result"
    },
    {
     "data": {
      "image/png": "[encoded data removed]",
      "text/plain": [
       "<Figure size 432x288 with 1 Axes>"
      ]
     },
     "metadata": {
      "needs_background": "light"
     },
     "output_type": "display_data"
    }
   ],
   "source": [
    "# distribution of the target(Delay) column \n",
    "# right skewed distribution\n",
    "# outliers present but not that significant , hence\n",
    "sns.distplot(y_train)"
   ]
  },
  {
   "cell_type": "code",
   "execution_count": 47,
   "metadata": {
    "scrolled": true
   },
   "outputs": [
    {
     "data": {
      "text/plain": [
       "{'whiskers': [<matplotlib.lines.Line2D at 0x23245b6da48>,\n",
       "  <matplotlib.lines.Line2D at 0x23245b6db48>],\n",
       " 'caps': [<matplotlib.lines.Line2D at 0x23245b71a08>,\n",
       "  <matplotlib.lines.Line2D at 0x23245b71b08>],\n",
       " 'boxes': [<matplotlib.lines.Line2D at 0x23245b59388>],\n",
       " 'medians': [<matplotlib.lines.Line2D at 0x23245b74988>],\n",
       " 'fliers': [<matplotlib.lines.Line2D at 0x23245b74fc8>],\n",
       " 'means': []}"
      ]
     },
     "execution_count": 47,
     "metadata": {},
     "output_type": "execute_result"
    },
    {
     "data": {
      "image/png": "[encoded data removed]",
      "text/plain": [
       "<Figure size 432x288 with 1 Axes>"
      ]
     },
     "metadata": {
      "needs_background": "light"
     },
     "output_type": "display_data"
    }
   ],
   "source": [
    "# box plot for outliers check\n",
    "fig1, ax1 = plt.subplots()\n",
    "ax1.set_title('Basic plot')\n",
    "ax1.boxplot(y_train)"
   ]
  },
  {
   "cell_type": "code",
   "execution_count": 48,
   "metadata": {},
   "outputs": [
    {
     "data": {
      "text/plain": [
       "dtype('int64')"
      ]
     },
     "execution_count": 48,
     "metadata": {},
     "output_type": "execute_result"
    }
   ],
   "source": [
    "y_train.dtype # checking data type of delay column "
   ]
  },
  {
   "cell_type": "code",
   "execution_count": 49,
   "metadata": {},
   "outputs": [
    {
     "data": {
      "text/plain": [
       "<matplotlib.axes._subplots.AxesSubplot at 0x23245bb4708>"
      ]
     },
     "execution_count": 49,
     "metadata": {},
     "output_type": "execute_result"
    },
    {
     "data": {
      "image/png": "[encoded data removed]",
      "text/plain": [
       "<Figure size 432x288 with 1 Axes>"
      ]
     },
     "metadata": {
      "needs_background": "light"
     },
     "output_type": "display_data"
    }
   ],
   "source": [
    "sns.distplot(x_train['total_open_amount']) "
   ]
  },
  {
   "cell_type": "code",
   "execution_count": 50,
   "metadata": {},
   "outputs": [],
   "source": [
    "x_train['total_open_amount_log']=np.log(x_train['total_open_amount']) # maping the data using log to get better accyracy"
   ]
  },
  {
   "cell_type": "code",
   "execution_count": 51,
   "metadata": {},
   "outputs": [],
   "source": [
    "x_val['total_open_amount_log']=np.log(x_val['total_open_amount'])"
   ]
  },
  {
   "cell_type": "code",
   "execution_count": 52,
   "metadata": {},
   "outputs": [],
   "source": [
    "x_test['total_open_amount_log']=np.log(x_test['total_open_amount'])"
   ]
  },
  {
   "cell_type": "code",
   "execution_count": 53,
   "metadata": {
    "scrolled": true
   },
   "outputs": [
    {
     "data": {
      "text/html": [
       "<div>\n",
       "<style scoped>\n",
       "    .dataframe tbody tr th:only-of-type {\n",
       "        vertical-align: middle;\n",
       "    }\n",
       "\n",
       "    .dataframe tbody tr th {\n",
       "        vertical-align: top;\n",
       "    }\n",
       "\n",
       "    .dataframe thead th {\n",
       "        text-align: right;\n",
       "    }\n",
       "</style>\n",
       "<table border=\"1\" class=\"dataframe\">\n",
       "  <thead>\n",
       "    <tr style=\"text-align: right;\">\n",
       "      <th></th>\n",
       "      <th>key_0</th>\n",
       "      <th>business_code</th>\n",
       "      <th>cust_number</th>\n",
       "      <th>name_customer</th>\n",
       "      <th>clear_date</th>\n",
       "      <th>buisness_year</th>\n",
       "      <th>posting_date</th>\n",
       "      <th>document_create_date</th>\n",
       "      <th>due_in_date</th>\n",
       "      <th>invoice_currency</th>\n",
       "      <th>total_open_amount</th>\n",
       "      <th>baseline_create_date</th>\n",
       "      <th>cust_payment_terms</th>\n",
       "      <th>invoice_id</th>\n",
       "      <th>total_open_amount_log</th>\n",
       "      <th>Delay</th>\n",
       "    </tr>\n",
       "  </thead>\n",
       "  <tbody>\n",
       "    <tr>\n",
       "      <th>0</th>\n",
       "      <td>0</td>\n",
       "      <td>U001</td>\n",
       "      <td>0200761342</td>\n",
       "      <td>EL GR associates</td>\n",
       "      <td>2019-01-14</td>\n",
       "      <td>2019</td>\n",
       "      <td>2018-12-30</td>\n",
       "      <td>2018-12-29</td>\n",
       "      <td>2019-01-14</td>\n",
       "      <td>USD</td>\n",
       "      <td>4593.26</td>\n",
       "      <td>2018-12-30</td>\n",
       "      <td>NAA8</td>\n",
       "      <td>1.928535e+09</td>\n",
       "      <td>8.432345</td>\n",
       "      <td>0</td>\n",
       "    </tr>\n",
       "    <tr>\n",
       "      <th>1</th>\n",
       "      <td>1</td>\n",
       "      <td>U001</td>\n",
       "      <td>0200769623</td>\n",
       "      <td>WAL-MAR corporation</td>\n",
       "      <td>2019-01-09</td>\n",
       "      <td>2019</td>\n",
       "      <td>2018-12-30</td>\n",
       "      <td>2018-12-29</td>\n",
       "      <td>2019-01-14</td>\n",
       "      <td>USD</td>\n",
       "      <td>79309.48</td>\n",
       "      <td>2018-12-30</td>\n",
       "      <td>NAH4</td>\n",
       "      <td>1.928537e+09</td>\n",
       "      <td>11.281113</td>\n",
       "      <td>-5</td>\n",
       "    </tr>\n",
       "    <tr>\n",
       "      <th>2</th>\n",
       "      <td>2</td>\n",
       "      <td>U001</td>\n",
       "      <td>0200769623</td>\n",
       "      <td>WAL-MAR associates</td>\n",
       "      <td>2019-01-09</td>\n",
       "      <td>2019</td>\n",
       "      <td>2018-12-30</td>\n",
       "      <td>2018-12-30</td>\n",
       "      <td>2019-01-14</td>\n",
       "      <td>USD</td>\n",
       "      <td>38289.77</td>\n",
       "      <td>2018-12-30</td>\n",
       "      <td>NAH4</td>\n",
       "      <td>1.928542e+09</td>\n",
       "      <td>10.552938</td>\n",
       "      <td>-5</td>\n",
       "    </tr>\n",
       "    <tr>\n",
       "      <th>3</th>\n",
       "      <td>3</td>\n",
       "      <td>U001</td>\n",
       "      <td>0200762301</td>\n",
       "      <td>C&amp;S WH us</td>\n",
       "      <td>2019-01-15</td>\n",
       "      <td>2019</td>\n",
       "      <td>2018-12-30</td>\n",
       "      <td>2018-12-29</td>\n",
       "      <td>2019-01-14</td>\n",
       "      <td>USD</td>\n",
       "      <td>1911.77</td>\n",
       "      <td>2018-12-30</td>\n",
       "      <td>NAC6</td>\n",
       "      <td>1.928540e+09</td>\n",
       "      <td>7.555785</td>\n",
       "      <td>1</td>\n",
       "    </tr>\n",
       "    <tr>\n",
       "      <th>4</th>\n",
       "      <td>4</td>\n",
       "      <td>U001</td>\n",
       "      <td>0200769623</td>\n",
       "      <td>WAL-MAR</td>\n",
       "      <td>2019-01-15</td>\n",
       "      <td>2019</td>\n",
       "      <td>2018-12-30</td>\n",
       "      <td>2018-12-29</td>\n",
       "      <td>2019-01-14</td>\n",
       "      <td>USD</td>\n",
       "      <td>73065.70</td>\n",
       "      <td>2018-12-30</td>\n",
       "      <td>NAH4</td>\n",
       "      <td>1.928531e+09</td>\n",
       "      <td>11.199114</td>\n",
       "      <td>1</td>\n",
       "    </tr>\n",
       "    <tr>\n",
       "      <th>...</th>\n",
       "      <td>...</td>\n",
       "      <td>...</td>\n",
       "      <td>...</td>\n",
       "      <td>...</td>\n",
       "      <td>...</td>\n",
       "      <td>...</td>\n",
       "      <td>...</td>\n",
       "      <td>...</td>\n",
       "      <td>...</td>\n",
       "      <td>...</td>\n",
       "      <td>...</td>\n",
       "      <td>...</td>\n",
       "      <td>...</td>\n",
       "      <td>...</td>\n",
       "      <td>...</td>\n",
       "      <td>...</td>\n",
       "    </tr>\n",
       "    <tr>\n",
       "      <th>31056</th>\n",
       "      <td>31309</td>\n",
       "      <td>U001</td>\n",
       "      <td>0200706844</td>\n",
       "      <td>WINC us</td>\n",
       "      <td>2019-12-05</td>\n",
       "      <td>2019</td>\n",
       "      <td>2019-11-19</td>\n",
       "      <td>2019-11-18</td>\n",
       "      <td>2019-12-04</td>\n",
       "      <td>USD</td>\n",
       "      <td>6579.78</td>\n",
       "      <td>2019-11-19</td>\n",
       "      <td>NAA8</td>\n",
       "      <td>1.930164e+09</td>\n",
       "      <td>8.791757</td>\n",
       "      <td>1</td>\n",
       "    </tr>\n",
       "    <tr>\n",
       "      <th>31057</th>\n",
       "      <td>31310</td>\n",
       "      <td>U001</td>\n",
       "      <td>0200726979</td>\n",
       "      <td>BJ'S  corporation</td>\n",
       "      <td>2019-12-04</td>\n",
       "      <td>2019</td>\n",
       "      <td>2019-11-19</td>\n",
       "      <td>2019-11-19</td>\n",
       "      <td>2019-12-04</td>\n",
       "      <td>USD</td>\n",
       "      <td>311.93</td>\n",
       "      <td>2019-11-19</td>\n",
       "      <td>NAA8</td>\n",
       "      <td>1.930170e+09</td>\n",
       "      <td>5.742779</td>\n",
       "      <td>0</td>\n",
       "    </tr>\n",
       "    <tr>\n",
       "      <th>31058</th>\n",
       "      <td>31311</td>\n",
       "      <td>U001</td>\n",
       "      <td>0200792293</td>\n",
       "      <td>UNIFIE corp</td>\n",
       "      <td>2019-12-04</td>\n",
       "      <td>2019</td>\n",
       "      <td>2019-11-19</td>\n",
       "      <td>2019-11-18</td>\n",
       "      <td>2019-12-04</td>\n",
       "      <td>USD</td>\n",
       "      <td>51234.77</td>\n",
       "      <td>2019-11-19</td>\n",
       "      <td>NAA8</td>\n",
       "      <td>1.930166e+09</td>\n",
       "      <td>10.844174</td>\n",
       "      <td>0</td>\n",
       "    </tr>\n",
       "    <tr>\n",
       "      <th>31059</th>\n",
       "      <td>31312</td>\n",
       "      <td>U001</td>\n",
       "      <td>0200397526</td>\n",
       "      <td>JAKE in</td>\n",
       "      <td>2019-12-16</td>\n",
       "      <td>2019</td>\n",
       "      <td>2019-11-19</td>\n",
       "      <td>2019-11-15</td>\n",
       "      <td>2019-12-04</td>\n",
       "      <td>USD</td>\n",
       "      <td>10130.62</td>\n",
       "      <td>2019-11-19</td>\n",
       "      <td>NAA8</td>\n",
       "      <td>1.930158e+09</td>\n",
       "      <td>9.223318</td>\n",
       "      <td>12</td>\n",
       "    </tr>\n",
       "    <tr>\n",
       "      <th>31060</th>\n",
       "      <td>31313</td>\n",
       "      <td>U001</td>\n",
       "      <td>0200759878</td>\n",
       "      <td>SA co</td>\n",
       "      <td>2019-12-05</td>\n",
       "      <td>2019</td>\n",
       "      <td>2019-11-19</td>\n",
       "      <td>2019-11-15</td>\n",
       "      <td>2019-12-04</td>\n",
       "      <td>USD</td>\n",
       "      <td>18900.99</td>\n",
       "      <td>2019-11-19</td>\n",
       "      <td>NAH4</td>\n",
       "      <td>1.930159e+09</td>\n",
       "      <td>9.846970</td>\n",
       "      <td>1</td>\n",
       "    </tr>\n",
       "  </tbody>\n",
       "</table>\n",
       "<p>31061 rows × 16 columns</p>\n",
       "</div>"
      ],
      "text/plain": [
       "       key_0 business_code cust_number        name_customer clear_date  \\\n",
       "0          0          U001  0200761342     EL GR associates 2019-01-14   \n",
       "1          1          U001  0200769623  WAL-MAR corporation 2019-01-09   \n",
       "2          2          U001  0200769623   WAL-MAR associates 2019-01-09   \n",
       "3          3          U001  0200762301            C&S WH us 2019-01-15   \n",
       "4          4          U001  0200769623             WAL-MAR  2019-01-15   \n",
       "...      ...           ...         ...                  ...        ...   \n",
       "31056  31309          U001  0200706844              WINC us 2019-12-05   \n",
       "31057  31310          U001  0200726979    BJ'S  corporation 2019-12-04   \n",
       "31058  31311          U001  0200792293          UNIFIE corp 2019-12-04   \n",
       "31059  31312          U001  0200397526              JAKE in 2019-12-16   \n",
       "31060  31313          U001  0200759878                SA co 2019-12-05   \n",
       "\n",
       "       buisness_year posting_date document_create_date due_in_date  \\\n",
       "0               2019   2018-12-30           2018-12-29  2019-01-14   \n",
       "1               2019   2018-12-30           2018-12-29  2019-01-14   \n",
       "2               2019   2018-12-30           2018-12-30  2019-01-14   \n",
       "3               2019   2018-12-30           2018-12-29  2019-01-14   \n",
       "4               2019   2018-12-30           2018-12-29  2019-01-14   \n",
       "...              ...          ...                  ...         ...   \n",
       "31056           2019   2019-11-19           2019-11-18  2019-12-04   \n",
       "31057           2019   2019-11-19           2019-11-19  2019-12-04   \n",
       "31058           2019   2019-11-19           2019-11-18  2019-12-04   \n",
       "31059           2019   2019-11-19           2019-11-15  2019-12-04   \n",
       "31060           2019   2019-11-19           2019-11-15  2019-12-04   \n",
       "\n",
       "      invoice_currency  total_open_amount baseline_create_date  \\\n",
       "0                  USD            4593.26           2018-12-30   \n",
       "1                  USD           79309.48           2018-12-30   \n",
       "2                  USD           38289.77           2018-12-30   \n",
       "3                  USD            1911.77           2018-12-30   \n",
       "4                  USD           73065.70           2018-12-30   \n",
       "...                ...                ...                  ...   \n",
       "31056              USD            6579.78           2019-11-19   \n",
       "31057              USD             311.93           2019-11-19   \n",
       "31058              USD           51234.77           2019-11-19   \n",
       "31059              USD           10130.62           2019-11-19   \n",
       "31060              USD           18900.99           2019-11-19   \n",
       "\n",
       "      cust_payment_terms    invoice_id  total_open_amount_log  Delay  \n",
       "0                   NAA8  1.928535e+09               8.432345      0  \n",
       "1                   NAH4  1.928537e+09              11.281113     -5  \n",
       "2                   NAH4  1.928542e+09              10.552938     -5  \n",
       "3                   NAC6  1.928540e+09               7.555785      1  \n",
       "4                   NAH4  1.928531e+09              11.199114      1  \n",
       "...                  ...           ...                    ...    ...  \n",
       "31056               NAA8  1.930164e+09               8.791757      1  \n",
       "31057               NAA8  1.930170e+09               5.742779      0  \n",
       "31058               NAA8  1.930166e+09              10.844174      0  \n",
       "31059               NAA8  1.930158e+09               9.223318     12  \n",
       "31060               NAH4  1.930159e+09               9.846970      1  \n",
       "\n",
       "[31061 rows x 16 columns]"
      ]
     },
     "execution_count": 53,
     "metadata": {},
     "output_type": "execute_result"
    }
   ],
   "source": [
    "x_train.merge(y_train,on = x_train.index)"
   ]
  },
  {
   "cell_type": "code",
   "execution_count": 54,
   "metadata": {},
   "outputs": [
    {
     "data": {
      "text/plain": [
       "<matplotlib.axes._subplots.AxesSubplot at 0x23245bac248>"
      ]
     },
     "execution_count": 54,
     "metadata": {},
     "output_type": "execute_result"
    },
    {
     "data": {
      "image/png": "[encoded data removed]",
      "text/plain": [
       "<Figure size 432x288 with 1 Axes>"
      ]
     },
     "metadata": {
      "needs_background": "light"
     },
     "output_type": "display_data"
    }
   ],
   "source": [
    "sns.boxplot(x=y_train)"
   ]
  },
  {
   "cell_type": "markdown",
   "metadata": {},
   "source": [
    "# FEATURE ENGINEERING"
   ]
  },
  {
   "cell_type": "markdown",
   "metadata": {},
   "source": [
    "##LabelEncoding"
   ]
  },
  {
   "cell_type": "code",
   "execution_count": 55,
   "metadata": {},
   "outputs": [],
   "source": [
    "from sklearn.preprocessing import LabelEncoder"
   ]
  },
  {
   "cell_type": "code",
   "execution_count": 56,
   "metadata": {},
   "outputs": [
    {
     "data": {
      "text/plain": [
       "business_code                    object\n",
       "cust_number                      object\n",
       "name_customer                    object\n",
       "clear_date               datetime64[ns]\n",
       "buisness_year                     int64\n",
       "posting_date             datetime64[ns]\n",
       "document_create_date     datetime64[ns]\n",
       "due_in_date              datetime64[ns]\n",
       "invoice_currency                 object\n",
       "total_open_amount               float64\n",
       "baseline_create_date     datetime64[ns]\n",
       "cust_payment_terms               object\n",
       "invoice_id                      float64\n",
       "total_open_amount_log           float64\n",
       "dtype: object"
      ]
     },
     "execution_count": 56,
     "metadata": {},
     "output_type": "execute_result"
    }
   ],
   "source": [
    "x_train.dtypes"
   ]
  },
  {
   "cell_type": "code",
   "execution_count": 57,
   "metadata": {},
   "outputs": [
    {
     "data": {
      "text/plain": [
       "U001    28267\n",
       "CA02     2258\n",
       "U013      435\n",
       "U002       93\n",
       "U007        4\n",
       "U005        4\n",
       "Name: business_code, dtype: int64"
      ]
     },
     "execution_count": 57,
     "metadata": {},
     "output_type": "execute_result"
    }
   ],
   "source": [
    "x_train.business_code.value_counts()"
   ]
  },
  {
   "cell_type": "code",
   "execution_count": 58,
   "metadata": {},
   "outputs": [],
   "source": [
    "#lavel encoding of business_code for all three data set\n",
    "business_code_enc = LabelEncoder()\n",
    "business_code_enc.fit(x_train['business_code'])\n",
    "x_train['business_code_enc'] = business_code_enc.transform(x_train['business_code'])"
   ]
  },
  {
   "cell_type": "code",
   "execution_count": 59,
   "metadata": {},
   "outputs": [],
   "source": [
    "x_val['business_code_enc'] = business_code_enc.transform(x_val['business_code'])\n",
    "x_test['business_code_enc'] = business_code_enc.transform(x_test['business_code'])"
   ]
  },
  {
   "cell_type": "code",
   "execution_count": 60,
   "metadata": {},
   "outputs": [],
   "source": [
    "# defining a function to drop the encoded column so that we don't need to use drop code again and again\n",
    "def snap(col,traindf =x_train,valdf = x_val,testdf = x_test):\n",
    "    traindf.drop(col,inplace=True,axis=1)\n",
    "    valdf.drop(col,inplace=True,axis=1)\n",
    "    testdf.drop(col,inplace=True,axis=1)\n",
    "    return traindf,valdf,testdf"
   ]
  },
  {
   "cell_type": "code",
   "execution_count": 61,
   "metadata": {},
   "outputs": [],
   "source": [
    "# Droping business column as it is encoded\n",
    "x_train,x_val,x_test = snap(\"business_code\")"
   ]
  },
  {
   "cell_type": "code",
   "execution_count": 62,
   "metadata": {},
   "outputs": [
    {
     "data": {
      "text/plain": [
       "cust_number                      object\n",
       "name_customer                    object\n",
       "clear_date               datetime64[ns]\n",
       "buisness_year                     int64\n",
       "posting_date             datetime64[ns]\n",
       "document_create_date     datetime64[ns]\n",
       "due_in_date              datetime64[ns]\n",
       "invoice_currency                 object\n",
       "total_open_amount               float64\n",
       "baseline_create_date     datetime64[ns]\n",
       "cust_payment_terms               object\n",
       "invoice_id                      float64\n",
       "total_open_amount_log           float64\n",
       "business_code_enc                 int32\n",
       "dtype: object"
      ]
     },
     "execution_count": 62,
     "metadata": {},
     "output_type": "execute_result"
    }
   ],
   "source": [
    "x_train.dtypes"
   ]
  },
  {
   "cell_type": "code",
   "execution_count": 63,
   "metadata": {},
   "outputs": [
    {
     "data": {
      "text/plain": [
       "USD    28802\n",
       "CAD     2259\n",
       "Name: invoice_currency, dtype: int64"
      ]
     },
     "execution_count": 63,
     "metadata": {},
     "output_type": "execute_result"
    }
   ],
   "source": [
    "# counting different values\n",
    "x_train.invoice_currency.value_counts()"
   ]
  },
  {
   "cell_type": "code",
   "execution_count": 64,
   "metadata": {},
   "outputs": [],
   "source": [
    "# encoding invoice_currency using labelEncoder\n",
    "invoice_currency_enc = LabelEncoder()\n",
    "invoice_currency_enc.fit(x_train['invoice_currency'])\n",
    "x_train['invoice_currency_enc'] = invoice_currency_enc.transform(x_train['invoice_currency'])\n",
    "x_val['invoice_currency_enc'] = invoice_currency_enc.transform(x_val['invoice_currency'])\n",
    "x_test['invoice_currency_enc'] = invoice_currency_enc.transform(x_test['invoice_currency'])"
   ]
  },
  {
   "cell_type": "code",
   "execution_count": 65,
   "metadata": {},
   "outputs": [],
   "source": [
    "x_train,x_val,x_test = snap(\"invoice_currency\")"
   ]
  },
  {
   "cell_type": "code",
   "execution_count": 66,
   "metadata": {},
   "outputs": [
    {
     "data": {
      "text/html": [
       "<div>\n",
       "<style scoped>\n",
       "    .dataframe tbody tr th:only-of-type {\n",
       "        vertical-align: middle;\n",
       "    }\n",
       "\n",
       "    .dataframe tbody tr th {\n",
       "        vertical-align: top;\n",
       "    }\n",
       "\n",
       "    .dataframe thead th {\n",
       "        text-align: right;\n",
       "    }\n",
       "</style>\n",
       "<table border=\"1\" class=\"dataframe\">\n",
       "  <thead>\n",
       "    <tr style=\"text-align: right;\">\n",
       "      <th></th>\n",
       "      <th>cust_number</th>\n",
       "      <th>name_customer</th>\n",
       "      <th>clear_date</th>\n",
       "      <th>buisness_year</th>\n",
       "      <th>posting_date</th>\n",
       "      <th>document_create_date</th>\n",
       "      <th>due_in_date</th>\n",
       "      <th>total_open_amount</th>\n",
       "      <th>baseline_create_date</th>\n",
       "      <th>cust_payment_terms</th>\n",
       "      <th>invoice_id</th>\n",
       "      <th>total_open_amount_log</th>\n",
       "      <th>business_code_enc</th>\n",
       "      <th>invoice_currency_enc</th>\n",
       "    </tr>\n",
       "  </thead>\n",
       "  <tbody>\n",
       "    <tr>\n",
       "      <th>0</th>\n",
       "      <td>0200761342</td>\n",
       "      <td>EL GR associates</td>\n",
       "      <td>2019-01-14</td>\n",
       "      <td>2019</td>\n",
       "      <td>2018-12-30</td>\n",
       "      <td>2018-12-29</td>\n",
       "      <td>2019-01-14</td>\n",
       "      <td>4593.26</td>\n",
       "      <td>2018-12-30</td>\n",
       "      <td>NAA8</td>\n",
       "      <td>1.928535e+09</td>\n",
       "      <td>8.432345</td>\n",
       "      <td>1</td>\n",
       "      <td>1</td>\n",
       "    </tr>\n",
       "    <tr>\n",
       "      <th>1</th>\n",
       "      <td>0200769623</td>\n",
       "      <td>WAL-MAR corporation</td>\n",
       "      <td>2019-01-09</td>\n",
       "      <td>2019</td>\n",
       "      <td>2018-12-30</td>\n",
       "      <td>2018-12-29</td>\n",
       "      <td>2019-01-14</td>\n",
       "      <td>79309.48</td>\n",
       "      <td>2018-12-30</td>\n",
       "      <td>NAH4</td>\n",
       "      <td>1.928537e+09</td>\n",
       "      <td>11.281113</td>\n",
       "      <td>1</td>\n",
       "      <td>1</td>\n",
       "    </tr>\n",
       "    <tr>\n",
       "      <th>2</th>\n",
       "      <td>0200769623</td>\n",
       "      <td>WAL-MAR associates</td>\n",
       "      <td>2019-01-09</td>\n",
       "      <td>2019</td>\n",
       "      <td>2018-12-30</td>\n",
       "      <td>2018-12-30</td>\n",
       "      <td>2019-01-14</td>\n",
       "      <td>38289.77</td>\n",
       "      <td>2018-12-30</td>\n",
       "      <td>NAH4</td>\n",
       "      <td>1.928542e+09</td>\n",
       "      <td>10.552938</td>\n",
       "      <td>1</td>\n",
       "      <td>1</td>\n",
       "    </tr>\n",
       "    <tr>\n",
       "      <th>3</th>\n",
       "      <td>0200762301</td>\n",
       "      <td>C&amp;S WH us</td>\n",
       "      <td>2019-01-15</td>\n",
       "      <td>2019</td>\n",
       "      <td>2018-12-30</td>\n",
       "      <td>2018-12-29</td>\n",
       "      <td>2019-01-14</td>\n",
       "      <td>1911.77</td>\n",
       "      <td>2018-12-30</td>\n",
       "      <td>NAC6</td>\n",
       "      <td>1.928540e+09</td>\n",
       "      <td>7.555785</td>\n",
       "      <td>1</td>\n",
       "      <td>1</td>\n",
       "    </tr>\n",
       "    <tr>\n",
       "      <th>4</th>\n",
       "      <td>0200769623</td>\n",
       "      <td>WAL-MAR</td>\n",
       "      <td>2019-01-15</td>\n",
       "      <td>2019</td>\n",
       "      <td>2018-12-30</td>\n",
       "      <td>2018-12-29</td>\n",
       "      <td>2019-01-14</td>\n",
       "      <td>73065.70</td>\n",
       "      <td>2018-12-30</td>\n",
       "      <td>NAH4</td>\n",
       "      <td>1.928531e+09</td>\n",
       "      <td>11.199114</td>\n",
       "      <td>1</td>\n",
       "      <td>1</td>\n",
       "    </tr>\n",
       "  </tbody>\n",
       "</table>\n",
       "</div>"
      ],
      "text/plain": [
       "  cust_number        name_customer clear_date  buisness_year posting_date  \\\n",
       "0  0200761342     EL GR associates 2019-01-14           2019   2018-12-30   \n",
       "1  0200769623  WAL-MAR corporation 2019-01-09           2019   2018-12-30   \n",
       "2  0200769623   WAL-MAR associates 2019-01-09           2019   2018-12-30   \n",
       "3  0200762301            C&S WH us 2019-01-15           2019   2018-12-30   \n",
       "4  0200769623             WAL-MAR  2019-01-15           2019   2018-12-30   \n",
       "\n",
       "  document_create_date due_in_date  total_open_amount baseline_create_date  \\\n",
       "0           2018-12-29  2019-01-14            4593.26           2018-12-30   \n",
       "1           2018-12-29  2019-01-14           79309.48           2018-12-30   \n",
       "2           2018-12-30  2019-01-14           38289.77           2018-12-30   \n",
       "3           2018-12-29  2019-01-14            1911.77           2018-12-30   \n",
       "4           2018-12-29  2019-01-14           73065.70           2018-12-30   \n",
       "\n",
       "  cust_payment_terms    invoice_id  total_open_amount_log  business_code_enc  \\\n",
       "0               NAA8  1.928535e+09               8.432345                  1   \n",
       "1               NAH4  1.928537e+09              11.281113                  1   \n",
       "2               NAH4  1.928542e+09              10.552938                  1   \n",
       "3               NAC6  1.928540e+09               7.555785                  1   \n",
       "4               NAH4  1.928531e+09              11.199114                  1   \n",
       "\n",
       "   invoice_currency_enc  \n",
       "0                     1  \n",
       "1                     1  \n",
       "2                     1  \n",
       "3                     1  \n",
       "4                     1  "
      ]
     },
     "execution_count": 66,
     "metadata": {},
     "output_type": "execute_result"
    }
   ],
   "source": [
    "x_train.head()"
   ]
  },
  {
   "cell_type": "code",
   "execution_count": 67,
   "metadata": {},
   "outputs": [],
   "source": [
    "# extract date , day ,month , year of the journey\n",
    "# 0--> Monday ..... 6--> Sunday\n",
    "x_train['post_Date_of_week']=x_train['posting_date'].dt.weekday\n",
    "x_val['post_Date_of_week']=x_val['posting_date'].dt.weekday\n",
    "x_test['post_Date_of_week']=x_test['posting_date'].dt.weekday\n",
    "\n",
    "x_train['post_Day']=x_train['posting_date'].dt.day\n",
    "x_val['post_Day']=x_val['posting_date'].dt.day\n",
    "x_test['post_Day']=x_test['posting_date'].dt.day\n",
    "\n",
    "x_train['post_month']=x_train['posting_date'].dt.month\n",
    "x_val['post_month']=x_val['posting_date'].dt.month\n",
    "x_test['post_month']=x_test['posting_date'].dt.month\n",
    "\n",
    "x_train['post_year']=x_train['posting_date'].dt.year\n",
    "x_val['post_year']=x_val['posting_date'].dt.year\n",
    "x_test['post_year']=x_test['posting_date'].dt.year"
   ]
  },
  {
   "cell_type": "code",
   "execution_count": 68,
   "metadata": {},
   "outputs": [],
   "source": [
    "x_train,x_val,x_test = snap(\"posting_date\")"
   ]
  },
  {
   "cell_type": "code",
   "execution_count": 69,
   "metadata": {
    "scrolled": false
   },
   "outputs": [
    {
     "data": {
      "text/html": [
       "<div>\n",
       "<style scoped>\n",
       "    .dataframe tbody tr th:only-of-type {\n",
       "        vertical-align: middle;\n",
       "    }\n",
       "\n",
       "    .dataframe tbody tr th {\n",
       "        vertical-align: top;\n",
       "    }\n",
       "\n",
       "    .dataframe thead th {\n",
       "        text-align: right;\n",
       "    }\n",
       "</style>\n",
       "<table border=\"1\" class=\"dataframe\">\n",
       "  <thead>\n",
       "    <tr style=\"text-align: right;\">\n",
       "      <th></th>\n",
       "      <th>cust_number</th>\n",
       "      <th>name_customer</th>\n",
       "      <th>clear_date</th>\n",
       "      <th>buisness_year</th>\n",
       "      <th>document_create_date</th>\n",
       "      <th>due_in_date</th>\n",
       "      <th>total_open_amount</th>\n",
       "      <th>baseline_create_date</th>\n",
       "      <th>cust_payment_terms</th>\n",
       "      <th>invoice_id</th>\n",
       "      <th>total_open_amount_log</th>\n",
       "      <th>business_code_enc</th>\n",
       "      <th>invoice_currency_enc</th>\n",
       "      <th>post_Date_of_week</th>\n",
       "      <th>post_Day</th>\n",
       "      <th>post_month</th>\n",
       "      <th>post_year</th>\n",
       "    </tr>\n",
       "  </thead>\n",
       "  <tbody>\n",
       "    <tr>\n",
       "      <th>0</th>\n",
       "      <td>0200761342</td>\n",
       "      <td>EL GR associates</td>\n",
       "      <td>2019-01-14</td>\n",
       "      <td>2019</td>\n",
       "      <td>2018-12-29</td>\n",
       "      <td>2019-01-14</td>\n",
       "      <td>4593.26</td>\n",
       "      <td>2018-12-30</td>\n",
       "      <td>NAA8</td>\n",
       "      <td>1.928535e+09</td>\n",
       "      <td>8.432345</td>\n",
       "      <td>1</td>\n",
       "      <td>1</td>\n",
       "      <td>6</td>\n",
       "      <td>30</td>\n",
       "      <td>12</td>\n",
       "      <td>2018</td>\n",
       "    </tr>\n",
       "    <tr>\n",
       "      <th>1</th>\n",
       "      <td>0200769623</td>\n",
       "      <td>WAL-MAR corporation</td>\n",
       "      <td>2019-01-09</td>\n",
       "      <td>2019</td>\n",
       "      <td>2018-12-29</td>\n",
       "      <td>2019-01-14</td>\n",
       "      <td>79309.48</td>\n",
       "      <td>2018-12-30</td>\n",
       "      <td>NAH4</td>\n",
       "      <td>1.928537e+09</td>\n",
       "      <td>11.281113</td>\n",
       "      <td>1</td>\n",
       "      <td>1</td>\n",
       "      <td>6</td>\n",
       "      <td>30</td>\n",
       "      <td>12</td>\n",
       "      <td>2018</td>\n",
       "    </tr>\n",
       "    <tr>\n",
       "      <th>2</th>\n",
       "      <td>0200769623</td>\n",
       "      <td>WAL-MAR associates</td>\n",
       "      <td>2019-01-09</td>\n",
       "      <td>2019</td>\n",
       "      <td>2018-12-30</td>\n",
       "      <td>2019-01-14</td>\n",
       "      <td>38289.77</td>\n",
       "      <td>2018-12-30</td>\n",
       "      <td>NAH4</td>\n",
       "      <td>1.928542e+09</td>\n",
       "      <td>10.552938</td>\n",
       "      <td>1</td>\n",
       "      <td>1</td>\n",
       "      <td>6</td>\n",
       "      <td>30</td>\n",
       "      <td>12</td>\n",
       "      <td>2018</td>\n",
       "    </tr>\n",
       "    <tr>\n",
       "      <th>3</th>\n",
       "      <td>0200762301</td>\n",
       "      <td>C&amp;S WH us</td>\n",
       "      <td>2019-01-15</td>\n",
       "      <td>2019</td>\n",
       "      <td>2018-12-29</td>\n",
       "      <td>2019-01-14</td>\n",
       "      <td>1911.77</td>\n",
       "      <td>2018-12-30</td>\n",
       "      <td>NAC6</td>\n",
       "      <td>1.928540e+09</td>\n",
       "      <td>7.555785</td>\n",
       "      <td>1</td>\n",
       "      <td>1</td>\n",
       "      <td>6</td>\n",
       "      <td>30</td>\n",
       "      <td>12</td>\n",
       "      <td>2018</td>\n",
       "    </tr>\n",
       "    <tr>\n",
       "      <th>4</th>\n",
       "      <td>0200769623</td>\n",
       "      <td>WAL-MAR</td>\n",
       "      <td>2019-01-15</td>\n",
       "      <td>2019</td>\n",
       "      <td>2018-12-29</td>\n",
       "      <td>2019-01-14</td>\n",
       "      <td>73065.70</td>\n",
       "      <td>2018-12-30</td>\n",
       "      <td>NAH4</td>\n",
       "      <td>1.928531e+09</td>\n",
       "      <td>11.199114</td>\n",
       "      <td>1</td>\n",
       "      <td>1</td>\n",
       "      <td>6</td>\n",
       "      <td>30</td>\n",
       "      <td>12</td>\n",
       "      <td>2018</td>\n",
       "    </tr>\n",
       "  </tbody>\n",
       "</table>\n",
       "</div>"
      ],
      "text/plain": [
       "  cust_number        name_customer clear_date  buisness_year  \\\n",
       "0  0200761342     EL GR associates 2019-01-14           2019   \n",
       "1  0200769623  WAL-MAR corporation 2019-01-09           2019   \n",
       "2  0200769623   WAL-MAR associates 2019-01-09           2019   \n",
       "3  0200762301            C&S WH us 2019-01-15           2019   \n",
       "4  0200769623             WAL-MAR  2019-01-15           2019   \n",
       "\n",
       "  document_create_date due_in_date  total_open_amount baseline_create_date  \\\n",
       "0           2018-12-29  2019-01-14            4593.26           2018-12-30   \n",
       "1           2018-12-29  2019-01-14           79309.48           2018-12-30   \n",
       "2           2018-12-30  2019-01-14           38289.77           2018-12-30   \n",
       "3           2018-12-29  2019-01-14            1911.77           2018-12-30   \n",
       "4           2018-12-29  2019-01-14           73065.70           2018-12-30   \n",
       "\n",
       "  cust_payment_terms    invoice_id  total_open_amount_log  business_code_enc  \\\n",
       "0               NAA8  1.928535e+09               8.432345                  1   \n",
       "1               NAH4  1.928537e+09              11.281113                  1   \n",
       "2               NAH4  1.928542e+09              10.552938                  1   \n",
       "3               NAC6  1.928540e+09               7.555785                  1   \n",
       "4               NAH4  1.928531e+09              11.199114                  1   \n",
       "\n",
       "   invoice_currency_enc  post_Date_of_week  post_Day  post_month  post_year  \n",
       "0                     1                  6        30          12       2018  \n",
       "1                     1                  6        30          12       2018  \n",
       "2                     1                  6        30          12       2018  \n",
       "3                     1                  6        30          12       2018  \n",
       "4                     1                  6        30          12       2018  "
      ]
     },
     "execution_count": 69,
     "metadata": {},
     "output_type": "execute_result"
    }
   ],
   "source": [
    "x_train.head()"
   ]
  },
  {
   "cell_type": "code",
   "execution_count": 70,
   "metadata": {},
   "outputs": [
    {
     "data": {
      "text/plain": [
       "WAL-MAR llc        697\n",
       "WAL-MAR systems    692\n",
       "WAL-MAR us         689\n",
       "WAL-MAR co         681\n",
       "WAL-MAR in         677\n",
       "                  ... \n",
       "LABAT trust          1\n",
       "NATURA corp          1\n",
       "DICK co              1\n",
       "DEALER systems       1\n",
       "WEST  co             1\n",
       "Name: name_customer, Length: 3531, dtype: int64"
      ]
     },
     "execution_count": 70,
     "metadata": {},
     "output_type": "execute_result"
    }
   ],
   "source": [
    "# value count for customer name\n",
    "x_train.name_customer.value_counts()"
   ]
  },
  {
   "cell_type": "code",
   "execution_count": 71,
   "metadata": {},
   "outputs": [
    {
     "data": {
      "text/plain": [
       "cust_number                      object\n",
       "name_customer                    object\n",
       "clear_date               datetime64[ns]\n",
       "buisness_year                     int64\n",
       "document_create_date     datetime64[ns]\n",
       "due_in_date              datetime64[ns]\n",
       "total_open_amount               float64\n",
       "baseline_create_date     datetime64[ns]\n",
       "cust_payment_terms               object\n",
       "invoice_id                      float64\n",
       "total_open_amount_log           float64\n",
       "business_code_enc                 int32\n",
       "invoice_currency_enc              int32\n",
       "post_Date_of_week                 int64\n",
       "post_Day                          int64\n",
       "post_month                        int64\n",
       "post_year                         int64\n",
       "dtype: object"
      ]
     },
     "execution_count": 71,
     "metadata": {},
     "output_type": "execute_result"
    }
   ],
   "source": [
    "x_train.dtypes"
   ]
  },
  {
   "cell_type": "code",
   "execution_count": 72,
   "metadata": {},
   "outputs": [],
   "source": [
    "# extract date , day ,month , year of the journey\n",
    "# 0--> Monday ..... 6--> Sunday\n",
    "x_train['due_in_week']=x_train['due_in_date'].dt.weekday\n",
    "x_val['due_in_week']=x_val['due_in_date'].dt.weekday\n",
    "x_test['due_in_week']=x_test['due_in_date'].dt.weekday\n",
    "\n",
    "x_train['due_in_day']=x_train['due_in_date'].dt.day\n",
    "x_val['due_in_day']=x_val['due_in_date'].dt.day\n",
    "x_test['due_in_day']=x_test['due_in_date'].dt.day\n",
    "\n",
    "x_train['due_in_month']=x_train['due_in_date'].dt.month\n",
    "x_val['due_in_month']=x_val['due_in_date'].dt.month\n",
    "x_test['due_in_month']=x_test['due_in_date'].dt.month\n",
    "\n",
    "x_train['due_in_year']=x_train['due_in_date'].dt.year\n",
    "x_val['due_in_year']=x_val['due_in_date'].dt.year\n",
    "x_test['due_in_year']=x_test['due_in_date'].dt.year"
   ]
  },
  {
   "cell_type": "code",
   "execution_count": 73,
   "metadata": {
    "scrolled": true
   },
   "outputs": [
    {
     "data": {
      "text/plain": [
       "cust_number                      object\n",
       "name_customer                    object\n",
       "clear_date               datetime64[ns]\n",
       "buisness_year                     int64\n",
       "document_create_date     datetime64[ns]\n",
       "due_in_date              datetime64[ns]\n",
       "total_open_amount               float64\n",
       "baseline_create_date     datetime64[ns]\n",
       "cust_payment_terms               object\n",
       "invoice_id                      float64\n",
       "total_open_amount_log           float64\n",
       "business_code_enc                 int32\n",
       "invoice_currency_enc              int32\n",
       "post_Date_of_week                 int64\n",
       "post_Day                          int64\n",
       "post_month                        int64\n",
       "post_year                         int64\n",
       "due_in_week                       int64\n",
       "due_in_day                        int64\n",
       "due_in_month                      int64\n",
       "due_in_year                       int64\n",
       "dtype: object"
      ]
     },
     "execution_count": 73,
     "metadata": {},
     "output_type": "execute_result"
    }
   ],
   "source": [
    "x_train.dtypes"
   ]
  },
  {
   "cell_type": "code",
   "execution_count": 74,
   "metadata": {},
   "outputs": [],
   "source": [
    "x_train,x_val,x_test = snap(\"due_in_date\")"
   ]
  },
  {
   "cell_type": "code",
   "execution_count": 75,
   "metadata": {},
   "outputs": [
    {
     "data": {
      "text/plain": [
       "NAA8    12670\n",
       "NAH4     8211\n",
       "CA10     2189\n",
       "NAC6      973\n",
       "NAM4      802\n",
       "        ...  \n",
       "NATX        1\n",
       "CAX2        1\n",
       "NAUI        1\n",
       "NABD        1\n",
       "CAB1        1\n",
       "Name: cust_payment_terms, Length: 64, dtype: int64"
      ]
     },
     "execution_count": 75,
     "metadata": {},
     "output_type": "execute_result"
    }
   ],
   "source": [
    "# customer payment terms different term count\n",
    "x_train.cust_payment_terms.value_counts()"
   ]
  },
  {
   "cell_type": "code",
   "execution_count": 76,
   "metadata": {},
   "outputs": [],
   "source": [
    "x_train,x_val,x_test = snap(\"baseline_create_date\")"
   ]
  },
  {
   "cell_type": "code",
   "execution_count": 77,
   "metadata": {},
   "outputs": [],
   "source": [
    "x_train,x_val,x_test = snap(\"document_create_date\")\n",
    "x_train,x_val,x_test = snap(\"clear_date\")"
   ]
  },
  {
   "cell_type": "code",
   "execution_count": 78,
   "metadata": {
    "scrolled": true
   },
   "outputs": [
    {
     "data": {
      "text/plain": [
       "cust_number               object\n",
       "name_customer             object\n",
       "buisness_year              int64\n",
       "total_open_amount        float64\n",
       "cust_payment_terms        object\n",
       "invoice_id               float64\n",
       "total_open_amount_log    float64\n",
       "business_code_enc          int32\n",
       "invoice_currency_enc       int32\n",
       "post_Date_of_week          int64\n",
       "post_Day                   int64\n",
       "post_month                 int64\n",
       "post_year                  int64\n",
       "due_in_week                int64\n",
       "due_in_day                 int64\n",
       "due_in_month               int64\n",
       "due_in_year                int64\n",
       "dtype: object"
      ]
     },
     "execution_count": 78,
     "metadata": {},
     "output_type": "execute_result"
    }
   ],
   "source": [
    "x_train.dtypes"
   ]
  },
  {
   "cell_type": "code",
   "execution_count": 79,
   "metadata": {},
   "outputs": [
    {
     "data": {
      "text/html": [
       "<div>\n",
       "<style scoped>\n",
       "    .dataframe tbody tr th:only-of-type {\n",
       "        vertical-align: middle;\n",
       "    }\n",
       "\n",
       "    .dataframe tbody tr th {\n",
       "        vertical-align: top;\n",
       "    }\n",
       "\n",
       "    .dataframe thead th {\n",
       "        text-align: right;\n",
       "    }\n",
       "</style>\n",
       "<table border=\"1\" class=\"dataframe\">\n",
       "  <thead>\n",
       "    <tr style=\"text-align: right;\">\n",
       "      <th></th>\n",
       "      <th>cust_number</th>\n",
       "      <th>name_customer</th>\n",
       "      <th>buisness_year</th>\n",
       "      <th>total_open_amount</th>\n",
       "      <th>cust_payment_terms</th>\n",
       "      <th>invoice_id</th>\n",
       "      <th>total_open_amount_log</th>\n",
       "      <th>business_code_enc</th>\n",
       "      <th>invoice_currency_enc</th>\n",
       "      <th>post_Date_of_week</th>\n",
       "      <th>post_Day</th>\n",
       "      <th>post_month</th>\n",
       "      <th>post_year</th>\n",
       "      <th>due_in_week</th>\n",
       "      <th>due_in_day</th>\n",
       "      <th>due_in_month</th>\n",
       "      <th>due_in_year</th>\n",
       "    </tr>\n",
       "  </thead>\n",
       "  <tbody>\n",
       "    <tr>\n",
       "      <th>0</th>\n",
       "      <td>0200761342</td>\n",
       "      <td>EL GR associates</td>\n",
       "      <td>2019</td>\n",
       "      <td>4593.26</td>\n",
       "      <td>NAA8</td>\n",
       "      <td>1.928535e+09</td>\n",
       "      <td>8.432345</td>\n",
       "      <td>1</td>\n",
       "      <td>1</td>\n",
       "      <td>6</td>\n",
       "      <td>30</td>\n",
       "      <td>12</td>\n",
       "      <td>2018</td>\n",
       "      <td>0</td>\n",
       "      <td>14</td>\n",
       "      <td>1</td>\n",
       "      <td>2019</td>\n",
       "    </tr>\n",
       "    <tr>\n",
       "      <th>1</th>\n",
       "      <td>0200769623</td>\n",
       "      <td>WAL-MAR corporation</td>\n",
       "      <td>2019</td>\n",
       "      <td>79309.48</td>\n",
       "      <td>NAH4</td>\n",
       "      <td>1.928537e+09</td>\n",
       "      <td>11.281113</td>\n",
       "      <td>1</td>\n",
       "      <td>1</td>\n",
       "      <td>6</td>\n",
       "      <td>30</td>\n",
       "      <td>12</td>\n",
       "      <td>2018</td>\n",
       "      <td>0</td>\n",
       "      <td>14</td>\n",
       "      <td>1</td>\n",
       "      <td>2019</td>\n",
       "    </tr>\n",
       "    <tr>\n",
       "      <th>2</th>\n",
       "      <td>0200769623</td>\n",
       "      <td>WAL-MAR associates</td>\n",
       "      <td>2019</td>\n",
       "      <td>38289.77</td>\n",
       "      <td>NAH4</td>\n",
       "      <td>1.928542e+09</td>\n",
       "      <td>10.552938</td>\n",
       "      <td>1</td>\n",
       "      <td>1</td>\n",
       "      <td>6</td>\n",
       "      <td>30</td>\n",
       "      <td>12</td>\n",
       "      <td>2018</td>\n",
       "      <td>0</td>\n",
       "      <td>14</td>\n",
       "      <td>1</td>\n",
       "      <td>2019</td>\n",
       "    </tr>\n",
       "    <tr>\n",
       "      <th>3</th>\n",
       "      <td>0200762301</td>\n",
       "      <td>C&amp;S WH us</td>\n",
       "      <td>2019</td>\n",
       "      <td>1911.77</td>\n",
       "      <td>NAC6</td>\n",
       "      <td>1.928540e+09</td>\n",
       "      <td>7.555785</td>\n",
       "      <td>1</td>\n",
       "      <td>1</td>\n",
       "      <td>6</td>\n",
       "      <td>30</td>\n",
       "      <td>12</td>\n",
       "      <td>2018</td>\n",
       "      <td>0</td>\n",
       "      <td>14</td>\n",
       "      <td>1</td>\n",
       "      <td>2019</td>\n",
       "    </tr>\n",
       "    <tr>\n",
       "      <th>4</th>\n",
       "      <td>0200769623</td>\n",
       "      <td>WAL-MAR</td>\n",
       "      <td>2019</td>\n",
       "      <td>73065.70</td>\n",
       "      <td>NAH4</td>\n",
       "      <td>1.928531e+09</td>\n",
       "      <td>11.199114</td>\n",
       "      <td>1</td>\n",
       "      <td>1</td>\n",
       "      <td>6</td>\n",
       "      <td>30</td>\n",
       "      <td>12</td>\n",
       "      <td>2018</td>\n",
       "      <td>0</td>\n",
       "      <td>14</td>\n",
       "      <td>1</td>\n",
       "      <td>2019</td>\n",
       "    </tr>\n",
       "  </tbody>\n",
       "</table>\n",
       "</div>"
      ],
      "text/plain": [
       "  cust_number        name_customer  buisness_year  total_open_amount  \\\n",
       "0  0200761342     EL GR associates           2019            4593.26   \n",
       "1  0200769623  WAL-MAR corporation           2019           79309.48   \n",
       "2  0200769623   WAL-MAR associates           2019           38289.77   \n",
       "3  0200762301            C&S WH us           2019            1911.77   \n",
       "4  0200769623             WAL-MAR            2019           73065.70   \n",
       "\n",
       "  cust_payment_terms    invoice_id  total_open_amount_log  business_code_enc  \\\n",
       "0               NAA8  1.928535e+09               8.432345                  1   \n",
       "1               NAH4  1.928537e+09              11.281113                  1   \n",
       "2               NAH4  1.928542e+09              10.552938                  1   \n",
       "3               NAC6  1.928540e+09               7.555785                  1   \n",
       "4               NAH4  1.928531e+09              11.199114                  1   \n",
       "\n",
       "   invoice_currency_enc  post_Date_of_week  post_Day  post_month  post_year  \\\n",
       "0                     1                  6        30          12       2018   \n",
       "1                     1                  6        30          12       2018   \n",
       "2                     1                  6        30          12       2018   \n",
       "3                     1                  6        30          12       2018   \n",
       "4                     1                  6        30          12       2018   \n",
       "\n",
       "   due_in_week  due_in_day  due_in_month  due_in_year  \n",
       "0            0          14             1         2019  \n",
       "1            0          14             1         2019  \n",
       "2            0          14             1         2019  \n",
       "3            0          14             1         2019  \n",
       "4            0          14             1         2019  "
      ]
     },
     "execution_count": 79,
     "metadata": {},
     "output_type": "execute_result"
    }
   ],
   "source": [
    "x_train.head()"
   ]
  },
  {
   "cell_type": "code",
   "execution_count": 80,
   "metadata": {},
   "outputs": [
    {
     "data": {
      "text/plain": [
       "cust_number               object\n",
       "name_customer             object\n",
       "buisness_year              int64\n",
       "total_open_amount        float64\n",
       "cust_payment_terms        object\n",
       "invoice_id               float64\n",
       "total_open_amount_log    float64\n",
       "business_code_enc          int32\n",
       "invoice_currency_enc       int32\n",
       "post_Date_of_week          int64\n",
       "post_Day                   int64\n",
       "post_month                 int64\n",
       "post_year                  int64\n",
       "due_in_week                int64\n",
       "due_in_day                 int64\n",
       "due_in_month               int64\n",
       "due_in_year                int64\n",
       "dtype: object"
      ]
     },
     "execution_count": 80,
     "metadata": {},
     "output_type": "execute_result"
    }
   ],
   "source": [
    "x_val.dtypes"
   ]
  },
  {
   "cell_type": "code",
   "execution_count": 81,
   "metadata": {},
   "outputs": [],
   "source": [
    "# target encoding for those column which contain large value count  and label encoding doesnot \n",
    "# Giving proper efficiency on test data\n",
    "cust_name_mean_t = x_train.merge(y_train,on = x_train.index).groupby(['name_customer'])['Delay'].mean().to_dict()\n",
    "x_train['name_customer_enc']=x_train['name_customer'].map(cust_name_mean_t)\n",
    "\n",
    "cust_name_mean_v = x_val.merge(y_val,on = x_val.index).groupby(['name_customer'])['Delay'].mean().to_dict()\n",
    "x_val['name_customer_enc']=x_val['name_customer'].map(cust_name_mean_v)\n",
    "\n",
    "cust_name_mean_ts = x_test.merge(y_test,on = x_test.index).groupby(['name_customer'])['Delay'].mean().to_dict()\n",
    "x_test['name_customer_enc']=x_test['name_customer'].map(cust_name_mean_ts)"
   ]
  },
  {
   "cell_type": "code",
   "execution_count": 82,
   "metadata": {},
   "outputs": [],
   "source": [
    "cust_payment_mean_t = x_train.merge(y_train,on = x_train.index).groupby(['cust_payment_terms'])['Delay'].mean().to_dict()\n",
    "x_train['cust_payment_terms_enc']=x_train['cust_payment_terms'].map(cust_payment_mean_t)\n",
    "\n",
    "cust_payment_mean_v = x_val.merge(y_val,on = x_val.index).groupby(['cust_payment_terms'])['Delay'].mean().to_dict()\n",
    "x_val['cust_payment_terms_enc']=x_val['cust_payment_terms'].map(cust_payment_mean_v)\n",
    "\n",
    "cust_payment_mean_ts = x_test.merge(y_test,on = x_test.index).groupby(['cust_payment_terms'])['Delay'].mean().to_dict()\n",
    "x_test['cust_payment_terms_enc']=x_test['cust_payment_terms'].map(cust_payment_mean_ts)"
   ]
  },
  {
   "cell_type": "code",
   "execution_count": 83,
   "metadata": {},
   "outputs": [],
   "source": [
    "cust_number_mean_t = x_train.merge(y_train,on = x_train.index).groupby(['cust_number'])['Delay'].mean().to_dict()\n",
    "x_train['cust_number_terms_enc']=x_train['cust_number'].map(cust_number_mean_t)\n",
    "\n",
    "cust_number_mean_v = x_val.merge(y_val,on = x_val.index).groupby(['cust_number'])['Delay'].mean().to_dict()\n",
    "x_val['cust_number_terms_enc']=x_val['cust_number'].map(cust_number_mean_v)\n",
    "\n",
    "cust_number_mean_ts = x_test.merge(y_test,on = x_test.index).groupby(['cust_number'])['Delay'].mean().to_dict()\n",
    "x_test['cust_number_terms_enc']=x_test['cust_number'].map(cust_number_mean_ts)"
   ]
  },
  {
   "cell_type": "code",
   "execution_count": 84,
   "metadata": {},
   "outputs": [],
   "source": [
    "#cust_payment_terms_encoder = LabelEncoder()\n",
    "#cust_payment_terms_encoder.fit(x_train['cust_payment_terms'])\n",
    "#x_train['cust_payment_terms_encoder'] =cust_payment_terms_encoder.transform(x_train['cust_payment_terms'])"
   ]
  },
  {
   "cell_type": "code",
   "execution_count": 85,
   "metadata": {},
   "outputs": [],
   "source": [
    "#cust_payment_terms_encoder = LabelEncoder()\n",
    "#cust_payment_terms_encoder.fit(x_val['cust_payment_terms'])\n",
    "#x_val['cust_payment_terms_encoder'] =cust_payment_terms_encoder.transform(x_val['cust_payment_terms'])"
   ]
  },
  {
   "cell_type": "code",
   "execution_count": 86,
   "metadata": {},
   "outputs": [],
   "source": [
    "#cust_payment_terms_encoder = LabelEncoder()\n",
    "#cust_payment_terms_encoder.fit(x_test['cust_payment_terms'])\n",
    "#x_test['cust_payment_terms_label'] =cust_payment_terms_encoder.transform(x_test['cust_payment_terms'])"
   ]
  },
  {
   "cell_type": "code",
   "execution_count": 87,
   "metadata": {},
   "outputs": [
    {
     "data": {
      "text/plain": [
       "cust_number                object\n",
       "name_customer              object\n",
       "buisness_year               int64\n",
       "total_open_amount         float64\n",
       "cust_payment_terms         object\n",
       "invoice_id                float64\n",
       "total_open_amount_log     float64\n",
       "business_code_enc           int32\n",
       "invoice_currency_enc        int32\n",
       "post_Date_of_week           int64\n",
       "post_Day                    int64\n",
       "post_month                  int64\n",
       "post_year                   int64\n",
       "due_in_week                 int64\n",
       "due_in_day                  int64\n",
       "due_in_month                int64\n",
       "due_in_year                 int64\n",
       "name_customer_enc         float64\n",
       "cust_payment_terms_enc    float64\n",
       "cust_number_terms_enc     float64\n",
       "dtype: object"
      ]
     },
     "execution_count": 87,
     "metadata": {},
     "output_type": "execute_result"
    }
   ],
   "source": [
    "x_val.dtypes"
   ]
  },
  {
   "cell_type": "code",
   "execution_count": 88,
   "metadata": {},
   "outputs": [],
   "source": [
    "# as labelencoder doesnot work well so I chose target encoding"
   ]
  },
  {
   "cell_type": "code",
   "execution_count": 89,
   "metadata": {},
   "outputs": [],
   "source": [
    "#cust_number_encoder = LabelEncoder()\n",
    "#cust_number_encoder.fit(x_train['cust_number'])\n",
    "#x_train['cust_number_encoder'] =cust_number_encoder.transform(x_train['cust_number'])"
   ]
  },
  {
   "cell_type": "code",
   "execution_count": 90,
   "metadata": {},
   "outputs": [],
   "source": [
    "#cust_number_encoder = LabelEncoder()\n",
    "#cust_number_encoder.fit(x_val['cust_number'])\n",
    "#x_val['cust_number_encoder'] =cust_number_encoder.transform(x_val['cust_number'])"
   ]
  },
  {
   "cell_type": "code",
   "execution_count": 91,
   "metadata": {},
   "outputs": [],
   "source": [
    "#cust_number_encoder = LabelEncoder()\n",
    "#cust_number_encoder.fit(x_test['cust_number'])\n",
    "#x_test['cust_number_encoder'] =cust_number_encoder.transform(x_test['cust_number'])"
   ]
  },
  {
   "cell_type": "code",
   "execution_count": 92,
   "metadata": {},
   "outputs": [],
   "source": [
    "#name_customer_encoder = LabelEncoder()\n",
    "#name_customer_encoder.fit(x_train['name_customer'])\n",
    "#x_train['name_customer_encoder'] =name_customer_encoder.transform(x_train['name_customer'])"
   ]
  },
  {
   "cell_type": "code",
   "execution_count": 93,
   "metadata": {},
   "outputs": [],
   "source": [
    "#name_customer_encoder = LabelEncoder()\n",
    "#name_customer_encoder.fit(x_val['name_customer'])\n",
    "#x_val['name_customer_encoder'] =name_customer_encoder.transform(x_val['name_customer'])"
   ]
  },
  {
   "cell_type": "code",
   "execution_count": 94,
   "metadata": {},
   "outputs": [],
   "source": [
    "#name_customer_encoder = LabelEncoder()\n",
    "#name_customer_encoder.fit(x_test['name_customer'])\n",
    "#x_test['name_customer_encoder'] =name_customer_encoder.transform(x_test['name_customer'])"
   ]
  },
  {
   "cell_type": "code",
   "execution_count": 95,
   "metadata": {},
   "outputs": [
    {
     "data": {
      "text/plain": [
       "cust_number                object\n",
       "name_customer              object\n",
       "buisness_year               int64\n",
       "total_open_amount         float64\n",
       "cust_payment_terms         object\n",
       "invoice_id                float64\n",
       "total_open_amount_log     float64\n",
       "business_code_enc           int32\n",
       "invoice_currency_enc        int32\n",
       "post_Date_of_week           int64\n",
       "post_Day                    int64\n",
       "post_month                  int64\n",
       "post_year                   int64\n",
       "due_in_week                 int64\n",
       "due_in_day                  int64\n",
       "due_in_month                int64\n",
       "due_in_year                 int64\n",
       "name_customer_enc         float64\n",
       "cust_payment_terms_enc    float64\n",
       "cust_number_terms_enc     float64\n",
       "dtype: object"
      ]
     },
     "execution_count": 95,
     "metadata": {},
     "output_type": "execute_result"
    }
   ],
   "source": [
    "x_train.dtypes"
   ]
  },
  {
   "cell_type": "code",
   "execution_count": 96,
   "metadata": {},
   "outputs": [],
   "source": [
    "#x_train.cust_list.value_counts()"
   ]
  },
  {
   "cell_type": "code",
   "execution_count": 97,
   "metadata": {},
   "outputs": [],
   "source": [
    "#x_train,x_val,x_test = snap(\"cust_number\")"
   ]
  },
  {
   "cell_type": "code",
   "execution_count": 98,
   "metadata": {},
   "outputs": [],
   "source": [
    "#x_train,x_val,x_test = snap(\"name_customer\")"
   ]
  },
  {
   "cell_type": "code",
   "execution_count": 99,
   "metadata": {},
   "outputs": [],
   "source": [
    "#x_train,x_val,x_test = snap(\"cust_payment_terms\")"
   ]
  },
  {
   "cell_type": "code",
   "execution_count": 100,
   "metadata": {},
   "outputs": [],
   "source": [
    "#x_train,x_val,x_test = snap(\"cust_list\")"
   ]
  },
  {
   "cell_type": "code",
   "execution_count": 101,
   "metadata": {},
   "outputs": [
    {
     "data": {
      "text/plain": [
       "cust_number                object\n",
       "name_customer              object\n",
       "buisness_year               int64\n",
       "total_open_amount         float64\n",
       "cust_payment_terms         object\n",
       "invoice_id                float64\n",
       "total_open_amount_log     float64\n",
       "business_code_enc           int32\n",
       "invoice_currency_enc        int32\n",
       "post_Date_of_week           int64\n",
       "post_Day                    int64\n",
       "post_month                  int64\n",
       "post_year                   int64\n",
       "due_in_week                 int64\n",
       "due_in_day                  int64\n",
       "due_in_month                int64\n",
       "due_in_year                 int64\n",
       "name_customer_enc         float64\n",
       "cust_payment_terms_enc    float64\n",
       "cust_number_terms_enc     float64\n",
       "dtype: object"
      ]
     },
     "execution_count": 101,
     "metadata": {},
     "output_type": "execute_result"
    }
   ],
   "source": [
    "x_train.dtypes"
   ]
  },
  {
   "cell_type": "markdown",
   "metadata": {},
   "source": [
    "# Feature Selection"
   ]
  },
  {
   "cell_type": "code",
   "execution_count": 102,
   "metadata": {},
   "outputs": [],
   "source": [
    "#Feature Selection\n",
    "\n",
    "#corrmat = X_train.merge(y_train , on = X_train.index).corr()\n",
    "# plt.subplots(figsize=(12,9))\n",
    "# sns.heatmap(corrmat, vmax=0.9, square=True)"
   ]
  },
  {
   "cell_type": "code",
   "execution_count": 103,
   "metadata": {},
   "outputs": [
    {
     "data": {
      "text/plain": [
       "cust_number                object\n",
       "name_customer              object\n",
       "buisness_year               int64\n",
       "total_open_amount         float64\n",
       "cust_payment_terms         object\n",
       "invoice_id                float64\n",
       "total_open_amount_log     float64\n",
       "business_code_enc           int32\n",
       "invoice_currency_enc        int32\n",
       "post_Date_of_week           int64\n",
       "post_Day                    int64\n",
       "post_month                  int64\n",
       "post_year                   int64\n",
       "due_in_week                 int64\n",
       "due_in_day                  int64\n",
       "due_in_month                int64\n",
       "due_in_year                 int64\n",
       "name_customer_enc         float64\n",
       "cust_payment_terms_enc    float64\n",
       "cust_number_terms_enc     float64\n",
       "dtype: object"
      ]
     },
     "execution_count": 103,
     "metadata": {},
     "output_type": "execute_result"
    }
   ],
   "source": [
    "x_train.dtypes"
   ]
  },
  {
   "cell_type": "code",
   "execution_count": 104,
   "metadata": {},
   "outputs": [],
   "source": [
    "# making features for the model accuricy test\n",
    "imp_features=['name_customer_enc','cust_payment_terms_enc', 'due_in_day',\n",
    "       'post_Day', 'post_Date_of_week',\n",
    "       'total_open_amount_log','cust_number_terms_enc']"
   ]
  },
  {
   "cell_type": "code",
   "execution_count": 105,
   "metadata": {},
   "outputs": [],
   "source": [
    "# maping features in train data\n",
    "X_temp=x_train[imp_features]\n"
   ]
  },
  {
   "cell_type": "code",
   "execution_count": 106,
   "metadata": {},
   "outputs": [],
   "source": [
    "# maping features in test and validation data\n",
    "x_temptest=x_test[imp_features]\n",
    "x_tempval=x_val[imp_features]\n"
   ]
  },
  {
   "cell_type": "code",
   "execution_count": 107,
   "metadata": {},
   "outputs": [],
   "source": [
    "#correlation coefficient"
   ]
  },
  {
   "cell_type": "code",
   "execution_count": 108,
   "metadata": {},
   "outputs": [
    {
     "data": {
      "text/plain": [
       "<matplotlib.axes._subplots.AxesSubplot at 0x23245d35908>"
      ]
     },
     "execution_count": 108,
     "metadata": {},
     "output_type": "execute_result"
    },
    {
     "data": {
      "image/png": "[encoded data removed]",
      "text/plain": [
       "<Figure size 1008x864 with 2 Axes>"
      ]
     },
     "metadata": {
      "needs_background": "light"
     },
     "output_type": "display_data"
    }
   ],
   "source": [
    "colormap = plt.cm.RdBu\n",
    "plt.figure(figsize=(14,12))\n",
    "plt.title('Correlation of Features', y=1.05, size=18)\n",
    "sns.heatmap(x_train.merge(y_train , on = x_train.index ).corr(),linewidths=0.1,vmax=1.0, \n",
    "            square=True, cmap=colormap, linecolor='white', annot=True)"
   ]
  },
  {
   "cell_type": "code",
   "execution_count": 109,
   "metadata": {},
   "outputs": [],
   "source": [
    "# here we can see that business year is a constant feature hence we can drop it"
   ]
  },
  {
   "cell_type": "code",
   "execution_count": 110,
   "metadata": {},
   "outputs": [],
   "source": [
    "x_train,x_val,x_test = snap(\"buisness_year\")"
   ]
  },
  {
   "cell_type": "code",
   "execution_count": 111,
   "metadata": {},
   "outputs": [],
   "source": [
    "x_train,x_val,x_test = snap(\"invoice_currency_enc\")"
   ]
  },
  {
   "cell_type": "code",
   "execution_count": 112,
   "metadata": {},
   "outputs": [],
   "source": [
    "x_train,x_val,x_test = snap(\"invoice_id\") # as these are not maped in featues so we can drop or leave it "
   ]
  },
  {
   "cell_type": "code",
   "execution_count": 113,
   "metadata": {},
   "outputs": [],
   "source": [
    "x_train,x_val,x_test = snap(\"post_year\") "
   ]
  },
  {
   "cell_type": "code",
   "execution_count": 114,
   "metadata": {},
   "outputs": [],
   "source": [
    "x_train,x_val,x_test = snap(\"due_in_year\")"
   ]
  },
  {
   "cell_type": "code",
   "execution_count": 115,
   "metadata": {
    "scrolled": true
   },
   "outputs": [
    {
     "data": {
      "text/plain": [
       "cust_number                object\n",
       "name_customer              object\n",
       "total_open_amount         float64\n",
       "cust_payment_terms         object\n",
       "total_open_amount_log     float64\n",
       "business_code_enc           int32\n",
       "post_Date_of_week           int64\n",
       "post_Day                    int64\n",
       "post_month                  int64\n",
       "due_in_week                 int64\n",
       "due_in_day                  int64\n",
       "due_in_month                int64\n",
       "name_customer_enc         float64\n",
       "cust_payment_terms_enc    float64\n",
       "cust_number_terms_enc     float64\n",
       "dtype: object"
      ]
     },
     "execution_count": 115,
     "metadata": {},
     "output_type": "execute_result"
    }
   ],
   "source": [
    "x_train.dtypes"
   ]
  },
  {
   "cell_type": "code",
   "execution_count": 116,
   "metadata": {},
   "outputs": [
    {
     "data": {
      "text/plain": [
       "VarianceThreshold(threshold=0.85)"
      ]
     },
     "execution_count": 116,
     "metadata": {},
     "output_type": "execute_result"
    }
   ],
   "source": [
    "# also since all the columns have been converted to int/ float , \n",
    "#we can use variance threshold -- ;-D\n",
    "\n",
    "from sklearn.feature_selection import VarianceThreshold\n",
    "df = VarianceThreshold(0.85)\n",
    "df.fit(X_temp)"
   ]
  },
  {
   "cell_type": "code",
   "execution_count": 117,
   "metadata": {},
   "outputs": [
    {
     "data": {
      "text/plain": [
       "array([67.44877855, 43.55371243, 76.68716097, 76.99680494,  3.31889527,\n",
       "        3.10853835, 58.91536555])"
      ]
     },
     "execution_count": 117,
     "metadata": {},
     "output_type": "execute_result"
    }
   ],
   "source": [
    "df.variances_"
   ]
  },
  {
   "cell_type": "code",
   "execution_count": 118,
   "metadata": {},
   "outputs": [],
   "source": [
    "# checked using different features but didnot work"
   ]
  },
  {
   "cell_type": "code",
   "execution_count": 119,
   "metadata": {},
   "outputs": [],
   "source": [
    "#Wraper Method for feature selection "
   ]
  },
  {
   "cell_type": "code",
   "execution_count": 120,
   "metadata": {},
   "outputs": [],
   "source": [
    "def feature(X,y):\n",
    "    from mlxtend.feature_selection import SequentialFeatureSelector as SFS\n",
    "    from sklearn.linear_model import LinearRegression\n",
    "    sfs = SFS(LinearRegression(),\n",
    "              k_features=7,\n",
    "              forward=True,\n",
    "              scoring = 'r2',\n",
    "              cv = 3)\n",
    "    sfs.fit(X, y)        \n",
    "    \n",
    "    return sfs.k_feature_names_"
   ]
  },
  {
   "cell_type": "code",
   "execution_count": 121,
   "metadata": {},
   "outputs": [
    {
     "data": {
      "text/plain": [
       "('cust_number',\n",
       " 'name_customer',\n",
       " 'total_open_amount',\n",
       " 'cust_payment_terms',\n",
       " 'total_open_amount_log',\n",
       " 'business_code_enc',\n",
       " 'post_Date_of_week')"
      ]
     },
     "execution_count": 121,
     "metadata": {},
     "output_type": "execute_result"
    }
   ],
   "source": [
    "feature(x_train,y_train)\n",
    "#features selected by FFS"
   ]
  },
  {
   "cell_type": "code",
   "execution_count": 122,
   "metadata": {},
   "outputs": [
    {
     "data": {
      "text/plain": [
       "cust_number                object\n",
       "name_customer              object\n",
       "total_open_amount         float64\n",
       "cust_payment_terms         object\n",
       "total_open_amount_log     float64\n",
       "business_code_enc           int32\n",
       "post_Date_of_week           int64\n",
       "post_Day                    int64\n",
       "post_month                  int64\n",
       "due_in_week                 int64\n",
       "due_in_day                  int64\n",
       "due_in_month                int64\n",
       "name_customer_enc         float64\n",
       "cust_payment_terms_enc    float64\n",
       "cust_number_terms_enc     float64\n",
       "dtype: object"
      ]
     },
     "execution_count": 122,
     "metadata": {},
     "output_type": "execute_result"
    }
   ],
   "source": [
    "x_train.dtypes"
   ]
  },
  {
   "cell_type": "markdown",
   "metadata": {},
   "source": [
    "# modelling"
   ]
  },
  {
   "cell_type": "markdown",
   "metadata": {},
   "source": [
    "# create a basic model"
   ]
  },
  {
   "cell_type": "code",
   "execution_count": 123,
   "metadata": {},
   "outputs": [
    {
     "data": {
      "text/plain": [
       "LinearRegression(copy_X=True, fit_intercept=True, n_jobs=None, normalize=False)"
      ]
     },
     "execution_count": 123,
     "metadata": {},
     "output_type": "execute_result"
    }
   ],
   "source": [
    "# fiting data on linear model\n",
    "from sklearn.linear_model import LinearRegression\n",
    "basic_model = LinearRegression()\n",
    "basic_model.fit(X_temp, y_train)\n",
    "# it is the process of finding a line that best fits the data points available on the plot, \n",
    "# so that we can use it to predict output values for inputs that are not present in the data set we have"
   ]
  },
  {
   "cell_type": "code",
   "execution_count": 124,
   "metadata": {},
   "outputs": [],
   "source": [
    "# predicting value\n",
    "y_predicted = basic_model.predict(x_tempval)"
   ]
  },
  {
   "cell_type": "code",
   "execution_count": 125,
   "metadata": {},
   "outputs": [
    {
     "data": {
      "text/plain": [
       "4.289304748927384"
      ]
     },
     "execution_count": 125,
     "metadata": {},
     "output_type": "execute_result"
    }
   ],
   "source": [
    "# chacking RMSE on validation data \n",
    "from sklearn.metrics import mean_squared_error\n",
    "\n",
    "mean_squared_error(y_val, y_predicted, squared=False)"
   ]
  },
  {
   "cell_type": "markdown",
   "metadata": {},
   "source": [
    "# Tree based model"
   ]
  },
  {
   "cell_type": "code",
   "execution_count": 126,
   "metadata": {},
   "outputs": [],
   "source": [
    "# checking Decision tree model\n",
    "from sklearn.tree import DecisionTreeRegressor\n",
    "regressor = DecisionTreeRegressor(random_state=0 , max_depth=1,min_samples_split=4)\n",
    "from sklearn.metrics import mean_squared_error\n",
    "# it  use a series of if-then rules to generate predictions from one or more decision trees"
   ]
  },
  {
   "cell_type": "code",
   "execution_count": 127,
   "metadata": {
    "scrolled": true
   },
   "outputs": [
    {
     "data": {
      "text/plain": [
       "DecisionTreeRegressor(ccp_alpha=0.0, criterion='mse', max_depth=1,\n",
       "                      max_features=None, max_leaf_nodes=None,\n",
       "                      min_impurity_decrease=0.0, min_impurity_split=None,\n",
       "                      min_samples_leaf=1, min_samples_split=4,\n",
       "                      min_weight_fraction_leaf=0.0, presort='deprecated',\n",
       "                      random_state=0, splitter='best')"
      ]
     },
     "execution_count": 127,
     "metadata": {},
     "output_type": "execute_result"
    }
   ],
   "source": [
    "# training the model with the selected features\n",
    "regressor.fit(X_temp, y_train)"
   ]
  },
  {
   "cell_type": "code",
   "execution_count": 128,
   "metadata": {},
   "outputs": [],
   "source": [
    "# Predicting value of decision tree on test and validation data\n",
    "y_predicted2 = regressor.predict(x_tempval)\n",
    "y_predicted5 = regressor.predict(x_temptest)"
   ]
  },
  {
   "cell_type": "code",
   "execution_count": 129,
   "metadata": {},
   "outputs": [
    {
     "data": {
      "text/plain": [
       "5.924479133361138"
      ]
     },
     "execution_count": 129,
     "metadata": {},
     "output_type": "execute_result"
    }
   ],
   "source": [
    "mean_squared_error(y_val, y_predicted2, squared=False)"
   ]
  },
  {
   "cell_type": "code",
   "execution_count": 130,
   "metadata": {},
   "outputs": [
    {
     "data": {
      "text/plain": [
       "8.821826687930132"
      ]
     },
     "execution_count": 130,
     "metadata": {},
     "output_type": "execute_result"
    }
   ],
   "source": [
    "mean_squared_error(y_test, y_predicted5, squared=False)"
   ]
  },
  {
   "cell_type": "code",
   "execution_count": 131,
   "metadata": {},
   "outputs": [
    {
     "data": {
      "text/plain": [
       "0.3889232996992755"
      ]
     },
     "execution_count": 131,
     "metadata": {},
     "output_type": "execute_result"
    }
   ],
   "source": [
    "# R2 score check for checking model accuracy on validation data\n",
    "from sklearn.metrics import r2_score\n",
    "r2_score(y_val, y_predicted2)"
   ]
  },
  {
   "cell_type": "code",
   "execution_count": 132,
   "metadata": {},
   "outputs": [
    {
     "data": {
      "text/plain": [
       "0.3389527415504273"
      ]
     },
     "execution_count": 132,
     "metadata": {},
     "output_type": "execute_result"
    }
   ],
   "source": [
    "# R2 score check for checking model accuracy on test data\n",
    "from sklearn.metrics import r2_score\n",
    "r2_score(y_test, y_predicted5)"
   ]
  },
  {
   "cell_type": "markdown",
   "metadata": {},
   "source": [
    "# GBR model"
   ]
  },
  {
   "cell_type": "code",
   "execution_count": 133,
   "metadata": {},
   "outputs": [],
   "source": [
    "from sklearn.ensemble import GradientBoostingRegressor\n",
    "GBR_model = GradientBoostingRegressor(max_depth=1)\n",
    "# it is a machine learning technique for regression, classification and other tasks,\n",
    "# it produces a prediction model in the form of an ensemble of weak prediction models, typically decision trees."
   ]
  },
  {
   "cell_type": "code",
   "execution_count": 134,
   "metadata": {},
   "outputs": [
    {
     "data": {
      "text/plain": [
       "GradientBoostingRegressor(alpha=0.9, ccp_alpha=0.0, criterion='friedman_mse',\n",
       "                          init=None, learning_rate=0.1, loss='ls', max_depth=1,\n",
       "                          max_features=None, max_leaf_nodes=None,\n",
       "                          min_impurity_decrease=0.0, min_impurity_split=None,\n",
       "                          min_samples_leaf=1, min_samples_split=2,\n",
       "                          min_weight_fraction_leaf=0.0, n_estimators=100,\n",
       "                          n_iter_no_change=None, presort='deprecated',\n",
       "                          random_state=None, subsample=1.0, tol=0.0001,\n",
       "                          validation_fraction=0.1, verbose=0, warm_start=False)"
      ]
     },
     "execution_count": 134,
     "metadata": {},
     "output_type": "execute_result"
    }
   ],
   "source": [
    "# training the model with the selected features\n",
    "GBR_model.fit(X_temp, y_train)"
   ]
  },
  {
   "cell_type": "code",
   "execution_count": 135,
   "metadata": {},
   "outputs": [],
   "source": [
    "# predicting the value on validation and test dataset\n",
    "y_predicted4 =GBR_model.predict(x_tempval)\n",
    "y_predicted6 =GBR_model.predict(x_temptest)"
   ]
  },
  {
   "cell_type": "code",
   "execution_count": 136,
   "metadata": {},
   "outputs": [
    {
     "data": {
      "text/plain": [
       "0.6779256319621895"
      ]
     },
     "execution_count": 136,
     "metadata": {},
     "output_type": "execute_result"
    }
   ],
   "source": [
    "# R2 score check for checking model accuracy on validation dataset\n",
    "from sklearn.metrics import r2_score\n",
    "r2_score(y_val, y_predicted4)"
   ]
  },
  {
   "cell_type": "code",
   "execution_count": 137,
   "metadata": {},
   "outputs": [
    {
     "data": {
      "text/plain": [
       "0.6742937630412269"
      ]
     },
     "execution_count": 137,
     "metadata": {},
     "output_type": "execute_result"
    }
   ],
   "source": [
    "# R2 score check for checking model accuracy on test dataset \n",
    "from sklearn.metrics import r2_score\n",
    "r2_score(y_test, y_predicted6)"
   ]
  },
  {
   "cell_type": "code",
   "execution_count": 138,
   "metadata": {},
   "outputs": [
    {
     "data": {
      "text/plain": [
       "cust_number                object\n",
       "name_customer              object\n",
       "total_open_amount         float64\n",
       "cust_payment_terms         object\n",
       "total_open_amount_log     float64\n",
       "business_code_enc           int32\n",
       "post_Date_of_week           int64\n",
       "post_Day                    int64\n",
       "post_month                  int64\n",
       "due_in_week                 int64\n",
       "due_in_day                  int64\n",
       "due_in_month                int64\n",
       "name_customer_enc         float64\n",
       "cust_payment_terms_enc    float64\n",
       "cust_number_terms_enc     float64\n",
       "dtype: object"
      ]
     },
     "execution_count": 138,
     "metadata": {},
     "output_type": "execute_result"
    }
   ],
   "source": [
    "x_test.dtypes"
   ]
  },
  {
   "cell_type": "markdown",
   "metadata": {},
   "source": [
    "# RandomForestRegressor"
   ]
  },
  {
   "cell_type": "code",
   "execution_count": 139,
   "metadata": {},
   "outputs": [],
   "source": [
    "from sklearn.ensemble import RandomForestRegressor\n",
    "random_regressor = RandomForestRegressor()\n",
    "# it is a supervised learning algorithm that uses ensemble learning method for regression\n",
    "#  operates by constructing several decision trees during training time and outputting the mean \n",
    "# of the classes as the prediction of all the trees."
   ]
  },
  {
   "cell_type": "code",
   "execution_count": 140,
   "metadata": {},
   "outputs": [
    {
     "data": {
      "text/plain": [
       "RandomForestRegressor(bootstrap=True, ccp_alpha=0.0, criterion='mse',\n",
       "                      max_depth=None, max_features='auto', max_leaf_nodes=None,\n",
       "                      max_samples=None, min_impurity_decrease=0.0,\n",
       "                      min_impurity_split=None, min_samples_leaf=1,\n",
       "                      min_samples_split=2, min_weight_fraction_leaf=0.0,\n",
       "                      n_estimators=100, n_jobs=None, oob_score=False,\n",
       "                      random_state=None, verbose=0, warm_start=False)"
      ]
     },
     "execution_count": 140,
     "metadata": {},
     "output_type": "execute_result"
    }
   ],
   "source": [
    "random_regressor.fit(X_temp, y_train)"
   ]
  },
  {
   "cell_type": "code",
   "execution_count": 141,
   "metadata": {},
   "outputs": [],
   "source": [
    "y_predicted3 = random_regressor.predict(x_tempval)\n",
    "y_predicted7 = random_regressor.predict(x_temptest)"
   ]
  },
  {
   "cell_type": "code",
   "execution_count": 142,
   "metadata": {},
   "outputs": [
    {
     "data": {
      "text/plain": [
       "12.127141011631009"
      ]
     },
     "execution_count": 142,
     "metadata": {},
     "output_type": "execute_result"
    }
   ],
   "source": [
    "mean_squared_error(y_val, y_predicted3, squared=False)"
   ]
  },
  {
   "cell_type": "code",
   "execution_count": 143,
   "metadata": {
    "scrolled": true
   },
   "outputs": [
    {
     "data": {
      "text/plain": [
       "6.773960388892071"
      ]
     },
     "execution_count": 143,
     "metadata": {},
     "output_type": "execute_result"
    }
   ],
   "source": [
    "mean_squared_error(y_test, y_predicted7, squared=False)"
   ]
  },
  {
   "cell_type": "code",
   "execution_count": 144,
   "metadata": {},
   "outputs": [
    {
     "data": {
      "text/plain": [
       "0.6102368549302764"
      ]
     },
     "execution_count": 144,
     "metadata": {},
     "output_type": "execute_result"
    }
   ],
   "source": [
    "from sklearn.metrics import r2_score\n",
    "r2_score(y_test, y_predicted7)"
   ]
  },
  {
   "cell_type": "code",
   "execution_count": 145,
   "metadata": {},
   "outputs": [],
   "source": [
    "# from above modeling Tree based model give the best result ."
   ]
  },
  {
   "cell_type": "markdown",
   "metadata": {},
   "source": [
    "# The test Dataset"
   ]
  },
  {
   "cell_type": "code",
   "execution_count": 146,
   "metadata": {
    "scrolled": true
   },
   "outputs": [
    {
     "data": {
      "text/html": [
       "<div>\n",
       "<style scoped>\n",
       "    .dataframe tbody tr th:only-of-type {\n",
       "        vertical-align: middle;\n",
       "    }\n",
       "\n",
       "    .dataframe tbody tr th {\n",
       "        vertical-align: top;\n",
       "    }\n",
       "\n",
       "    .dataframe thead th {\n",
       "        text-align: right;\n",
       "    }\n",
       "</style>\n",
       "<table border=\"1\" class=\"dataframe\">\n",
       "  <thead>\n",
       "    <tr style=\"text-align: right;\">\n",
       "      <th></th>\n",
       "      <th>business_code</th>\n",
       "      <th>cust_number</th>\n",
       "      <th>name_customer</th>\n",
       "      <th>clear_date</th>\n",
       "      <th>buisness_year</th>\n",
       "      <th>doc_id</th>\n",
       "      <th>posting_date</th>\n",
       "      <th>document_create_date</th>\n",
       "      <th>document_create_date.1</th>\n",
       "      <th>due_in_date</th>\n",
       "      <th>invoice_currency</th>\n",
       "      <th>document type</th>\n",
       "      <th>posting_id</th>\n",
       "      <th>area_business</th>\n",
       "      <th>total_open_amount</th>\n",
       "      <th>baseline_create_date</th>\n",
       "      <th>cust_payment_terms</th>\n",
       "      <th>invoice_id</th>\n",
       "      <th>isOpen</th>\n",
       "    </tr>\n",
       "  </thead>\n",
       "  <tbody>\n",
       "    <tr>\n",
       "      <th>10</th>\n",
       "      <td>U001</td>\n",
       "      <td>0100058020</td>\n",
       "      <td>KIM'</td>\n",
       "      <td>NaN</td>\n",
       "      <td>2020.0</td>\n",
       "      <td>1.930839e+09</td>\n",
       "      <td>2020-05-01</td>\n",
       "      <td>20200429</td>\n",
       "      <td>20200501</td>\n",
       "      <td>20200501.0</td>\n",
       "      <td>USD</td>\n",
       "      <td>RV</td>\n",
       "      <td>1.0</td>\n",
       "      <td>NaN</td>\n",
       "      <td>2689.50</td>\n",
       "      <td>20200501.0</td>\n",
       "      <td>NAB1</td>\n",
       "      <td>1.930839e+09</td>\n",
       "      <td>1</td>\n",
       "    </tr>\n",
       "    <tr>\n",
       "      <th>15</th>\n",
       "      <td>U001</td>\n",
       "      <td>0200762950</td>\n",
       "      <td>HAR corp</td>\n",
       "      <td>NaN</td>\n",
       "      <td>2020.0</td>\n",
       "      <td>1.930857e+09</td>\n",
       "      <td>2020-05-04</td>\n",
       "      <td>20200504</td>\n",
       "      <td>20200504</td>\n",
       "      <td>20200519.0</td>\n",
       "      <td>USD</td>\n",
       "      <td>RV</td>\n",
       "      <td>1.0</td>\n",
       "      <td>NaN</td>\n",
       "      <td>30270.22</td>\n",
       "      <td>20200504.0</td>\n",
       "      <td>NAA8</td>\n",
       "      <td>1.930857e+09</td>\n",
       "      <td>1</td>\n",
       "    </tr>\n",
       "    <tr>\n",
       "      <th>17</th>\n",
       "      <td>U001</td>\n",
       "      <td>0200726979</td>\n",
       "      <td>BJ'S  foundation</td>\n",
       "      <td>NaN</td>\n",
       "      <td>2020.0</td>\n",
       "      <td>1.930623e+09</td>\n",
       "      <td>2020-03-09</td>\n",
       "      <td>20200308</td>\n",
       "      <td>20200309</td>\n",
       "      <td>20200324.0</td>\n",
       "      <td>USD</td>\n",
       "      <td>RV</td>\n",
       "      <td>1.0</td>\n",
       "      <td>NaN</td>\n",
       "      <td>1221.47</td>\n",
       "      <td>20200309.0</td>\n",
       "      <td>NAA8</td>\n",
       "      <td>1.930623e+09</td>\n",
       "      <td>1</td>\n",
       "    </tr>\n",
       "    <tr>\n",
       "      <th>24</th>\n",
       "      <td>U001</td>\n",
       "      <td>0200020431</td>\n",
       "      <td>DEC associates</td>\n",
       "      <td>NaN</td>\n",
       "      <td>2020.0</td>\n",
       "      <td>1.930768e+09</td>\n",
       "      <td>2020-04-09</td>\n",
       "      <td>20200409</td>\n",
       "      <td>20200409</td>\n",
       "      <td>20200424.0</td>\n",
       "      <td>USD</td>\n",
       "      <td>RV</td>\n",
       "      <td>1.0</td>\n",
       "      <td>NaN</td>\n",
       "      <td>245.52</td>\n",
       "      <td>20200401.0</td>\n",
       "      <td>NAM4</td>\n",
       "      <td>1.930768e+09</td>\n",
       "      <td>1</td>\n",
       "    </tr>\n",
       "    <tr>\n",
       "      <th>25</th>\n",
       "      <td>U001</td>\n",
       "      <td>0200457993</td>\n",
       "      <td>SHAM associates</td>\n",
       "      <td>NaN</td>\n",
       "      <td>2020.0</td>\n",
       "      <td>1.930725e+09</td>\n",
       "      <td>2020-03-31</td>\n",
       "      <td>20200401</td>\n",
       "      <td>20200331</td>\n",
       "      <td>20200415.0</td>\n",
       "      <td>USD</td>\n",
       "      <td>RV</td>\n",
       "      <td>1.0</td>\n",
       "      <td>NaN</td>\n",
       "      <td>19126.23</td>\n",
       "      <td>20200331.0</td>\n",
       "      <td>NAA8</td>\n",
       "      <td>1.930725e+09</td>\n",
       "      <td>1</td>\n",
       "    </tr>\n",
       "    <tr>\n",
       "      <th>...</th>\n",
       "      <td>...</td>\n",
       "      <td>...</td>\n",
       "      <td>...</td>\n",
       "      <td>...</td>\n",
       "      <td>...</td>\n",
       "      <td>...</td>\n",
       "      <td>...</td>\n",
       "      <td>...</td>\n",
       "      <td>...</td>\n",
       "      <td>...</td>\n",
       "      <td>...</td>\n",
       "      <td>...</td>\n",
       "      <td>...</td>\n",
       "      <td>...</td>\n",
       "      <td>...</td>\n",
       "      <td>...</td>\n",
       "      <td>...</td>\n",
       "      <td>...</td>\n",
       "      <td>...</td>\n",
       "    </tr>\n",
       "    <tr>\n",
       "      <th>49976</th>\n",
       "      <td>U001</td>\n",
       "      <td>0200729290</td>\n",
       "      <td>KROGER</td>\n",
       "      <td>NaN</td>\n",
       "      <td>2020.0</td>\n",
       "      <td>1.930690e+09</td>\n",
       "      <td>2020-03-24</td>\n",
       "      <td>20200324</td>\n",
       "      <td>20200324</td>\n",
       "      <td>20200408.0</td>\n",
       "      <td>USD</td>\n",
       "      <td>RV</td>\n",
       "      <td>1.0</td>\n",
       "      <td>NaN</td>\n",
       "      <td>24597.15</td>\n",
       "      <td>20200324.0</td>\n",
       "      <td>NAA8</td>\n",
       "      <td>1.930690e+09</td>\n",
       "      <td>1</td>\n",
       "    </tr>\n",
       "    <tr>\n",
       "      <th>49981</th>\n",
       "      <td>U001</td>\n",
       "      <td>200769623</td>\n",
       "      <td>WAL-MAR foundation</td>\n",
       "      <td>NaN</td>\n",
       "      <td>2020.0</td>\n",
       "      <td>1.930872e+09</td>\n",
       "      <td>2020-05-08</td>\n",
       "      <td>20200508</td>\n",
       "      <td>20200508</td>\n",
       "      <td>20200523.0</td>\n",
       "      <td>USD</td>\n",
       "      <td>RV</td>\n",
       "      <td>1.0</td>\n",
       "      <td>NaN</td>\n",
       "      <td>1991.84</td>\n",
       "      <td>20200508.0</td>\n",
       "      <td>NAH4</td>\n",
       "      <td>1.930872e+09</td>\n",
       "      <td>1</td>\n",
       "    </tr>\n",
       "    <tr>\n",
       "      <th>49991</th>\n",
       "      <td>U001</td>\n",
       "      <td>0200516657</td>\n",
       "      <td>MAINES in</td>\n",
       "      <td>NaN</td>\n",
       "      <td>2020.0</td>\n",
       "      <td>1.930571e+09</td>\n",
       "      <td>2020-03-03</td>\n",
       "      <td>20200302</td>\n",
       "      <td>20200303</td>\n",
       "      <td>20200318.0</td>\n",
       "      <td>USD</td>\n",
       "      <td>RV</td>\n",
       "      <td>1.0</td>\n",
       "      <td>NaN</td>\n",
       "      <td>11509.36</td>\n",
       "      <td>20200303.0</td>\n",
       "      <td>NAA8</td>\n",
       "      <td>1.930571e+09</td>\n",
       "      <td>1</td>\n",
       "    </tr>\n",
       "    <tr>\n",
       "      <th>49998</th>\n",
       "      <td>U001</td>\n",
       "      <td>0200772670</td>\n",
       "      <td>ASSOCIAT foundation</td>\n",
       "      <td>NaN</td>\n",
       "      <td>2020.0</td>\n",
       "      <td>1.930701e+09</td>\n",
       "      <td>2020-03-25</td>\n",
       "      <td>20200325</td>\n",
       "      <td>20200325</td>\n",
       "      <td>20200409.0</td>\n",
       "      <td>USD</td>\n",
       "      <td>RV</td>\n",
       "      <td>1.0</td>\n",
       "      <td>NaN</td>\n",
       "      <td>28623.15</td>\n",
       "      <td>20200325.0</td>\n",
       "      <td>NAU5</td>\n",
       "      <td>1.930701e+09</td>\n",
       "      <td>1</td>\n",
       "    </tr>\n",
       "    <tr>\n",
       "      <th>49999</th>\n",
       "      <td>U001</td>\n",
       "      <td>0200707822</td>\n",
       "      <td>PUBLI</td>\n",
       "      <td>NaN</td>\n",
       "      <td>2020.0</td>\n",
       "      <td>1.930803e+09</td>\n",
       "      <td>2020-04-20</td>\n",
       "      <td>20200420</td>\n",
       "      <td>20200420</td>\n",
       "      <td>20200505.0</td>\n",
       "      <td>USD</td>\n",
       "      <td>RV</td>\n",
       "      <td>1.0</td>\n",
       "      <td>NaN</td>\n",
       "      <td>25495.67</td>\n",
       "      <td>20200420.0</td>\n",
       "      <td>NAA8</td>\n",
       "      <td>1.930803e+09</td>\n",
       "      <td>1</td>\n",
       "    </tr>\n",
       "  </tbody>\n",
       "</table>\n",
       "<p>10000 rows × 19 columns</p>\n",
       "</div>"
      ],
      "text/plain": [
       "      business_code cust_number        name_customer clear_date  \\\n",
       "10             U001  0100058020                KIM'         NaN   \n",
       "15             U001  0200762950             HAR corp        NaN   \n",
       "17             U001  0200726979     BJ'S  foundation        NaN   \n",
       "24             U001  0200020431       DEC associates        NaN   \n",
       "25             U001  0200457993      SHAM associates        NaN   \n",
       "...             ...         ...                  ...        ...   \n",
       "49976          U001  0200729290              KROGER         NaN   \n",
       "49981          U001   200769623   WAL-MAR foundation        NaN   \n",
       "49991          U001  0200516657            MAINES in        NaN   \n",
       "49998          U001  0200772670  ASSOCIAT foundation        NaN   \n",
       "49999          U001  0200707822               PUBLI         NaN   \n",
       "\n",
       "       buisness_year        doc_id posting_date  document_create_date  \\\n",
       "10            2020.0  1.930839e+09   2020-05-01              20200429   \n",
       "15            2020.0  1.930857e+09   2020-05-04              20200504   \n",
       "17            2020.0  1.930623e+09   2020-03-09              20200308   \n",
       "24            2020.0  1.930768e+09   2020-04-09              20200409   \n",
       "25            2020.0  1.930725e+09   2020-03-31              20200401   \n",
       "...              ...           ...          ...                   ...   \n",
       "49976         2020.0  1.930690e+09   2020-03-24              20200324   \n",
       "49981         2020.0  1.930872e+09   2020-05-08              20200508   \n",
       "49991         2020.0  1.930571e+09   2020-03-03              20200302   \n",
       "49998         2020.0  1.930701e+09   2020-03-25              20200325   \n",
       "49999         2020.0  1.930803e+09   2020-04-20              20200420   \n",
       "\n",
       "       document_create_date.1  due_in_date invoice_currency document type  \\\n",
       "10                   20200501   20200501.0              USD            RV   \n",
       "15                   20200504   20200519.0              USD            RV   \n",
       "17                   20200309   20200324.0              USD            RV   \n",
       "24                   20200409   20200424.0              USD            RV   \n",
       "25                   20200331   20200415.0              USD            RV   \n",
       "...                       ...          ...              ...           ...   \n",
       "49976                20200324   20200408.0              USD            RV   \n",
       "49981                20200508   20200523.0              USD            RV   \n",
       "49991                20200303   20200318.0              USD            RV   \n",
       "49998                20200325   20200409.0              USD            RV   \n",
       "49999                20200420   20200505.0              USD            RV   \n",
       "\n",
       "       posting_id  area_business  total_open_amount  baseline_create_date  \\\n",
       "10            1.0            NaN            2689.50            20200501.0   \n",
       "15            1.0            NaN           30270.22            20200504.0   \n",
       "17            1.0            NaN            1221.47            20200309.0   \n",
       "24            1.0            NaN             245.52            20200401.0   \n",
       "25            1.0            NaN           19126.23            20200331.0   \n",
       "...           ...            ...                ...                   ...   \n",
       "49976         1.0            NaN           24597.15            20200324.0   \n",
       "49981         1.0            NaN            1991.84            20200508.0   \n",
       "49991         1.0            NaN           11509.36            20200303.0   \n",
       "49998         1.0            NaN           28623.15            20200325.0   \n",
       "49999         1.0            NaN           25495.67            20200420.0   \n",
       "\n",
       "      cust_payment_terms    invoice_id  isOpen  \n",
       "10                  NAB1  1.930839e+09       1  \n",
       "15                  NAA8  1.930857e+09       1  \n",
       "17                  NAA8  1.930623e+09       1  \n",
       "24                  NAM4  1.930768e+09       1  \n",
       "25                  NAA8  1.930725e+09       1  \n",
       "...                  ...           ...     ...  \n",
       "49976               NAA8  1.930690e+09       1  \n",
       "49981               NAH4  1.930872e+09       1  \n",
       "49991               NAA8  1.930571e+09       1  \n",
       "49998               NAU5  1.930701e+09       1  \n",
       "49999               NAA8  1.930803e+09       1  \n",
       "\n",
       "[10000 rows x 19 columns]"
      ]
     },
     "execution_count": 146,
     "metadata": {},
     "output_type": "execute_result"
    }
   ],
   "source": [
    "#checking all NaN value\n",
    "test"
   ]
  },
  {
   "cell_type": "code",
   "execution_count": 147,
   "metadata": {},
   "outputs": [],
   "source": [
    "#preprocessing on test data as done on train data"
   ]
  },
  {
   "cell_type": "markdown",
   "metadata": {},
   "source": [
    "# Null/Constant/duplicate removal"
   ]
  },
  {
   "cell_type": "code",
   "execution_count": 148,
   "metadata": {
    "scrolled": true
   },
   "outputs": [
    {
     "data": {
      "text/plain": [
       "business_code                 0\n",
       "cust_number                   0\n",
       "name_customer                 0\n",
       "clear_date                10000\n",
       "buisness_year                 0\n",
       "doc_id                        0\n",
       "posting_date                  0\n",
       "document_create_date          0\n",
       "document_create_date.1        0\n",
       "due_in_date                   0\n",
       "invoice_currency              0\n",
       "document type                 0\n",
       "posting_id                    0\n",
       "area_business             10000\n",
       "total_open_amount             0\n",
       "baseline_create_date          0\n",
       "cust_payment_terms            0\n",
       "invoice_id                    0\n",
       "isOpen                        0\n",
       "dtype: int64"
      ]
     },
     "execution_count": 148,
     "metadata": {},
     "output_type": "execute_result"
    }
   ],
   "source": [
    "test.isna().sum()"
   ]
  },
  {
   "cell_type": "code",
   "execution_count": 149,
   "metadata": {},
   "outputs": [],
   "source": [
    "# droping all the null and constant column \n",
    "test.drop('area_business',axis=1,inplace=True)"
   ]
  },
  {
   "cell_type": "code",
   "execution_count": 150,
   "metadata": {},
   "outputs": [],
   "source": [
    "test.drop('document_create_date.1',axis=1,inplace=True)"
   ]
  },
  {
   "cell_type": "code",
   "execution_count": 151,
   "metadata": {},
   "outputs": [],
   "source": [
    "test.drop('doc_id',axis=1,inplace=True)"
   ]
  },
  {
   "cell_type": "code",
   "execution_count": 152,
   "metadata": {},
   "outputs": [],
   "source": [
    "test.drop('document type',axis=1,inplace=True)"
   ]
  },
  {
   "cell_type": "code",
   "execution_count": 153,
   "metadata": {},
   "outputs": [],
   "source": [
    "#duplicate row removal\n",
    "test=test.drop_duplicates(keep='first')"
   ]
  },
  {
   "cell_type": "code",
   "execution_count": 154,
   "metadata": {},
   "outputs": [
    {
     "data": {
      "text/plain": [
       "(9683, 15)"
      ]
     },
     "execution_count": 154,
     "metadata": {},
     "output_type": "execute_result"
    }
   ],
   "source": [
    "test.shape"
   ]
  },
  {
   "cell_type": "code",
   "execution_count": 155,
   "metadata": {},
   "outputs": [
    {
     "data": {
      "text/html": [
       "<div>\n",
       "<style scoped>\n",
       "    .dataframe tbody tr th:only-of-type {\n",
       "        vertical-align: middle;\n",
       "    }\n",
       "\n",
       "    .dataframe tbody tr th {\n",
       "        vertical-align: top;\n",
       "    }\n",
       "\n",
       "    .dataframe thead th {\n",
       "        text-align: right;\n",
       "    }\n",
       "</style>\n",
       "<table border=\"1\" class=\"dataframe\">\n",
       "  <thead>\n",
       "    <tr style=\"text-align: right;\">\n",
       "      <th></th>\n",
       "      <th>buisness_year</th>\n",
       "      <th>document_create_date</th>\n",
       "      <th>due_in_date</th>\n",
       "      <th>posting_id</th>\n",
       "      <th>total_open_amount</th>\n",
       "      <th>baseline_create_date</th>\n",
       "      <th>invoice_id</th>\n",
       "      <th>isOpen</th>\n",
       "    </tr>\n",
       "  </thead>\n",
       "  <tbody>\n",
       "    <tr>\n",
       "      <th>buisness_year</th>\n",
       "      <td>0.0</td>\n",
       "      <td>0.000000e+00</td>\n",
       "      <td>0.000000e+00</td>\n",
       "      <td>0.0</td>\n",
       "      <td>0.000000e+00</td>\n",
       "      <td>0.000000e+00</td>\n",
       "      <td>0.000000e+00</td>\n",
       "      <td>0.0</td>\n",
       "    </tr>\n",
       "    <tr>\n",
       "      <th>document_create_date</th>\n",
       "      <td>0.0</td>\n",
       "      <td>4.824205e+03</td>\n",
       "      <td>4.011870e+03</td>\n",
       "      <td>0.0</td>\n",
       "      <td>-5.027050e+04</td>\n",
       "      <td>4.674295e+03</td>\n",
       "      <td>-3.963651e+08</td>\n",
       "      <td>0.0</td>\n",
       "    </tr>\n",
       "    <tr>\n",
       "      <th>due_in_date</th>\n",
       "      <td>0.0</td>\n",
       "      <td>4.011870e+03</td>\n",
       "      <td>5.362954e+03</td>\n",
       "      <td>0.0</td>\n",
       "      <td>-9.613215e+04</td>\n",
       "      <td>4.027943e+03</td>\n",
       "      <td>-1.039744e+09</td>\n",
       "      <td>0.0</td>\n",
       "    </tr>\n",
       "    <tr>\n",
       "      <th>posting_id</th>\n",
       "      <td>0.0</td>\n",
       "      <td>0.000000e+00</td>\n",
       "      <td>0.000000e+00</td>\n",
       "      <td>0.0</td>\n",
       "      <td>0.000000e+00</td>\n",
       "      <td>0.000000e+00</td>\n",
       "      <td>0.000000e+00</td>\n",
       "      <td>0.0</td>\n",
       "    </tr>\n",
       "    <tr>\n",
       "      <th>total_open_amount</th>\n",
       "      <td>0.0</td>\n",
       "      <td>-5.027050e+04</td>\n",
       "      <td>-9.613215e+04</td>\n",
       "      <td>0.0</td>\n",
       "      <td>1.341019e+09</td>\n",
       "      <td>-3.382032e+04</td>\n",
       "      <td>1.778014e+12</td>\n",
       "      <td>0.0</td>\n",
       "    </tr>\n",
       "    <tr>\n",
       "      <th>baseline_create_date</th>\n",
       "      <td>0.0</td>\n",
       "      <td>4.674295e+03</td>\n",
       "      <td>4.027943e+03</td>\n",
       "      <td>0.0</td>\n",
       "      <td>-3.382032e+04</td>\n",
       "      <td>4.774947e+03</td>\n",
       "      <td>2.434499e+08</td>\n",
       "      <td>0.0</td>\n",
       "    </tr>\n",
       "    <tr>\n",
       "      <th>invoice_id</th>\n",
       "      <td>0.0</td>\n",
       "      <td>-3.963651e+08</td>\n",
       "      <td>-1.039744e+09</td>\n",
       "      <td>0.0</td>\n",
       "      <td>1.778014e+12</td>\n",
       "      <td>2.434499e+08</td>\n",
       "      <td>6.638773e+16</td>\n",
       "      <td>0.0</td>\n",
       "    </tr>\n",
       "    <tr>\n",
       "      <th>isOpen</th>\n",
       "      <td>0.0</td>\n",
       "      <td>0.000000e+00</td>\n",
       "      <td>0.000000e+00</td>\n",
       "      <td>0.0</td>\n",
       "      <td>0.000000e+00</td>\n",
       "      <td>0.000000e+00</td>\n",
       "      <td>0.000000e+00</td>\n",
       "      <td>0.0</td>\n",
       "    </tr>\n",
       "  </tbody>\n",
       "</table>\n",
       "</div>"
      ],
      "text/plain": [
       "                      buisness_year  document_create_date   due_in_date  \\\n",
       "buisness_year                   0.0          0.000000e+00  0.000000e+00   \n",
       "document_create_date            0.0          4.824205e+03  4.011870e+03   \n",
       "due_in_date                     0.0          4.011870e+03  5.362954e+03   \n",
       "posting_id                      0.0          0.000000e+00  0.000000e+00   \n",
       "total_open_amount               0.0         -5.027050e+04 -9.613215e+04   \n",
       "baseline_create_date            0.0          4.674295e+03  4.027943e+03   \n",
       "invoice_id                      0.0         -3.963651e+08 -1.039744e+09   \n",
       "isOpen                          0.0          0.000000e+00  0.000000e+00   \n",
       "\n",
       "                      posting_id  total_open_amount  baseline_create_date  \\\n",
       "buisness_year                0.0       0.000000e+00          0.000000e+00   \n",
       "document_create_date         0.0      -5.027050e+04          4.674295e+03   \n",
       "due_in_date                  0.0      -9.613215e+04          4.027943e+03   \n",
       "posting_id                   0.0       0.000000e+00          0.000000e+00   \n",
       "total_open_amount            0.0       1.341019e+09         -3.382032e+04   \n",
       "baseline_create_date         0.0      -3.382032e+04          4.774947e+03   \n",
       "invoice_id                   0.0       1.778014e+12          2.434499e+08   \n",
       "isOpen                       0.0       0.000000e+00          0.000000e+00   \n",
       "\n",
       "                        invoice_id  isOpen  \n",
       "buisness_year         0.000000e+00     0.0  \n",
       "document_create_date -3.963651e+08     0.0  \n",
       "due_in_date          -1.039744e+09     0.0  \n",
       "posting_id            0.000000e+00     0.0  \n",
       "total_open_amount     1.778014e+12     0.0  \n",
       "baseline_create_date  2.434499e+08     0.0  \n",
       "invoice_id            6.638773e+16     0.0  \n",
       "isOpen                0.000000e+00     0.0  "
      ]
     },
     "execution_count": 155,
     "metadata": {},
     "output_type": "execute_result"
    }
   ],
   "source": [
    "test.cov()"
   ]
  },
  {
   "cell_type": "code",
   "execution_count": 156,
   "metadata": {},
   "outputs": [
    {
     "data": {
      "text/plain": [
       "business_code              5\n",
       "cust_number              670\n",
       "name_customer           1747\n",
       "clear_date                 0\n",
       "buisness_year              1\n",
       "posting_date              81\n",
       "document_create_date      86\n",
       "due_in_date              131\n",
       "invoice_currency           2\n",
       "posting_id                 1\n",
       "total_open_amount       9051\n",
       "baseline_create_date      86\n",
       "cust_payment_terms        45\n",
       "invoice_id              9683\n",
       "isOpen                     1\n",
       "dtype: int64"
      ]
     },
     "execution_count": 156,
     "metadata": {},
     "output_type": "execute_result"
    }
   ],
   "source": [
    "test.nunique()"
   ]
  },
  {
   "cell_type": "code",
   "execution_count": 157,
   "metadata": {},
   "outputs": [
    {
     "data": {
      "text/plain": [
       "(9683, 15)"
      ]
     },
     "execution_count": 157,
     "metadata": {},
     "output_type": "execute_result"
    }
   ],
   "source": [
    "test.shape"
   ]
  },
  {
   "cell_type": "code",
   "execution_count": 158,
   "metadata": {},
   "outputs": [
    {
     "data": {
      "text/plain": [
       "business_code            object\n",
       "cust_number              object\n",
       "name_customer            object\n",
       "clear_date               object\n",
       "buisness_year           float64\n",
       "posting_date             object\n",
       "document_create_date      int64\n",
       "due_in_date             float64\n",
       "invoice_currency         object\n",
       "posting_id              float64\n",
       "total_open_amount       float64\n",
       "baseline_create_date    float64\n",
       "cust_payment_terms       object\n",
       "invoice_id              float64\n",
       "isOpen                    int64\n",
       "dtype: object"
      ]
     },
     "execution_count": 158,
     "metadata": {},
     "output_type": "execute_result"
    }
   ],
   "source": [
    "test.dtypes"
   ]
  },
  {
   "cell_type": "code",
   "execution_count": 159,
   "metadata": {},
   "outputs": [],
   "source": [
    "# normalizing amount"
   ]
  },
  {
   "cell_type": "code",
   "execution_count": 160,
   "metadata": {},
   "outputs": [],
   "source": [
    "# equalizing 1 cad=0.81 usd\n",
    "test.loc[test.invoice_currency== \"CAD\", 'total_open_amount'] = test['total_open_amount']*0.81"
   ]
  },
  {
   "cell_type": "code",
   "execution_count": 161,
   "metadata": {},
   "outputs": [
    {
     "data": {
      "text/html": [
       "<div>\n",
       "<style scoped>\n",
       "    .dataframe tbody tr th:only-of-type {\n",
       "        vertical-align: middle;\n",
       "    }\n",
       "\n",
       "    .dataframe tbody tr th {\n",
       "        vertical-align: top;\n",
       "    }\n",
       "\n",
       "    .dataframe thead th {\n",
       "        text-align: right;\n",
       "    }\n",
       "</style>\n",
       "<table border=\"1\" class=\"dataframe\">\n",
       "  <thead>\n",
       "    <tr style=\"text-align: right;\">\n",
       "      <th></th>\n",
       "      <th>business_code</th>\n",
       "      <th>cust_number</th>\n",
       "      <th>name_customer</th>\n",
       "      <th>clear_date</th>\n",
       "      <th>buisness_year</th>\n",
       "      <th>posting_date</th>\n",
       "      <th>document_create_date</th>\n",
       "      <th>due_in_date</th>\n",
       "      <th>invoice_currency</th>\n",
       "      <th>posting_id</th>\n",
       "      <th>total_open_amount</th>\n",
       "      <th>baseline_create_date</th>\n",
       "      <th>cust_payment_terms</th>\n",
       "      <th>invoice_id</th>\n",
       "      <th>isOpen</th>\n",
       "    </tr>\n",
       "  </thead>\n",
       "  <tbody>\n",
       "    <tr>\n",
       "      <th>10</th>\n",
       "      <td>U001</td>\n",
       "      <td>0100058020</td>\n",
       "      <td>KIM'</td>\n",
       "      <td>NaN</td>\n",
       "      <td>2020.0</td>\n",
       "      <td>2020-05-01</td>\n",
       "      <td>20200429</td>\n",
       "      <td>20200501.0</td>\n",
       "      <td>USD</td>\n",
       "      <td>1.0</td>\n",
       "      <td>2689.50</td>\n",
       "      <td>20200501.0</td>\n",
       "      <td>NAB1</td>\n",
       "      <td>1.930839e+09</td>\n",
       "      <td>1</td>\n",
       "    </tr>\n",
       "    <tr>\n",
       "      <th>15</th>\n",
       "      <td>U001</td>\n",
       "      <td>0200762950</td>\n",
       "      <td>HAR corp</td>\n",
       "      <td>NaN</td>\n",
       "      <td>2020.0</td>\n",
       "      <td>2020-05-04</td>\n",
       "      <td>20200504</td>\n",
       "      <td>20200519.0</td>\n",
       "      <td>USD</td>\n",
       "      <td>1.0</td>\n",
       "      <td>30270.22</td>\n",
       "      <td>20200504.0</td>\n",
       "      <td>NAA8</td>\n",
       "      <td>1.930857e+09</td>\n",
       "      <td>1</td>\n",
       "    </tr>\n",
       "    <tr>\n",
       "      <th>17</th>\n",
       "      <td>U001</td>\n",
       "      <td>0200726979</td>\n",
       "      <td>BJ'S  foundation</td>\n",
       "      <td>NaN</td>\n",
       "      <td>2020.0</td>\n",
       "      <td>2020-03-09</td>\n",
       "      <td>20200308</td>\n",
       "      <td>20200324.0</td>\n",
       "      <td>USD</td>\n",
       "      <td>1.0</td>\n",
       "      <td>1221.47</td>\n",
       "      <td>20200309.0</td>\n",
       "      <td>NAA8</td>\n",
       "      <td>1.930623e+09</td>\n",
       "      <td>1</td>\n",
       "    </tr>\n",
       "    <tr>\n",
       "      <th>24</th>\n",
       "      <td>U001</td>\n",
       "      <td>0200020431</td>\n",
       "      <td>DEC associates</td>\n",
       "      <td>NaN</td>\n",
       "      <td>2020.0</td>\n",
       "      <td>2020-04-09</td>\n",
       "      <td>20200409</td>\n",
       "      <td>20200424.0</td>\n",
       "      <td>USD</td>\n",
       "      <td>1.0</td>\n",
       "      <td>245.52</td>\n",
       "      <td>20200401.0</td>\n",
       "      <td>NAM4</td>\n",
       "      <td>1.930768e+09</td>\n",
       "      <td>1</td>\n",
       "    </tr>\n",
       "    <tr>\n",
       "      <th>25</th>\n",
       "      <td>U001</td>\n",
       "      <td>0200457993</td>\n",
       "      <td>SHAM associates</td>\n",
       "      <td>NaN</td>\n",
       "      <td>2020.0</td>\n",
       "      <td>2020-03-31</td>\n",
       "      <td>20200401</td>\n",
       "      <td>20200415.0</td>\n",
       "      <td>USD</td>\n",
       "      <td>1.0</td>\n",
       "      <td>19126.23</td>\n",
       "      <td>20200331.0</td>\n",
       "      <td>NAA8</td>\n",
       "      <td>1.930725e+09</td>\n",
       "      <td>1</td>\n",
       "    </tr>\n",
       "    <tr>\n",
       "      <th>...</th>\n",
       "      <td>...</td>\n",
       "      <td>...</td>\n",
       "      <td>...</td>\n",
       "      <td>...</td>\n",
       "      <td>...</td>\n",
       "      <td>...</td>\n",
       "      <td>...</td>\n",
       "      <td>...</td>\n",
       "      <td>...</td>\n",
       "      <td>...</td>\n",
       "      <td>...</td>\n",
       "      <td>...</td>\n",
       "      <td>...</td>\n",
       "      <td>...</td>\n",
       "      <td>...</td>\n",
       "    </tr>\n",
       "    <tr>\n",
       "      <th>49972</th>\n",
       "      <td>U001</td>\n",
       "      <td>0200769623</td>\n",
       "      <td>WAL-MAR us</td>\n",
       "      <td>NaN</td>\n",
       "      <td>2020.0</td>\n",
       "      <td>2020-03-08</td>\n",
       "      <td>20200307</td>\n",
       "      <td>20200323.0</td>\n",
       "      <td>USD</td>\n",
       "      <td>1.0</td>\n",
       "      <td>4052.44</td>\n",
       "      <td>20200308.0</td>\n",
       "      <td>NAH4</td>\n",
       "      <td>1.930620e+09</td>\n",
       "      <td>1</td>\n",
       "    </tr>\n",
       "    <tr>\n",
       "      <th>49976</th>\n",
       "      <td>U001</td>\n",
       "      <td>0200729290</td>\n",
       "      <td>KROGER</td>\n",
       "      <td>NaN</td>\n",
       "      <td>2020.0</td>\n",
       "      <td>2020-03-24</td>\n",
       "      <td>20200324</td>\n",
       "      <td>20200408.0</td>\n",
       "      <td>USD</td>\n",
       "      <td>1.0</td>\n",
       "      <td>24597.15</td>\n",
       "      <td>20200324.0</td>\n",
       "      <td>NAA8</td>\n",
       "      <td>1.930690e+09</td>\n",
       "      <td>1</td>\n",
       "    </tr>\n",
       "    <tr>\n",
       "      <th>49981</th>\n",
       "      <td>U001</td>\n",
       "      <td>200769623</td>\n",
       "      <td>WAL-MAR foundation</td>\n",
       "      <td>NaN</td>\n",
       "      <td>2020.0</td>\n",
       "      <td>2020-05-08</td>\n",
       "      <td>20200508</td>\n",
       "      <td>20200523.0</td>\n",
       "      <td>USD</td>\n",
       "      <td>1.0</td>\n",
       "      <td>1991.84</td>\n",
       "      <td>20200508.0</td>\n",
       "      <td>NAH4</td>\n",
       "      <td>1.930872e+09</td>\n",
       "      <td>1</td>\n",
       "    </tr>\n",
       "    <tr>\n",
       "      <th>49998</th>\n",
       "      <td>U001</td>\n",
       "      <td>0200772670</td>\n",
       "      <td>ASSOCIAT foundation</td>\n",
       "      <td>NaN</td>\n",
       "      <td>2020.0</td>\n",
       "      <td>2020-03-25</td>\n",
       "      <td>20200325</td>\n",
       "      <td>20200409.0</td>\n",
       "      <td>USD</td>\n",
       "      <td>1.0</td>\n",
       "      <td>28623.15</td>\n",
       "      <td>20200325.0</td>\n",
       "      <td>NAU5</td>\n",
       "      <td>1.930701e+09</td>\n",
       "      <td>1</td>\n",
       "    </tr>\n",
       "    <tr>\n",
       "      <th>49999</th>\n",
       "      <td>U001</td>\n",
       "      <td>0200707822</td>\n",
       "      <td>PUBLI</td>\n",
       "      <td>NaN</td>\n",
       "      <td>2020.0</td>\n",
       "      <td>2020-04-20</td>\n",
       "      <td>20200420</td>\n",
       "      <td>20200505.0</td>\n",
       "      <td>USD</td>\n",
       "      <td>1.0</td>\n",
       "      <td>25495.67</td>\n",
       "      <td>20200420.0</td>\n",
       "      <td>NAA8</td>\n",
       "      <td>1.930803e+09</td>\n",
       "      <td>1</td>\n",
       "    </tr>\n",
       "  </tbody>\n",
       "</table>\n",
       "<p>9683 rows × 15 columns</p>\n",
       "</div>"
      ],
      "text/plain": [
       "      business_code cust_number        name_customer clear_date  \\\n",
       "10             U001  0100058020                KIM'         NaN   \n",
       "15             U001  0200762950             HAR corp        NaN   \n",
       "17             U001  0200726979     BJ'S  foundation        NaN   \n",
       "24             U001  0200020431       DEC associates        NaN   \n",
       "25             U001  0200457993      SHAM associates        NaN   \n",
       "...             ...         ...                  ...        ...   \n",
       "49972          U001  0200769623           WAL-MAR us        NaN   \n",
       "49976          U001  0200729290              KROGER         NaN   \n",
       "49981          U001   200769623   WAL-MAR foundation        NaN   \n",
       "49998          U001  0200772670  ASSOCIAT foundation        NaN   \n",
       "49999          U001  0200707822               PUBLI         NaN   \n",
       "\n",
       "       buisness_year posting_date  document_create_date  due_in_date  \\\n",
       "10            2020.0   2020-05-01              20200429   20200501.0   \n",
       "15            2020.0   2020-05-04              20200504   20200519.0   \n",
       "17            2020.0   2020-03-09              20200308   20200324.0   \n",
       "24            2020.0   2020-04-09              20200409   20200424.0   \n",
       "25            2020.0   2020-03-31              20200401   20200415.0   \n",
       "...              ...          ...                   ...          ...   \n",
       "49972         2020.0   2020-03-08              20200307   20200323.0   \n",
       "49976         2020.0   2020-03-24              20200324   20200408.0   \n",
       "49981         2020.0   2020-05-08              20200508   20200523.0   \n",
       "49998         2020.0   2020-03-25              20200325   20200409.0   \n",
       "49999         2020.0   2020-04-20              20200420   20200505.0   \n",
       "\n",
       "      invoice_currency  posting_id  total_open_amount  baseline_create_date  \\\n",
       "10                 USD         1.0            2689.50            20200501.0   \n",
       "15                 USD         1.0           30270.22            20200504.0   \n",
       "17                 USD         1.0            1221.47            20200309.0   \n",
       "24                 USD         1.0             245.52            20200401.0   \n",
       "25                 USD         1.0           19126.23            20200331.0   \n",
       "...                ...         ...                ...                   ...   \n",
       "49972              USD         1.0            4052.44            20200308.0   \n",
       "49976              USD         1.0           24597.15            20200324.0   \n",
       "49981              USD         1.0            1991.84            20200508.0   \n",
       "49998              USD         1.0           28623.15            20200325.0   \n",
       "49999              USD         1.0           25495.67            20200420.0   \n",
       "\n",
       "      cust_payment_terms    invoice_id  isOpen  \n",
       "10                  NAB1  1.930839e+09       1  \n",
       "15                  NAA8  1.930857e+09       1  \n",
       "17                  NAA8  1.930623e+09       1  \n",
       "24                  NAM4  1.930768e+09       1  \n",
       "25                  NAA8  1.930725e+09       1  \n",
       "...                  ...           ...     ...  \n",
       "49972               NAH4  1.930620e+09       1  \n",
       "49976               NAA8  1.930690e+09       1  \n",
       "49981               NAH4  1.930872e+09       1  \n",
       "49998               NAU5  1.930701e+09       1  \n",
       "49999               NAA8  1.930803e+09       1  \n",
       "\n",
       "[9683 rows x 15 columns]"
      ]
     },
     "execution_count": 161,
     "metadata": {},
     "output_type": "execute_result"
    }
   ],
   "source": [
    "test"
   ]
  },
  {
   "cell_type": "code",
   "execution_count": 162,
   "metadata": {},
   "outputs": [],
   "source": [
    "# sorting and reindexing on the basis of 'posting_date'\n",
    "test=test.sort_values(by=['posting_date'],ascending=True).reset_index(drop=True)"
   ]
  },
  {
   "cell_type": "code",
   "execution_count": 163,
   "metadata": {},
   "outputs": [
    {
     "data": {
      "text/html": [
       "<div>\n",
       "<style scoped>\n",
       "    .dataframe tbody tr th:only-of-type {\n",
       "        vertical-align: middle;\n",
       "    }\n",
       "\n",
       "    .dataframe tbody tr th {\n",
       "        vertical-align: top;\n",
       "    }\n",
       "\n",
       "    .dataframe thead th {\n",
       "        text-align: right;\n",
       "    }\n",
       "</style>\n",
       "<table border=\"1\" class=\"dataframe\">\n",
       "  <thead>\n",
       "    <tr style=\"text-align: right;\">\n",
       "      <th></th>\n",
       "      <th>business_code</th>\n",
       "      <th>cust_number</th>\n",
       "      <th>name_customer</th>\n",
       "      <th>clear_date</th>\n",
       "      <th>buisness_year</th>\n",
       "      <th>posting_date</th>\n",
       "      <th>document_create_date</th>\n",
       "      <th>due_in_date</th>\n",
       "      <th>invoice_currency</th>\n",
       "      <th>posting_id</th>\n",
       "      <th>total_open_amount</th>\n",
       "      <th>baseline_create_date</th>\n",
       "      <th>cust_payment_terms</th>\n",
       "      <th>invoice_id</th>\n",
       "      <th>isOpen</th>\n",
       "    </tr>\n",
       "  </thead>\n",
       "  <tbody>\n",
       "    <tr>\n",
       "      <th>0</th>\n",
       "      <td>U001</td>\n",
       "      <td>0200769623</td>\n",
       "      <td>WAL-MAR corp</td>\n",
       "      <td>NaN</td>\n",
       "      <td>2020.0</td>\n",
       "      <td>2020-02-27</td>\n",
       "      <td>20200226</td>\n",
       "      <td>20200313.0</td>\n",
       "      <td>USD</td>\n",
       "      <td>1.0</td>\n",
       "      <td>7925.6800</td>\n",
       "      <td>20200227.0</td>\n",
       "      <td>NAH4</td>\n",
       "      <td>1.930576e+09</td>\n",
       "      <td>1</td>\n",
       "    </tr>\n",
       "    <tr>\n",
       "      <th>1</th>\n",
       "      <td>U001</td>\n",
       "      <td>0200936373</td>\n",
       "      <td>SUPE associates</td>\n",
       "      <td>NaN</td>\n",
       "      <td>2020.0</td>\n",
       "      <td>2020-02-27</td>\n",
       "      <td>20200225</td>\n",
       "      <td>20200313.0</td>\n",
       "      <td>USD</td>\n",
       "      <td>1.0</td>\n",
       "      <td>50961.4300</td>\n",
       "      <td>20200227.0</td>\n",
       "      <td>NAA8</td>\n",
       "      <td>1.930568e+09</td>\n",
       "      <td>1</td>\n",
       "    </tr>\n",
       "    <tr>\n",
       "      <th>2</th>\n",
       "      <td>U001</td>\n",
       "      <td>0200713007</td>\n",
       "      <td>KEEFE  foundation</td>\n",
       "      <td>NaN</td>\n",
       "      <td>2020.0</td>\n",
       "      <td>2020-02-27</td>\n",
       "      <td>20200227</td>\n",
       "      <td>20200313.0</td>\n",
       "      <td>USD</td>\n",
       "      <td>1.0</td>\n",
       "      <td>29988.0000</td>\n",
       "      <td>20200227.0</td>\n",
       "      <td>NAA8</td>\n",
       "      <td>1.930578e+09</td>\n",
       "      <td>1</td>\n",
       "    </tr>\n",
       "    <tr>\n",
       "      <th>3</th>\n",
       "      <td>U001</td>\n",
       "      <td>0200769623</td>\n",
       "      <td>WAL-MAR us</td>\n",
       "      <td>NaN</td>\n",
       "      <td>2020.0</td>\n",
       "      <td>2020-02-27</td>\n",
       "      <td>20200226</td>\n",
       "      <td>20200313.0</td>\n",
       "      <td>USD</td>\n",
       "      <td>1.0</td>\n",
       "      <td>8766.3800</td>\n",
       "      <td>20200227.0</td>\n",
       "      <td>NAH4</td>\n",
       "      <td>1.930574e+09</td>\n",
       "      <td>1</td>\n",
       "    </tr>\n",
       "    <tr>\n",
       "      <th>4</th>\n",
       "      <td>U001</td>\n",
       "      <td>0200769623</td>\n",
       "      <td>WAL-MAR</td>\n",
       "      <td>NaN</td>\n",
       "      <td>2020.0</td>\n",
       "      <td>2020-02-27</td>\n",
       "      <td>20200225</td>\n",
       "      <td>20200313.0</td>\n",
       "      <td>USD</td>\n",
       "      <td>1.0</td>\n",
       "      <td>42357.1200</td>\n",
       "      <td>20200227.0</td>\n",
       "      <td>NAH4</td>\n",
       "      <td>1.930567e+09</td>\n",
       "      <td>1</td>\n",
       "    </tr>\n",
       "    <tr>\n",
       "      <th>...</th>\n",
       "      <td>...</td>\n",
       "      <td>...</td>\n",
       "      <td>...</td>\n",
       "      <td>...</td>\n",
       "      <td>...</td>\n",
       "      <td>...</td>\n",
       "      <td>...</td>\n",
       "      <td>...</td>\n",
       "      <td>...</td>\n",
       "      <td>...</td>\n",
       "      <td>...</td>\n",
       "      <td>...</td>\n",
       "      <td>...</td>\n",
       "      <td>...</td>\n",
       "      <td>...</td>\n",
       "    </tr>\n",
       "    <tr>\n",
       "      <th>9678</th>\n",
       "      <td>U001</td>\n",
       "      <td>200076137</td>\n",
       "      <td>OLLIE us</td>\n",
       "      <td>NaN</td>\n",
       "      <td>2020.0</td>\n",
       "      <td>2020-05-13</td>\n",
       "      <td>20200505</td>\n",
       "      <td>20200528.0</td>\n",
       "      <td>USD</td>\n",
       "      <td>1.0</td>\n",
       "      <td>1267.2000</td>\n",
       "      <td>20200513.0</td>\n",
       "      <td>NAA8</td>\n",
       "      <td>1.930861e+09</td>\n",
       "      <td>1</td>\n",
       "    </tr>\n",
       "    <tr>\n",
       "      <th>9679</th>\n",
       "      <td>CA02</td>\n",
       "      <td>0140104392</td>\n",
       "      <td>FLANAG us</td>\n",
       "      <td>NaN</td>\n",
       "      <td>2020.0</td>\n",
       "      <td>2020-05-14</td>\n",
       "      <td>20200514</td>\n",
       "      <td>20200524.0</td>\n",
       "      <td>CAD</td>\n",
       "      <td>1.0</td>\n",
       "      <td>3038.1723</td>\n",
       "      <td>20200514.0</td>\n",
       "      <td>CA10</td>\n",
       "      <td>2.960635e+09</td>\n",
       "      <td>1</td>\n",
       "    </tr>\n",
       "    <tr>\n",
       "      <th>9680</th>\n",
       "      <td>U001</td>\n",
       "      <td>0200915438</td>\n",
       "      <td>GROC associates</td>\n",
       "      <td>NaN</td>\n",
       "      <td>2020.0</td>\n",
       "      <td>2020-05-15</td>\n",
       "      <td>20200507</td>\n",
       "      <td>20200530.0</td>\n",
       "      <td>USD</td>\n",
       "      <td>1.0</td>\n",
       "      <td>2625.0000</td>\n",
       "      <td>20200515.0</td>\n",
       "      <td>NAA8</td>\n",
       "      <td>1.930876e+09</td>\n",
       "      <td>1</td>\n",
       "    </tr>\n",
       "    <tr>\n",
       "      <th>9681</th>\n",
       "      <td>U001</td>\n",
       "      <td>200875680</td>\n",
       "      <td>MINERS</td>\n",
       "      <td>NaN</td>\n",
       "      <td>2020.0</td>\n",
       "      <td>2020-05-18</td>\n",
       "      <td>20200516</td>\n",
       "      <td>20200602.0</td>\n",
       "      <td>USD</td>\n",
       "      <td>1.0</td>\n",
       "      <td>119248.8300</td>\n",
       "      <td>20200518.0</td>\n",
       "      <td>NAA8</td>\n",
       "      <td>1.930911e+09</td>\n",
       "      <td>1</td>\n",
       "    </tr>\n",
       "    <tr>\n",
       "      <th>9682</th>\n",
       "      <td>U001</td>\n",
       "      <td>100026809</td>\n",
       "      <td>PRES corporation</td>\n",
       "      <td>NaN</td>\n",
       "      <td>2020.0</td>\n",
       "      <td>2020-05-19</td>\n",
       "      <td>20200519</td>\n",
       "      <td>20200529.0</td>\n",
       "      <td>USD</td>\n",
       "      <td>1.0</td>\n",
       "      <td>402.5000</td>\n",
       "      <td>20200519.0</td>\n",
       "      <td>NA10</td>\n",
       "      <td>1.930916e+09</td>\n",
       "      <td>1</td>\n",
       "    </tr>\n",
       "  </tbody>\n",
       "</table>\n",
       "<p>9683 rows × 15 columns</p>\n",
       "</div>"
      ],
      "text/plain": [
       "     business_code cust_number      name_customer clear_date  buisness_year  \\\n",
       "0             U001  0200769623       WAL-MAR corp        NaN         2020.0   \n",
       "1             U001  0200936373    SUPE associates        NaN         2020.0   \n",
       "2             U001  0200713007  KEEFE  foundation        NaN         2020.0   \n",
       "3             U001  0200769623         WAL-MAR us        NaN         2020.0   \n",
       "4             U001  0200769623           WAL-MAR         NaN         2020.0   \n",
       "...            ...         ...                ...        ...            ...   \n",
       "9678          U001   200076137           OLLIE us        NaN         2020.0   \n",
       "9679          CA02  0140104392          FLANAG us        NaN         2020.0   \n",
       "9680          U001  0200915438    GROC associates        NaN         2020.0   \n",
       "9681          U001   200875680           MINERS          NaN         2020.0   \n",
       "9682          U001   100026809   PRES corporation        NaN         2020.0   \n",
       "\n",
       "     posting_date  document_create_date  due_in_date invoice_currency  \\\n",
       "0      2020-02-27              20200226   20200313.0              USD   \n",
       "1      2020-02-27              20200225   20200313.0              USD   \n",
       "2      2020-02-27              20200227   20200313.0              USD   \n",
       "3      2020-02-27              20200226   20200313.0              USD   \n",
       "4      2020-02-27              20200225   20200313.0              USD   \n",
       "...           ...                   ...          ...              ...   \n",
       "9678   2020-05-13              20200505   20200528.0              USD   \n",
       "9679   2020-05-14              20200514   20200524.0              CAD   \n",
       "9680   2020-05-15              20200507   20200530.0              USD   \n",
       "9681   2020-05-18              20200516   20200602.0              USD   \n",
       "9682   2020-05-19              20200519   20200529.0              USD   \n",
       "\n",
       "      posting_id  total_open_amount  baseline_create_date cust_payment_terms  \\\n",
       "0            1.0          7925.6800            20200227.0               NAH4   \n",
       "1            1.0         50961.4300            20200227.0               NAA8   \n",
       "2            1.0         29988.0000            20200227.0               NAA8   \n",
       "3            1.0          8766.3800            20200227.0               NAH4   \n",
       "4            1.0         42357.1200            20200227.0               NAH4   \n",
       "...          ...                ...                   ...                ...   \n",
       "9678         1.0          1267.2000            20200513.0               NAA8   \n",
       "9679         1.0          3038.1723            20200514.0               CA10   \n",
       "9680         1.0          2625.0000            20200515.0               NAA8   \n",
       "9681         1.0        119248.8300            20200518.0               NAA8   \n",
       "9682         1.0           402.5000            20200519.0               NA10   \n",
       "\n",
       "        invoice_id  isOpen  \n",
       "0     1.930576e+09       1  \n",
       "1     1.930568e+09       1  \n",
       "2     1.930578e+09       1  \n",
       "3     1.930574e+09       1  \n",
       "4     1.930567e+09       1  \n",
       "...            ...     ...  \n",
       "9678  1.930861e+09       1  \n",
       "9679  2.960635e+09       1  \n",
       "9680  1.930876e+09       1  \n",
       "9681  1.930911e+09       1  \n",
       "9682  1.930916e+09       1  \n",
       "\n",
       "[9683 rows x 15 columns]"
      ]
     },
     "execution_count": 163,
     "metadata": {},
     "output_type": "execute_result"
    }
   ],
   "source": [
    "test"
   ]
  },
  {
   "cell_type": "code",
   "execution_count": 164,
   "metadata": {},
   "outputs": [],
   "source": [
    "# datetime - format change of required features"
   ]
  },
  {
   "cell_type": "code",
   "execution_count": 165,
   "metadata": {},
   "outputs": [],
   "source": [
    "test['document_create_date']=test['document_create_date'].astype(str)\n",
    "test['due_in_date']=test['due_in_date'].astype(str)\n",
    "test['clear_date']=test['clear_date'].astype(str)\n",
    "test['posting_date']=test['posting_date'].astype(str)\n",
    "test['baseline_create_date']=test['baseline_create_date'].astype(str)\n"
   ]
  },
  {
   "cell_type": "code",
   "execution_count": 166,
   "metadata": {
    "scrolled": true
   },
   "outputs": [],
   "source": [
    "\n",
    "test['clear_date']= pd.to_datetime(test['clear_date'])\n",
    "\n",
    "test['document_create_date']= pd.to_datetime(test['document_create_date'])"
   ]
  },
  {
   "cell_type": "code",
   "execution_count": 167,
   "metadata": {},
   "outputs": [
    {
     "data": {
      "text/plain": [
       "business_code                   object\n",
       "cust_number                     object\n",
       "name_customer                   object\n",
       "clear_date              datetime64[ns]\n",
       "buisness_year                  float64\n",
       "posting_date                    object\n",
       "document_create_date    datetime64[ns]\n",
       "due_in_date                     object\n",
       "invoice_currency                object\n",
       "posting_id                     float64\n",
       "total_open_amount              float64\n",
       "baseline_create_date            object\n",
       "cust_payment_terms              object\n",
       "invoice_id                     float64\n",
       "isOpen                           int64\n",
       "dtype: object"
      ]
     },
     "execution_count": 167,
     "metadata": {},
     "output_type": "execute_result"
    }
   ],
   "source": [
    "test.dtypes"
   ]
  },
  {
   "cell_type": "code",
   "execution_count": 168,
   "metadata": {},
   "outputs": [],
   "source": [
    "#droped after converting them into required features\n",
    "test.drop('document_create_date',axis=1,inplace=True)"
   ]
  },
  {
   "cell_type": "code",
   "execution_count": 169,
   "metadata": {},
   "outputs": [],
   "source": [
    "test.drop('baseline_create_date',axis=1,inplace=True)"
   ]
  },
  {
   "cell_type": "code",
   "execution_count": 170,
   "metadata": {},
   "outputs": [],
   "source": [
    "test['due_in_date'] = pd.to_datetime(test['due_in_date'], format=\"%Y%m%d\")"
   ]
  },
  {
   "cell_type": "code",
   "execution_count": 171,
   "metadata": {},
   "outputs": [],
   "source": [
    "test['posting_date'] = pd.to_datetime(test['posting_date'])"
   ]
  },
  {
   "cell_type": "markdown",
   "metadata": {},
   "source": [
    "# Encoding the features"
   ]
  },
  {
   "cell_type": "code",
   "execution_count": 172,
   "metadata": {},
   "outputs": [],
   "source": [
    "from sklearn.preprocessing import LabelEncoder"
   ]
  },
  {
   "cell_type": "code",
   "execution_count": 173,
   "metadata": {},
   "outputs": [
    {
     "data": {
      "text/plain": [
       "business_code                 object\n",
       "cust_number                   object\n",
       "name_customer                 object\n",
       "clear_date            datetime64[ns]\n",
       "buisness_year                float64\n",
       "posting_date          datetime64[ns]\n",
       "due_in_date           datetime64[ns]\n",
       "invoice_currency              object\n",
       "posting_id                   float64\n",
       "total_open_amount            float64\n",
       "cust_payment_terms            object\n",
       "invoice_id                   float64\n",
       "isOpen                         int64\n",
       "dtype: object"
      ]
     },
     "execution_count": 173,
     "metadata": {},
     "output_type": "execute_result"
    }
   ],
   "source": [
    "test.dtypes"
   ]
  },
  {
   "cell_type": "code",
   "execution_count": 174,
   "metadata": {},
   "outputs": [],
   "source": [
    "#use label encoder for the business_code\n",
    "business_code_enc = LabelEncoder()\n",
    "business_code_enc.fit(test['business_code'])\n",
    "test['business_code_enc'] = business_code_enc.transform(test['business_code'])"
   ]
  },
  {
   "cell_type": "code",
   "execution_count": 175,
   "metadata": {},
   "outputs": [],
   "source": [
    "test.drop('business_code',axis=1,inplace=True)"
   ]
  },
  {
   "cell_type": "code",
   "execution_count": 176,
   "metadata": {},
   "outputs": [],
   "source": [
    "#use label encoder for the invoice currency\n",
    "invoice_currency_enc = LabelEncoder()\n",
    "invoice_currency_enc.fit(test['invoice_currency'])\n",
    "test['invoice_currency_enc'] = invoice_currency_enc.transform(test['invoice_currency'])"
   ]
  },
  {
   "cell_type": "code",
   "execution_count": 177,
   "metadata": {},
   "outputs": [],
   "source": [
    "test.drop('invoice_currency',axis=1,inplace=True)"
   ]
  },
  {
   "cell_type": "code",
   "execution_count": 178,
   "metadata": {
    "scrolled": true
   },
   "outputs": [
    {
     "data": {
      "text/plain": [
       "cust_number                     object\n",
       "name_customer                   object\n",
       "clear_date              datetime64[ns]\n",
       "buisness_year                  float64\n",
       "posting_date            datetime64[ns]\n",
       "due_in_date             datetime64[ns]\n",
       "posting_id                     float64\n",
       "total_open_amount              float64\n",
       "cust_payment_terms              object\n",
       "invoice_id                     float64\n",
       "isOpen                           int64\n",
       "business_code_enc                int32\n",
       "invoice_currency_enc             int32\n",
       "dtype: object"
      ]
     },
     "execution_count": 178,
     "metadata": {},
     "output_type": "execute_result"
    }
   ],
   "source": [
    "test.dtypes"
   ]
  },
  {
   "cell_type": "code",
   "execution_count": 179,
   "metadata": {},
   "outputs": [],
   "source": [
    "# extract date , day ,month , year of the journey\n",
    "# 0--> Monday ..... 6--> Sunday\n",
    "test['due_in_week']=test['due_in_date'].dt.weekday\n",
    "test['due_in_day']=test['due_in_date'].dt.day\n",
    "test['due_in_month']=test['due_in_date'].dt.month\n",
    "test['due_in_year']=test['due_in_date'].dt.year\n"
   ]
  },
  {
   "cell_type": "code",
   "execution_count": 180,
   "metadata": {},
   "outputs": [
    {
     "data": {
      "text/plain": [
       "cust_number                     object\n",
       "name_customer                   object\n",
       "clear_date              datetime64[ns]\n",
       "buisness_year                  float64\n",
       "posting_date            datetime64[ns]\n",
       "due_in_date             datetime64[ns]\n",
       "posting_id                     float64\n",
       "total_open_amount              float64\n",
       "cust_payment_terms              object\n",
       "invoice_id                     float64\n",
       "isOpen                           int64\n",
       "business_code_enc                int32\n",
       "invoice_currency_enc             int32\n",
       "due_in_week                      int64\n",
       "due_in_day                       int64\n",
       "due_in_month                     int64\n",
       "due_in_year                      int64\n",
       "dtype: object"
      ]
     },
     "execution_count": 180,
     "metadata": {},
     "output_type": "execute_result"
    }
   ],
   "source": [
    "test.dtypes\n"
   ]
  },
  {
   "cell_type": "code",
   "execution_count": 181,
   "metadata": {},
   "outputs": [],
   "source": [
    "# target encoding on cust_number ,name_customer and cust_payment_terms"
   ]
  },
  {
   "cell_type": "code",
   "execution_count": 182,
   "metadata": {},
   "outputs": [],
   "source": [
    "cust_number_mean_t = x_train.merge(y_train,on = x_train.index).groupby(['cust_number'])['Delay'].mean().to_dict()\n",
    "test['cust_number_terms_enc']=test['cust_number'].map(cust_number_mean_t)"
   ]
  },
  {
   "cell_type": "code",
   "execution_count": 183,
   "metadata": {},
   "outputs": [
    {
     "data": {
      "text/plain": [
       "106"
      ]
     },
     "execution_count": 183,
     "metadata": {},
     "output_type": "execute_result"
    }
   ],
   "source": [
    "test['cust_number_terms_enc'].isna().sum()"
   ]
  },
  {
   "cell_type": "code",
   "execution_count": 184,
   "metadata": {},
   "outputs": [],
   "source": [
    "test['cust_number_terms_enc'].fillna(0,inplace=True)"
   ]
  },
  {
   "cell_type": "code",
   "execution_count": 185,
   "metadata": {},
   "outputs": [],
   "source": [
    "name_customer_ts = x_train.merge(y_train,on = x_train.index).groupby(['name_customer'])['Delay'].mean().to_dict()\n",
    "test['name_customer_enc']=test['name_customer'].map(name_customer_ts)"
   ]
  },
  {
   "cell_type": "code",
   "execution_count": 186,
   "metadata": {},
   "outputs": [
    {
     "data": {
      "text/plain": [
       "350"
      ]
     },
     "execution_count": 186,
     "metadata": {},
     "output_type": "execute_result"
    }
   ],
   "source": [
    "test['name_customer_enc'].isna().sum()"
   ]
  },
  {
   "cell_type": "code",
   "execution_count": 187,
   "metadata": {},
   "outputs": [],
   "source": [
    "test['name_customer_enc'].fillna(0,inplace=True)"
   ]
  },
  {
   "cell_type": "code",
   "execution_count": 188,
   "metadata": {},
   "outputs": [],
   "source": [
    "cust_payment_terms_ts = x_train.merge(y_train,on = x_train.index).groupby(['cust_payment_terms'])['Delay'].mean().to_dict()\n",
    "test['cust_payment_terms_enc']=test['cust_payment_terms'].map(cust_payment_terms_ts)"
   ]
  },
  {
   "cell_type": "code",
   "execution_count": 189,
   "metadata": {},
   "outputs": [
    {
     "data": {
      "text/plain": [
       "6"
      ]
     },
     "execution_count": 189,
     "metadata": {},
     "output_type": "execute_result"
    }
   ],
   "source": [
    "test['cust_payment_terms_enc'].isna().sum()"
   ]
  },
  {
   "cell_type": "code",
   "execution_count": 190,
   "metadata": {},
   "outputs": [],
   "source": [
    "test['cust_payment_terms_enc'].fillna(0,inplace=True)"
   ]
  },
  {
   "cell_type": "code",
   "execution_count": 191,
   "metadata": {},
   "outputs": [],
   "source": [
    "test['total_open_amount_log']=np.log(test['total_open_amount'])"
   ]
  },
  {
   "cell_type": "code",
   "execution_count": 192,
   "metadata": {},
   "outputs": [],
   "source": [
    "# converting 'posting_date' required feature\n",
    "test['post_Date_of_week']=test['posting_date'].dt.weekday\n",
    "test['post_Day']=test['posting_date'].dt.day\n",
    "test['post_month']=test['posting_date'].dt.month\n",
    "test['post_year']=test['posting_date'].dt.year"
   ]
  },
  {
   "cell_type": "code",
   "execution_count": 193,
   "metadata": {},
   "outputs": [],
   "source": [
    "# maping feature which are used to train the model\n",
    "n_set=test[imp_features]"
   ]
  },
  {
   "cell_type": "code",
   "execution_count": 194,
   "metadata": {},
   "outputs": [
    {
     "data": {
      "text/plain": [
       "cust_number                       object\n",
       "name_customer                     object\n",
       "clear_date                datetime64[ns]\n",
       "buisness_year                    float64\n",
       "posting_date              datetime64[ns]\n",
       "due_in_date               datetime64[ns]\n",
       "posting_id                       float64\n",
       "total_open_amount                float64\n",
       "cust_payment_terms                object\n",
       "invoice_id                       float64\n",
       "isOpen                             int64\n",
       "business_code_enc                  int32\n",
       "invoice_currency_enc               int32\n",
       "due_in_week                        int64\n",
       "due_in_day                         int64\n",
       "due_in_month                       int64\n",
       "due_in_year                        int64\n",
       "cust_number_terms_enc            float64\n",
       "name_customer_enc                float64\n",
       "cust_payment_terms_enc           float64\n",
       "total_open_amount_log            float64\n",
       "post_Date_of_week                  int64\n",
       "post_Day                           int64\n",
       "post_month                         int64\n",
       "post_year                          int64\n",
       "dtype: object"
      ]
     },
     "execution_count": 194,
     "metadata": {},
     "output_type": "execute_result"
    }
   ],
   "source": [
    "test.dtypes"
   ]
  },
  {
   "cell_type": "code",
   "execution_count": 195,
   "metadata": {},
   "outputs": [],
   "source": [
    "test['posting_date']= pd.to_datetime(test['posting_date'])"
   ]
  },
  {
   "cell_type": "code",
   "execution_count": 196,
   "metadata": {},
   "outputs": [],
   "source": [
    "# predicting the delay value on test data set using the best model fited from above modelling\n",
    "test['Delay']=GBR_model.predict(n_set)"
   ]
  },
  {
   "cell_type": "code",
   "execution_count": 197,
   "metadata": {},
   "outputs": [],
   "source": [
    "# Rounding the delay column to get perfect result\n",
    "test['Delay'] = test['Delay'].round(0)"
   ]
  },
  {
   "cell_type": "code",
   "execution_count": 198,
   "metadata": {},
   "outputs": [],
   "source": [
    "# Adding due date to delay to get clear_date\n",
    "test['clear_date'] = test['due_in_date']+pd.to_timedelta(test['Delay'],unit='D')"
   ]
  },
  {
   "cell_type": "code",
   "execution_count": 199,
   "metadata": {},
   "outputs": [
    {
     "data": {
      "text/html": [
       "<div>\n",
       "<style scoped>\n",
       "    .dataframe tbody tr th:only-of-type {\n",
       "        vertical-align: middle;\n",
       "    }\n",
       "\n",
       "    .dataframe tbody tr th {\n",
       "        vertical-align: top;\n",
       "    }\n",
       "\n",
       "    .dataframe thead th {\n",
       "        text-align: right;\n",
       "    }\n",
       "</style>\n",
       "<table border=\"1\" class=\"dataframe\">\n",
       "  <thead>\n",
       "    <tr style=\"text-align: right;\">\n",
       "      <th></th>\n",
       "      <th>cust_number</th>\n",
       "      <th>name_customer</th>\n",
       "      <th>clear_date</th>\n",
       "      <th>buisness_year</th>\n",
       "      <th>posting_date</th>\n",
       "      <th>due_in_date</th>\n",
       "      <th>posting_id</th>\n",
       "      <th>total_open_amount</th>\n",
       "      <th>cust_payment_terms</th>\n",
       "      <th>invoice_id</th>\n",
       "      <th>...</th>\n",
       "      <th>due_in_year</th>\n",
       "      <th>cust_number_terms_enc</th>\n",
       "      <th>name_customer_enc</th>\n",
       "      <th>cust_payment_terms_enc</th>\n",
       "      <th>total_open_amount_log</th>\n",
       "      <th>post_Date_of_week</th>\n",
       "      <th>post_Day</th>\n",
       "      <th>post_month</th>\n",
       "      <th>post_year</th>\n",
       "      <th>Delay</th>\n",
       "    </tr>\n",
       "  </thead>\n",
       "  <tbody>\n",
       "    <tr>\n",
       "      <th>0</th>\n",
       "      <td>0200769623</td>\n",
       "      <td>WAL-MAR corp</td>\n",
       "      <td>2020-03-11</td>\n",
       "      <td>2020.0</td>\n",
       "      <td>2020-02-27</td>\n",
       "      <td>2020-03-13</td>\n",
       "      <td>1.0</td>\n",
       "      <td>7925.6800</td>\n",
       "      <td>NAH4</td>\n",
       "      <td>1.930576e+09</td>\n",
       "      <td>...</td>\n",
       "      <td>2020</td>\n",
       "      <td>-1.946104</td>\n",
       "      <td>-1.866071</td>\n",
       "      <td>-1.655828</td>\n",
       "      <td>8.977863</td>\n",
       "      <td>3</td>\n",
       "      <td>27</td>\n",
       "      <td>2</td>\n",
       "      <td>2020</td>\n",
       "      <td>-2.0</td>\n",
       "    </tr>\n",
       "    <tr>\n",
       "      <th>1</th>\n",
       "      <td>0200936373</td>\n",
       "      <td>SUPE associates</td>\n",
       "      <td>2020-03-16</td>\n",
       "      <td>2020.0</td>\n",
       "      <td>2020-02-27</td>\n",
       "      <td>2020-03-13</td>\n",
       "      <td>1.0</td>\n",
       "      <td>50961.4300</td>\n",
       "      <td>NAA8</td>\n",
       "      <td>1.930568e+09</td>\n",
       "      <td>...</td>\n",
       "      <td>2020</td>\n",
       "      <td>1.184332</td>\n",
       "      <td>2.800000</td>\n",
       "      <td>1.430860</td>\n",
       "      <td>10.838824</td>\n",
       "      <td>3</td>\n",
       "      <td>27</td>\n",
       "      <td>2</td>\n",
       "      <td>2020</td>\n",
       "      <td>3.0</td>\n",
       "    </tr>\n",
       "    <tr>\n",
       "      <th>2</th>\n",
       "      <td>0200713007</td>\n",
       "      <td>KEEFE  foundation</td>\n",
       "      <td>2020-03-11</td>\n",
       "      <td>2020.0</td>\n",
       "      <td>2020-02-27</td>\n",
       "      <td>2020-03-13</td>\n",
       "      <td>1.0</td>\n",
       "      <td>29988.0000</td>\n",
       "      <td>NAA8</td>\n",
       "      <td>1.930578e+09</td>\n",
       "      <td>...</td>\n",
       "      <td>2020</td>\n",
       "      <td>-3.100000</td>\n",
       "      <td>-4.000000</td>\n",
       "      <td>1.430860</td>\n",
       "      <td>10.308553</td>\n",
       "      <td>3</td>\n",
       "      <td>27</td>\n",
       "      <td>2</td>\n",
       "      <td>2020</td>\n",
       "      <td>-2.0</td>\n",
       "    </tr>\n",
       "    <tr>\n",
       "      <th>3</th>\n",
       "      <td>0200769623</td>\n",
       "      <td>WAL-MAR us</td>\n",
       "      <td>2020-03-11</td>\n",
       "      <td>2020.0</td>\n",
       "      <td>2020-02-27</td>\n",
       "      <td>2020-03-13</td>\n",
       "      <td>1.0</td>\n",
       "      <td>8766.3800</td>\n",
       "      <td>NAH4</td>\n",
       "      <td>1.930574e+09</td>\n",
       "      <td>...</td>\n",
       "      <td>2020</td>\n",
       "      <td>-1.946104</td>\n",
       "      <td>-2.483309</td>\n",
       "      <td>-1.655828</td>\n",
       "      <td>9.078679</td>\n",
       "      <td>3</td>\n",
       "      <td>27</td>\n",
       "      <td>2</td>\n",
       "      <td>2020</td>\n",
       "      <td>-2.0</td>\n",
       "    </tr>\n",
       "    <tr>\n",
       "      <th>4</th>\n",
       "      <td>0200769623</td>\n",
       "      <td>WAL-MAR</td>\n",
       "      <td>2020-03-11</td>\n",
       "      <td>2020.0</td>\n",
       "      <td>2020-02-27</td>\n",
       "      <td>2020-03-13</td>\n",
       "      <td>1.0</td>\n",
       "      <td>42357.1200</td>\n",
       "      <td>NAH4</td>\n",
       "      <td>1.930567e+09</td>\n",
       "      <td>...</td>\n",
       "      <td>2020</td>\n",
       "      <td>-1.946104</td>\n",
       "      <td>-1.883929</td>\n",
       "      <td>-1.655828</td>\n",
       "      <td>10.653892</td>\n",
       "      <td>3</td>\n",
       "      <td>27</td>\n",
       "      <td>2</td>\n",
       "      <td>2020</td>\n",
       "      <td>-2.0</td>\n",
       "    </tr>\n",
       "    <tr>\n",
       "      <th>...</th>\n",
       "      <td>...</td>\n",
       "      <td>...</td>\n",
       "      <td>...</td>\n",
       "      <td>...</td>\n",
       "      <td>...</td>\n",
       "      <td>...</td>\n",
       "      <td>...</td>\n",
       "      <td>...</td>\n",
       "      <td>...</td>\n",
       "      <td>...</td>\n",
       "      <td>...</td>\n",
       "      <td>...</td>\n",
       "      <td>...</td>\n",
       "      <td>...</td>\n",
       "      <td>...</td>\n",
       "      <td>...</td>\n",
       "      <td>...</td>\n",
       "      <td>...</td>\n",
       "      <td>...</td>\n",
       "      <td>...</td>\n",
       "      <td>...</td>\n",
       "    </tr>\n",
       "    <tr>\n",
       "      <th>9678</th>\n",
       "      <td>200076137</td>\n",
       "      <td>OLLIE us</td>\n",
       "      <td>2020-05-28</td>\n",
       "      <td>2020.0</td>\n",
       "      <td>2020-05-13</td>\n",
       "      <td>2020-05-28</td>\n",
       "      <td>1.0</td>\n",
       "      <td>1267.2000</td>\n",
       "      <td>NAA8</td>\n",
       "      <td>1.930861e+09</td>\n",
       "      <td>...</td>\n",
       "      <td>2020</td>\n",
       "      <td>6.333333</td>\n",
       "      <td>-1.500000</td>\n",
       "      <td>1.430860</td>\n",
       "      <td>7.144565</td>\n",
       "      <td>2</td>\n",
       "      <td>13</td>\n",
       "      <td>5</td>\n",
       "      <td>2020</td>\n",
       "      <td>-0.0</td>\n",
       "    </tr>\n",
       "    <tr>\n",
       "      <th>9679</th>\n",
       "      <td>0140104392</td>\n",
       "      <td>FLANAG us</td>\n",
       "      <td>2020-05-29</td>\n",
       "      <td>2020.0</td>\n",
       "      <td>2020-05-14</td>\n",
       "      <td>2020-05-24</td>\n",
       "      <td>1.0</td>\n",
       "      <td>3038.1723</td>\n",
       "      <td>CA10</td>\n",
       "      <td>2.960635e+09</td>\n",
       "      <td>...</td>\n",
       "      <td>2020</td>\n",
       "      <td>7.375000</td>\n",
       "      <td>6.000000</td>\n",
       "      <td>6.444495</td>\n",
       "      <td>8.019011</td>\n",
       "      <td>3</td>\n",
       "      <td>14</td>\n",
       "      <td>5</td>\n",
       "      <td>2020</td>\n",
       "      <td>5.0</td>\n",
       "    </tr>\n",
       "    <tr>\n",
       "      <th>9680</th>\n",
       "      <td>0200915438</td>\n",
       "      <td>GROC associates</td>\n",
       "      <td>2020-06-02</td>\n",
       "      <td>2020.0</td>\n",
       "      <td>2020-05-15</td>\n",
       "      <td>2020-05-30</td>\n",
       "      <td>1.0</td>\n",
       "      <td>2625.0000</td>\n",
       "      <td>NAA8</td>\n",
       "      <td>1.930876e+09</td>\n",
       "      <td>...</td>\n",
       "      <td>2020</td>\n",
       "      <td>1.025000</td>\n",
       "      <td>3.285714</td>\n",
       "      <td>1.430860</td>\n",
       "      <td>7.872836</td>\n",
       "      <td>4</td>\n",
       "      <td>15</td>\n",
       "      <td>5</td>\n",
       "      <td>2020</td>\n",
       "      <td>3.0</td>\n",
       "    </tr>\n",
       "    <tr>\n",
       "      <th>9681</th>\n",
       "      <td>200875680</td>\n",
       "      <td>MINERS</td>\n",
       "      <td>2020-06-02</td>\n",
       "      <td>2020.0</td>\n",
       "      <td>2020-05-18</td>\n",
       "      <td>2020-06-02</td>\n",
       "      <td>1.0</td>\n",
       "      <td>119248.8300</td>\n",
       "      <td>NAA8</td>\n",
       "      <td>1.930911e+09</td>\n",
       "      <td>...</td>\n",
       "      <td>2020</td>\n",
       "      <td>0.000000</td>\n",
       "      <td>0.000000</td>\n",
       "      <td>1.430860</td>\n",
       "      <td>11.688968</td>\n",
       "      <td>0</td>\n",
       "      <td>18</td>\n",
       "      <td>5</td>\n",
       "      <td>2020</td>\n",
       "      <td>0.0</td>\n",
       "    </tr>\n",
       "    <tr>\n",
       "      <th>9682</th>\n",
       "      <td>100026809</td>\n",
       "      <td>PRES corporation</td>\n",
       "      <td>2020-05-24</td>\n",
       "      <td>2020.0</td>\n",
       "      <td>2020-05-19</td>\n",
       "      <td>2020-05-29</td>\n",
       "      <td>1.0</td>\n",
       "      <td>402.5000</td>\n",
       "      <td>NA10</td>\n",
       "      <td>1.930916e+09</td>\n",
       "      <td>...</td>\n",
       "      <td>2020</td>\n",
       "      <td>0.000000</td>\n",
       "      <td>-10.000000</td>\n",
       "      <td>2.664260</td>\n",
       "      <td>5.997695</td>\n",
       "      <td>1</td>\n",
       "      <td>19</td>\n",
       "      <td>5</td>\n",
       "      <td>2020</td>\n",
       "      <td>-5.0</td>\n",
       "    </tr>\n",
       "  </tbody>\n",
       "</table>\n",
       "<p>9683 rows × 26 columns</p>\n",
       "</div>"
      ],
      "text/plain": [
       "     cust_number      name_customer clear_date  buisness_year posting_date  \\\n",
       "0     0200769623       WAL-MAR corp 2020-03-11         2020.0   2020-02-27   \n",
       "1     0200936373    SUPE associates 2020-03-16         2020.0   2020-02-27   \n",
       "2     0200713007  KEEFE  foundation 2020-03-11         2020.0   2020-02-27   \n",
       "3     0200769623         WAL-MAR us 2020-03-11         2020.0   2020-02-27   \n",
       "4     0200769623           WAL-MAR  2020-03-11         2020.0   2020-02-27   \n",
       "...          ...                ...        ...            ...          ...   \n",
       "9678   200076137           OLLIE us 2020-05-28         2020.0   2020-05-13   \n",
       "9679  0140104392          FLANAG us 2020-05-29         2020.0   2020-05-14   \n",
       "9680  0200915438    GROC associates 2020-06-02         2020.0   2020-05-15   \n",
       "9681   200875680           MINERS   2020-06-02         2020.0   2020-05-18   \n",
       "9682   100026809   PRES corporation 2020-05-24         2020.0   2020-05-19   \n",
       "\n",
       "     due_in_date  posting_id  total_open_amount cust_payment_terms  \\\n",
       "0     2020-03-13         1.0          7925.6800               NAH4   \n",
       "1     2020-03-13         1.0         50961.4300               NAA8   \n",
       "2     2020-03-13         1.0         29988.0000               NAA8   \n",
       "3     2020-03-13         1.0          8766.3800               NAH4   \n",
       "4     2020-03-13         1.0         42357.1200               NAH4   \n",
       "...          ...         ...                ...                ...   \n",
       "9678  2020-05-28         1.0          1267.2000               NAA8   \n",
       "9679  2020-05-24         1.0          3038.1723               CA10   \n",
       "9680  2020-05-30         1.0          2625.0000               NAA8   \n",
       "9681  2020-06-02         1.0        119248.8300               NAA8   \n",
       "9682  2020-05-29         1.0           402.5000               NA10   \n",
       "\n",
       "        invoice_id  ...  due_in_year  cust_number_terms_enc  \\\n",
       "0     1.930576e+09  ...         2020              -1.946104   \n",
       "1     1.930568e+09  ...         2020               1.184332   \n",
       "2     1.930578e+09  ...         2020              -3.100000   \n",
       "3     1.930574e+09  ...         2020              -1.946104   \n",
       "4     1.930567e+09  ...         2020              -1.946104   \n",
       "...            ...  ...          ...                    ...   \n",
       "9678  1.930861e+09  ...         2020               6.333333   \n",
       "9679  2.960635e+09  ...         2020               7.375000   \n",
       "9680  1.930876e+09  ...         2020               1.025000   \n",
       "9681  1.930911e+09  ...         2020               0.000000   \n",
       "9682  1.930916e+09  ...         2020               0.000000   \n",
       "\n",
       "      name_customer_enc  cust_payment_terms_enc  total_open_amount_log  \\\n",
       "0             -1.866071               -1.655828               8.977863   \n",
       "1              2.800000                1.430860              10.838824   \n",
       "2             -4.000000                1.430860              10.308553   \n",
       "3             -2.483309               -1.655828               9.078679   \n",
       "4             -1.883929               -1.655828              10.653892   \n",
       "...                 ...                     ...                    ...   \n",
       "9678          -1.500000                1.430860               7.144565   \n",
       "9679           6.000000                6.444495               8.019011   \n",
       "9680           3.285714                1.430860               7.872836   \n",
       "9681           0.000000                1.430860              11.688968   \n",
       "9682         -10.000000                2.664260               5.997695   \n",
       "\n",
       "      post_Date_of_week  post_Day  post_month  post_year  Delay  \n",
       "0                     3        27           2       2020   -2.0  \n",
       "1                     3        27           2       2020    3.0  \n",
       "2                     3        27           2       2020   -2.0  \n",
       "3                     3        27           2       2020   -2.0  \n",
       "4                     3        27           2       2020   -2.0  \n",
       "...                 ...       ...         ...        ...    ...  \n",
       "9678                  2        13           5       2020   -0.0  \n",
       "9679                  3        14           5       2020    5.0  \n",
       "9680                  4        15           5       2020    3.0  \n",
       "9681                  0        18           5       2020    0.0  \n",
       "9682                  1        19           5       2020   -5.0  \n",
       "\n",
       "[9683 rows x 26 columns]"
      ]
     },
     "execution_count": 199,
     "metadata": {},
     "output_type": "execute_result"
    }
   ],
   "source": [
    "test"
   ]
  },
  {
   "cell_type": "code",
   "execution_count": 200,
   "metadata": {},
   "outputs": [
    {
     "data": {
      "text/plain": [
       "-2.0     2784\n",
       " 1.0     2410\n",
       " 0.0      896\n",
       " 2.0      818\n",
       "-1.0      744\n",
       " 3.0      541\n",
       "-6.0      295\n",
       " 5.0      164\n",
       " 4.0      122\n",
       " 9.0       99\n",
       "-8.0       98\n",
       "-3.0       75\n",
       " 7.0       69\n",
       "-7.0       65\n",
       "-11.0      63\n",
       " 10.0      59\n",
       " 6.0       50\n",
       "-5.0       47\n",
       "-9.0       38\n",
       "-4.0       34\n",
       " 8.0       32\n",
       " 11.0      26\n",
       "-12.0      21\n",
       " 40.0      18\n",
       " 41.0      17\n",
       "-10.0      11\n",
       " 12.0      11\n",
       " 42.0       6\n",
       "-13.0       6\n",
       " 13.0       6\n",
       "-15.0       6\n",
       "-14.0       6\n",
       " 17.0       4\n",
       "-31.0       3\n",
       "-16.0       3\n",
       "-35.0       3\n",
       " 16.0       3\n",
       " 56.0       2\n",
       "-32.0       2\n",
       " 14.0       2\n",
       " 21.0       2\n",
       " 58.0       2\n",
       " 36.0       2\n",
       " 26.0       2\n",
       " 44.0       2\n",
       " 34.0       2\n",
       " 19.0       1\n",
       " 43.0       1\n",
       " 25.0       1\n",
       "-40.0       1\n",
       " 98.0       1\n",
       " 15.0       1\n",
       "-22.0       1\n",
       " 20.0       1\n",
       " 53.0       1\n",
       " 27.0       1\n",
       " 92.0       1\n",
       " 46.0       1\n",
       "Name: Delay, dtype: int64"
      ]
     },
     "execution_count": 200,
     "metadata": {},
     "output_type": "execute_result"
    }
   ],
   "source": [
    "test['Delay'].value_counts()"
   ]
  },
  {
   "cell_type": "code",
   "execution_count": 201,
   "metadata": {},
   "outputs": [],
   "source": [
    "# bucket function for bucket column\n",
    "def bucketSize(z):\n",
    "    if z<=0:\n",
    "        return 1\n",
    "    if z>0 and z<=15:\n",
    "        return 2\n",
    "    if z>15 and z<=30:\n",
    "        return 3\n",
    "    if z>30 and z<=45:\n",
    "        return 4\n",
    "    if z>45 and z<=60:\n",
    "        return 5"
   ]
  },
  {
   "cell_type": "code",
   "execution_count": 202,
   "metadata": {},
   "outputs": [],
   "source": [
    "# calling the bucket function \n",
    "test['Bucket'] = test.apply(lambda row : bucketSize(row['Delay']), axis = 1)"
   ]
  },
  {
   "cell_type": "code",
   "execution_count": 203,
   "metadata": {},
   "outputs": [
    {
     "data": {
      "text/html": [
       "<div>\n",
       "<style scoped>\n",
       "    .dataframe tbody tr th:only-of-type {\n",
       "        vertical-align: middle;\n",
       "    }\n",
       "\n",
       "    .dataframe tbody tr th {\n",
       "        vertical-align: top;\n",
       "    }\n",
       "\n",
       "    .dataframe thead th {\n",
       "        text-align: right;\n",
       "    }\n",
       "</style>\n",
       "<table border=\"1\" class=\"dataframe\">\n",
       "  <thead>\n",
       "    <tr style=\"text-align: right;\">\n",
       "      <th></th>\n",
       "      <th>cust_number</th>\n",
       "      <th>name_customer</th>\n",
       "      <th>clear_date</th>\n",
       "      <th>buisness_year</th>\n",
       "      <th>posting_date</th>\n",
       "      <th>due_in_date</th>\n",
       "      <th>posting_id</th>\n",
       "      <th>total_open_amount</th>\n",
       "      <th>cust_payment_terms</th>\n",
       "      <th>invoice_id</th>\n",
       "      <th>...</th>\n",
       "      <th>cust_number_terms_enc</th>\n",
       "      <th>name_customer_enc</th>\n",
       "      <th>cust_payment_terms_enc</th>\n",
       "      <th>total_open_amount_log</th>\n",
       "      <th>post_Date_of_week</th>\n",
       "      <th>post_Day</th>\n",
       "      <th>post_month</th>\n",
       "      <th>post_year</th>\n",
       "      <th>Delay</th>\n",
       "      <th>Bucket</th>\n",
       "    </tr>\n",
       "  </thead>\n",
       "  <tbody>\n",
       "    <tr>\n",
       "      <th>0</th>\n",
       "      <td>0200769623</td>\n",
       "      <td>WAL-MAR corp</td>\n",
       "      <td>2020-03-11</td>\n",
       "      <td>2020.0</td>\n",
       "      <td>2020-02-27</td>\n",
       "      <td>2020-03-13</td>\n",
       "      <td>1.0</td>\n",
       "      <td>7925.6800</td>\n",
       "      <td>NAH4</td>\n",
       "      <td>1.930576e+09</td>\n",
       "      <td>...</td>\n",
       "      <td>-1.946104</td>\n",
       "      <td>-1.866071</td>\n",
       "      <td>-1.655828</td>\n",
       "      <td>8.977863</td>\n",
       "      <td>3</td>\n",
       "      <td>27</td>\n",
       "      <td>2</td>\n",
       "      <td>2020</td>\n",
       "      <td>-2.0</td>\n",
       "      <td>1.0</td>\n",
       "    </tr>\n",
       "    <tr>\n",
       "      <th>1</th>\n",
       "      <td>0200936373</td>\n",
       "      <td>SUPE associates</td>\n",
       "      <td>2020-03-16</td>\n",
       "      <td>2020.0</td>\n",
       "      <td>2020-02-27</td>\n",
       "      <td>2020-03-13</td>\n",
       "      <td>1.0</td>\n",
       "      <td>50961.4300</td>\n",
       "      <td>NAA8</td>\n",
       "      <td>1.930568e+09</td>\n",
       "      <td>...</td>\n",
       "      <td>1.184332</td>\n",
       "      <td>2.800000</td>\n",
       "      <td>1.430860</td>\n",
       "      <td>10.838824</td>\n",
       "      <td>3</td>\n",
       "      <td>27</td>\n",
       "      <td>2</td>\n",
       "      <td>2020</td>\n",
       "      <td>3.0</td>\n",
       "      <td>2.0</td>\n",
       "    </tr>\n",
       "    <tr>\n",
       "      <th>2</th>\n",
       "      <td>0200713007</td>\n",
       "      <td>KEEFE  foundation</td>\n",
       "      <td>2020-03-11</td>\n",
       "      <td>2020.0</td>\n",
       "      <td>2020-02-27</td>\n",
       "      <td>2020-03-13</td>\n",
       "      <td>1.0</td>\n",
       "      <td>29988.0000</td>\n",
       "      <td>NAA8</td>\n",
       "      <td>1.930578e+09</td>\n",
       "      <td>...</td>\n",
       "      <td>-3.100000</td>\n",
       "      <td>-4.000000</td>\n",
       "      <td>1.430860</td>\n",
       "      <td>10.308553</td>\n",
       "      <td>3</td>\n",
       "      <td>27</td>\n",
       "      <td>2</td>\n",
       "      <td>2020</td>\n",
       "      <td>-2.0</td>\n",
       "      <td>1.0</td>\n",
       "    </tr>\n",
       "    <tr>\n",
       "      <th>3</th>\n",
       "      <td>0200769623</td>\n",
       "      <td>WAL-MAR us</td>\n",
       "      <td>2020-03-11</td>\n",
       "      <td>2020.0</td>\n",
       "      <td>2020-02-27</td>\n",
       "      <td>2020-03-13</td>\n",
       "      <td>1.0</td>\n",
       "      <td>8766.3800</td>\n",
       "      <td>NAH4</td>\n",
       "      <td>1.930574e+09</td>\n",
       "      <td>...</td>\n",
       "      <td>-1.946104</td>\n",
       "      <td>-2.483309</td>\n",
       "      <td>-1.655828</td>\n",
       "      <td>9.078679</td>\n",
       "      <td>3</td>\n",
       "      <td>27</td>\n",
       "      <td>2</td>\n",
       "      <td>2020</td>\n",
       "      <td>-2.0</td>\n",
       "      <td>1.0</td>\n",
       "    </tr>\n",
       "    <tr>\n",
       "      <th>4</th>\n",
       "      <td>0200769623</td>\n",
       "      <td>WAL-MAR</td>\n",
       "      <td>2020-03-11</td>\n",
       "      <td>2020.0</td>\n",
       "      <td>2020-02-27</td>\n",
       "      <td>2020-03-13</td>\n",
       "      <td>1.0</td>\n",
       "      <td>42357.1200</td>\n",
       "      <td>NAH4</td>\n",
       "      <td>1.930567e+09</td>\n",
       "      <td>...</td>\n",
       "      <td>-1.946104</td>\n",
       "      <td>-1.883929</td>\n",
       "      <td>-1.655828</td>\n",
       "      <td>10.653892</td>\n",
       "      <td>3</td>\n",
       "      <td>27</td>\n",
       "      <td>2</td>\n",
       "      <td>2020</td>\n",
       "      <td>-2.0</td>\n",
       "      <td>1.0</td>\n",
       "    </tr>\n",
       "    <tr>\n",
       "      <th>...</th>\n",
       "      <td>...</td>\n",
       "      <td>...</td>\n",
       "      <td>...</td>\n",
       "      <td>...</td>\n",
       "      <td>...</td>\n",
       "      <td>...</td>\n",
       "      <td>...</td>\n",
       "      <td>...</td>\n",
       "      <td>...</td>\n",
       "      <td>...</td>\n",
       "      <td>...</td>\n",
       "      <td>...</td>\n",
       "      <td>...</td>\n",
       "      <td>...</td>\n",
       "      <td>...</td>\n",
       "      <td>...</td>\n",
       "      <td>...</td>\n",
       "      <td>...</td>\n",
       "      <td>...</td>\n",
       "      <td>...</td>\n",
       "      <td>...</td>\n",
       "    </tr>\n",
       "    <tr>\n",
       "      <th>9678</th>\n",
       "      <td>200076137</td>\n",
       "      <td>OLLIE us</td>\n",
       "      <td>2020-05-28</td>\n",
       "      <td>2020.0</td>\n",
       "      <td>2020-05-13</td>\n",
       "      <td>2020-05-28</td>\n",
       "      <td>1.0</td>\n",
       "      <td>1267.2000</td>\n",
       "      <td>NAA8</td>\n",
       "      <td>1.930861e+09</td>\n",
       "      <td>...</td>\n",
       "      <td>6.333333</td>\n",
       "      <td>-1.500000</td>\n",
       "      <td>1.430860</td>\n",
       "      <td>7.144565</td>\n",
       "      <td>2</td>\n",
       "      <td>13</td>\n",
       "      <td>5</td>\n",
       "      <td>2020</td>\n",
       "      <td>-0.0</td>\n",
       "      <td>1.0</td>\n",
       "    </tr>\n",
       "    <tr>\n",
       "      <th>9679</th>\n",
       "      <td>0140104392</td>\n",
       "      <td>FLANAG us</td>\n",
       "      <td>2020-05-29</td>\n",
       "      <td>2020.0</td>\n",
       "      <td>2020-05-14</td>\n",
       "      <td>2020-05-24</td>\n",
       "      <td>1.0</td>\n",
       "      <td>3038.1723</td>\n",
       "      <td>CA10</td>\n",
       "      <td>2.960635e+09</td>\n",
       "      <td>...</td>\n",
       "      <td>7.375000</td>\n",
       "      <td>6.000000</td>\n",
       "      <td>6.444495</td>\n",
       "      <td>8.019011</td>\n",
       "      <td>3</td>\n",
       "      <td>14</td>\n",
       "      <td>5</td>\n",
       "      <td>2020</td>\n",
       "      <td>5.0</td>\n",
       "      <td>2.0</td>\n",
       "    </tr>\n",
       "    <tr>\n",
       "      <th>9680</th>\n",
       "      <td>0200915438</td>\n",
       "      <td>GROC associates</td>\n",
       "      <td>2020-06-02</td>\n",
       "      <td>2020.0</td>\n",
       "      <td>2020-05-15</td>\n",
       "      <td>2020-05-30</td>\n",
       "      <td>1.0</td>\n",
       "      <td>2625.0000</td>\n",
       "      <td>NAA8</td>\n",
       "      <td>1.930876e+09</td>\n",
       "      <td>...</td>\n",
       "      <td>1.025000</td>\n",
       "      <td>3.285714</td>\n",
       "      <td>1.430860</td>\n",
       "      <td>7.872836</td>\n",
       "      <td>4</td>\n",
       "      <td>15</td>\n",
       "      <td>5</td>\n",
       "      <td>2020</td>\n",
       "      <td>3.0</td>\n",
       "      <td>2.0</td>\n",
       "    </tr>\n",
       "    <tr>\n",
       "      <th>9681</th>\n",
       "      <td>200875680</td>\n",
       "      <td>MINERS</td>\n",
       "      <td>2020-06-02</td>\n",
       "      <td>2020.0</td>\n",
       "      <td>2020-05-18</td>\n",
       "      <td>2020-06-02</td>\n",
       "      <td>1.0</td>\n",
       "      <td>119248.8300</td>\n",
       "      <td>NAA8</td>\n",
       "      <td>1.930911e+09</td>\n",
       "      <td>...</td>\n",
       "      <td>0.000000</td>\n",
       "      <td>0.000000</td>\n",
       "      <td>1.430860</td>\n",
       "      <td>11.688968</td>\n",
       "      <td>0</td>\n",
       "      <td>18</td>\n",
       "      <td>5</td>\n",
       "      <td>2020</td>\n",
       "      <td>0.0</td>\n",
       "      <td>1.0</td>\n",
       "    </tr>\n",
       "    <tr>\n",
       "      <th>9682</th>\n",
       "      <td>100026809</td>\n",
       "      <td>PRES corporation</td>\n",
       "      <td>2020-05-24</td>\n",
       "      <td>2020.0</td>\n",
       "      <td>2020-05-19</td>\n",
       "      <td>2020-05-29</td>\n",
       "      <td>1.0</td>\n",
       "      <td>402.5000</td>\n",
       "      <td>NA10</td>\n",
       "      <td>1.930916e+09</td>\n",
       "      <td>...</td>\n",
       "      <td>0.000000</td>\n",
       "      <td>-10.000000</td>\n",
       "      <td>2.664260</td>\n",
       "      <td>5.997695</td>\n",
       "      <td>1</td>\n",
       "      <td>19</td>\n",
       "      <td>5</td>\n",
       "      <td>2020</td>\n",
       "      <td>-5.0</td>\n",
       "      <td>1.0</td>\n",
       "    </tr>\n",
       "  </tbody>\n",
       "</table>\n",
       "<p>9683 rows × 27 columns</p>\n",
       "</div>"
      ],
      "text/plain": [
       "     cust_number      name_customer clear_date  buisness_year posting_date  \\\n",
       "0     0200769623       WAL-MAR corp 2020-03-11         2020.0   2020-02-27   \n",
       "1     0200936373    SUPE associates 2020-03-16         2020.0   2020-02-27   \n",
       "2     0200713007  KEEFE  foundation 2020-03-11         2020.0   2020-02-27   \n",
       "3     0200769623         WAL-MAR us 2020-03-11         2020.0   2020-02-27   \n",
       "4     0200769623           WAL-MAR  2020-03-11         2020.0   2020-02-27   \n",
       "...          ...                ...        ...            ...          ...   \n",
       "9678   200076137           OLLIE us 2020-05-28         2020.0   2020-05-13   \n",
       "9679  0140104392          FLANAG us 2020-05-29         2020.0   2020-05-14   \n",
       "9680  0200915438    GROC associates 2020-06-02         2020.0   2020-05-15   \n",
       "9681   200875680           MINERS   2020-06-02         2020.0   2020-05-18   \n",
       "9682   100026809   PRES corporation 2020-05-24         2020.0   2020-05-19   \n",
       "\n",
       "     due_in_date  posting_id  total_open_amount cust_payment_terms  \\\n",
       "0     2020-03-13         1.0          7925.6800               NAH4   \n",
       "1     2020-03-13         1.0         50961.4300               NAA8   \n",
       "2     2020-03-13         1.0         29988.0000               NAA8   \n",
       "3     2020-03-13         1.0          8766.3800               NAH4   \n",
       "4     2020-03-13         1.0         42357.1200               NAH4   \n",
       "...          ...         ...                ...                ...   \n",
       "9678  2020-05-28         1.0          1267.2000               NAA8   \n",
       "9679  2020-05-24         1.0          3038.1723               CA10   \n",
       "9680  2020-05-30         1.0          2625.0000               NAA8   \n",
       "9681  2020-06-02         1.0        119248.8300               NAA8   \n",
       "9682  2020-05-29         1.0           402.5000               NA10   \n",
       "\n",
       "        invoice_id  ...  cust_number_terms_enc  name_customer_enc  \\\n",
       "0     1.930576e+09  ...              -1.946104          -1.866071   \n",
       "1     1.930568e+09  ...               1.184332           2.800000   \n",
       "2     1.930578e+09  ...              -3.100000          -4.000000   \n",
       "3     1.930574e+09  ...              -1.946104          -2.483309   \n",
       "4     1.930567e+09  ...              -1.946104          -1.883929   \n",
       "...            ...  ...                    ...                ...   \n",
       "9678  1.930861e+09  ...               6.333333          -1.500000   \n",
       "9679  2.960635e+09  ...               7.375000           6.000000   \n",
       "9680  1.930876e+09  ...               1.025000           3.285714   \n",
       "9681  1.930911e+09  ...               0.000000           0.000000   \n",
       "9682  1.930916e+09  ...               0.000000         -10.000000   \n",
       "\n",
       "      cust_payment_terms_enc  total_open_amount_log  post_Date_of_week  \\\n",
       "0                  -1.655828               8.977863                  3   \n",
       "1                   1.430860              10.838824                  3   \n",
       "2                   1.430860              10.308553                  3   \n",
       "3                  -1.655828               9.078679                  3   \n",
       "4                  -1.655828              10.653892                  3   \n",
       "...                      ...                    ...                ...   \n",
       "9678                1.430860               7.144565                  2   \n",
       "9679                6.444495               8.019011                  3   \n",
       "9680                1.430860               7.872836                  4   \n",
       "9681                1.430860              11.688968                  0   \n",
       "9682                2.664260               5.997695                  1   \n",
       "\n",
       "      post_Day  post_month  post_year  Delay  Bucket  \n",
       "0           27           2       2020   -2.0     1.0  \n",
       "1           27           2       2020    3.0     2.0  \n",
       "2           27           2       2020   -2.0     1.0  \n",
       "3           27           2       2020   -2.0     1.0  \n",
       "4           27           2       2020   -2.0     1.0  \n",
       "...        ...         ...        ...    ...     ...  \n",
       "9678        13           5       2020   -0.0     1.0  \n",
       "9679        14           5       2020    5.0     2.0  \n",
       "9680        15           5       2020    3.0     2.0  \n",
       "9681        18           5       2020    0.0     1.0  \n",
       "9682        19           5       2020   -5.0     1.0  \n",
       "\n",
       "[9683 rows x 27 columns]"
      ]
     },
     "execution_count": 203,
     "metadata": {},
     "output_type": "execute_result"
    }
   ],
   "source": [
    "test"
   ]
  },
  {
   "cell_type": "markdown",
   "metadata": {},
   "source": [
    "# Thank You \n",
    "# By Krishna Narayan Singh \n",
    "# H2HBABBA2629  House gunther"
   ]
  }
 ],
 "metadata": {
  "kernelspec": {
   "display_name": "Python 3",
   "language": "python",
   "name": "python3"
  },
  "language_info": {
   "codemirror_mode": {
    "name": "ipython",
    "version": 3
   },
   "file_extension": ".py",
   "mimetype": "text/x-python",
   "name": "python",
   "nbconvert_exporter": "python",
   "pygments_lexer": "ipython3",
   "version": "3.7.6"
  }
 },
 "nbformat": 4,
 "nbformat_minor": 4
}
